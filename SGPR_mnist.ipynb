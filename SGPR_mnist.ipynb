{
 "cells": [
  {
   "cell_type": "code",
   "execution_count": 2,
   "metadata": {},
   "outputs": [],
   "source": [
    "import gpflow\n",
    "import tensorflow as tf\n",
    "import numpy as np\n",
    "import matplotlib.pyplot as plt\n",
    "import pandas as pd\n",
    "import sklearn \n",
    "from sklearn.utils.multiclass import unique_labels\n",
    "from sklearn.datasets import load_iris, load_diabetes, load_breast_cancer, load_digits\n",
    "from sklearn.model_selection import train_test_split\n",
    "from sklearn.preprocessing import OneHotEncoder\n",
    "from sklearn.metrics import accuracy_score\n",
    "import scipy\n",
    "\n",
    "rng = np.random.RandomState(123)\n",
    "tf.random.set_seed(42)"
   ]
  },
  {
   "cell_type": "code",
   "execution_count": 3,
   "metadata": {},
   "outputs": [],
   "source": [
    "def resort_data(X_test, *args):\n",
    "\n",
    "    X_test, *args = zip(*sorted(zip(X_test, *args)))\n",
    "\n",
    "    X_test = np.array(X_test)\n",
    "    \n",
    "    args = [np.array(arg) for arg in args]\n",
    "\n",
    "    return X_test, *args"
   ]
  },
  {
   "cell_type": "code",
   "execution_count": 4,
   "metadata": {},
   "outputs": [],
   "source": [
    "def load_1D_dataset(N_total=200, test_set_proportion=0.2):\n",
    "\n",
    "    def func(x):\n",
    "        return np.sin(x * 3 * 3.14) + 0.3 * np.cos(x * 9 * 3.14) + 0.5 * np.sin(x * 7 * 3.14)\n",
    "\n",
    "    N_tot = N_total  # Number of total input points (training and test)\n",
    "\n",
    "    X = rng.rand(N_tot, 1) * 2 - 1  # X values\n",
    "    Y = func(X) + 0.2 * rng.randn(N_tot, 1)  # Noisy Y values\n",
    "\n",
    "    # Split data into training and test sets\n",
    "    X_train, X_test, Y_train, Y_test = train_test_split(\n",
    "        X,\n",
    "        Y,\n",
    "        test_size=test_set_proportion,\n",
    "        random_state=88,\n",
    "        shuffle=True\n",
    "        )\n",
    "\n",
    "    X_test, Y_test = resort_data(X_test, Y_test)\n",
    "\n",
    "    return  X_train, X_test, Y_train, Y_test\n",
    "\n",
    "\n"
   ]
  },
  {
   "cell_type": "code",
   "execution_count": 6,
   "metadata": {},
   "outputs": [
    {
     "data": {
      "image/png": "[encoded data removed]",
      "text/plain": [
       "<Figure size 432x288 with 1 Axes>"
      ]
     },
     "metadata": {
      "needs_background": "light"
     },
     "output_type": "display_data"
    },
    {
     "name": "stdout",
     "output_type": "stream",
     "text": [
      "<class 'numpy.ndarray'>\n",
      "<class 'numpy.ndarray'>\n",
      "<class 'numpy.float64'>\n"
     ]
    }
   ],
   "source": [
    "\n",
    "def load_dataset(dataset=\"1D\"):\n",
    "\n",
    "    if dataset==\"1D\":\n",
    "        x_train, x_test, y_train, y_test = load_1D_dataset()\n",
    "        return x_train, x_test, y_train, y_test\n",
    "    elif dataset==\"mnist\":\n",
    "        (x_train, y_train), (x_test, y_test) = tf.keras.datasets.mnist.load_data()\n",
    "        assert x_train.shape == (60000, 28, 28)\n",
    "        assert x_test.shape == (10000, 28, 28)\n",
    "        assert y_train.shape == (60000,)\n",
    "        assert y_test.shape == (10000,)\n",
    "        x_train = x_train.reshape(60000, 784)/255\n",
    "        x_test = x_test.reshape(10000, 784)/255\n",
    "        \n",
    "    else:\n",
    "        if dataset==\"diabetes\":\n",
    "            data = load_diabetes()\n",
    "        if dataset==\"breast\":\n",
    "            data = load_breast_cancer()\n",
    "        if dataset==\"iris\":\n",
    "            data = load_iris()\n",
    "        if dataset==\"digits\":\n",
    "            data = load_digits()\n",
    "\n",
    "\n",
    "        y = data[\"target\"]\n",
    "        #y = np.array([float(y_one) for y_one in y])\n",
    "        X = data[\"data\"]\n",
    "        x_train, x_test, y_train, y_test = train_test_split(X, y, test_size=0.2, random_state=2)\n",
    "\n",
    "\n",
    "        \n",
    "        # print(C)\n",
    "\n",
    "\n",
    "    y_train = y_train.reshape(-1, 1)\n",
    "    y_test = y_test.reshape(-1, 1)\n",
    "\n",
    "    N = len(y_train)\n",
    "\n",
    "    if dataset== \"breast\" or \"iris\" or \"digits\" or \"mnist\":\n",
    "\n",
    "        C = len(unique_labels(y_train))\n",
    "        y_hot = np.zeros((N, C))\n",
    "        \n",
    "        y_hot = OneHotEncoder(handle_unknown='ignore').fit_transform(y_train).toarray()\n",
    "\n",
    "        # print(\"poo\")\n",
    "\n",
    "        #y_hot = y_hot.reshape(-1, 1)\n",
    "\n",
    "        return x_train, x_test, y_hot, y_test\n",
    "\n",
    "    else:\n",
    "\n",
    "        D = len(x_train[0])\n",
    "\n",
    "        return x_train, x_test, y_train, y_test\n",
    "\n",
    "\n",
    "x_train, x_test, y_train, y_test = load_dataset(dataset=\"mnist\")\n",
    "\n",
    "plt.imshow(x_train[1].reshape(28, 28), cmap='gray')\n",
    "plt.show()\n",
    "\n",
    "print(type(y_train[1]))\n",
    "print(type(x_train[1]))\n",
    "print(type(x_train[1,1]))\n",
    "\n"
   ]
  },
  {
   "cell_type": "code",
   "execution_count": 7,
   "metadata": {},
   "outputs": [],
   "source": [
    "def LPD_fn(Y_predict_mu, Y_predict_var, Y_test):\n",
    "    \"\"\"\n",
    "        Loss function - negative log validation density loss.\n",
    "\n",
    "    Args:\n",
    "        - X_train: Input values for training dataset\n",
    "        - Y_train: Output values for training dataset\n",
    "        - X_test: Input values for test dataset\n",
    "\n",
    "    Returns:\n",
    "        - Y_predict_mu: Predicted output values for inputs X_test\n",
    "        - Y_predict_var: The variances for Y_predict_mu\n",
    "\n",
    "    \n",
    "    \"\"\"\n",
    "\n",
    "    term_1 = np.log(Y_predict_var)\n",
    "    term_2 = ((Y_predict_mu - Y_test)**2)/(Y_predict_var)\n",
    "    term_3 = np.log(2*np.pi)\n",
    "    return np.sum(-0.5*(term_1+term_2+term_3))\n",
    "\n",
    "def MSE(Y_predict_mu, Y_predict_var, Y_test):\n",
    "    return np.mean((Y_predict_mu - Y_test)**2)"
   ]
  },
  {
   "cell_type": "code",
   "execution_count": 8,
   "metadata": {},
   "outputs": [
    {
     "name": "stderr",
     "output_type": "stream",
     "text": [
      "2022-04-13 14:15:03.059525: I tensorflow/core/platform/cpu_feature_guard.cc:142] This TensorFlow binary is optimized with oneAPI Deep Neural Network Library (oneDNN) to use the following CPU instructions in performance-critical operations:  AVX2 FMA\n",
      "To enable them in other operations, rebuild TensorFlow with the appropriate compiler flags.\n"
     ]
    },
    {
     "data": {
      "text/html": [
       "&lt;gpflow.models.sgpr.SGPR object at 0x7fd4c033e850&gt;\n",
       "<table>\n",
       "<thead>\n",
       "<tr><th>name                    </th><th>class    </th><th>transform       </th><th>prior  </th><th>trainable  </th><th>shape     </th><th>dtype  </th><th>value          </th></tr>\n",
       "</thead>\n",
       "<tbody>\n",
       "<tr><td>SGPR.kernel.variance    </td><td>Parameter</td><td>Softplus        </td><td>       </td><td>True       </td><td>()        </td><td>float64</td><td>1.0            </td></tr>\n",
       "<tr><td>SGPR.kernel.lengthscales</td><td>Parameter</td><td>Softplus        </td><td>       </td><td>True       </td><td>(784,)    </td><td>float64</td><td>[1., 1., 1.... </td></tr>\n",
       "<tr><td>SGPR.likelihood.variance</td><td>Parameter</td><td>Softplus + Shift</td><td>       </td><td>True       </td><td>()        </td><td>float64</td><td>1.0            </td></tr>\n",
       "<tr><td>SGPR.inducing_variable.Z</td><td>Parameter</td><td>Identity        </td><td>       </td><td>True       </td><td>(500, 784)</td><td>float64</td><td>[[0., 0., 0....</td></tr>\n",
       "</tbody>\n",
       "</table>"
      ],
      "text/plain": [
       "<gpflow.models.sgpr.SGPR object at 0x7fd4c033e850>\n",
       "╒══════════════════════════╤═══════════╤══════════════════╤═════════╤═════════════╤════════════╤═════════╤═════════════════╕\n",
       "│ name                     │ class     │ transform        │ prior   │ trainable   │ shape      │ dtype   │ value           │\n",
       "╞══════════════════════════╪═══════════╪══════════════════╪═════════╪═════════════╪════════════╪═════════╪═════════════════╡\n",
       "│ SGPR.kernel.variance     │ Parameter │ Softplus         │         │ True        │ ()         │ float64 │ 1.0             │\n",
       "├──────────────────────────┼───────────┼──────────────────┼─────────┼─────────────┼────────────┼─────────┼─────────────────┤\n",
       "│ SGPR.kernel.lengthscales │ Parameter │ Softplus         │         │ True        │ (784,)     │ float64 │ [1., 1., 1....  │\n",
       "├──────────────────────────┼───────────┼──────────────────┼─────────┼─────────────┼────────────┼─────────┼─────────────────┤\n",
       "│ SGPR.likelihood.variance │ Parameter │ Softplus + Shift │         │ True        │ ()         │ float64 │ 1.0             │\n",
       "├──────────────────────────┼───────────┼──────────────────┼─────────┼─────────────┼────────────┼─────────┼─────────────────┤\n",
       "│ SGPR.inducing_variable.Z │ Parameter │ Identity         │         │ True        │ (500, 784) │ float64 │ [[0., 0., 0.... │\n",
       "╘══════════════════════════╧═══════════╧══════════════════╧═════════╧═════════════╧════════════╧═════════╧═════════════════╛"
      ]
     },
     "execution_count": 8,
     "metadata": {},
     "output_type": "execute_result"
    }
   ],
   "source": [
    "M = 500\n",
    "\n",
    "Z_SGPR = x_train[:M, :].copy()\n",
    "\n",
    "kernel_GPR = gpflow.kernels.SquaredExponential(lengthscales=np.ones(len(x_train[0])))\n",
    "\n",
    "C = len(unique_labels(y_train))\n",
    "kernel = gpflow.kernels.SharedIndependent(\n",
    "    gpflow.kernels.SquaredExponential(lengthscales=np.ones(len(x_train[0]))), output_dim=C )\n",
    "\n",
    "\n",
    "m = gpflow.models.SGPR(\n",
    "    data=(x_train, y_train),\n",
    "    inducing_variable=Z_SGPR,\n",
    "    kernel=kernel_GPR,\n",
    "    num_latent_gps=C\n",
    "    )\n",
    "    \n",
    "m"
   ]
  },
  {
   "cell_type": "code",
   "execution_count": 9,
   "metadata": {},
   "outputs": [
    {
     "name": "stderr",
     "output_type": "stream",
     "text": [
      "2022-04-13 14:15:21.465642: W tensorflow/python/util/util.cc:348] Sets are not currently considered sequences, but this may change in the future, so consider avoiding using them.\n",
      "2022-04-13 14:15:24.368720: I tensorflow/compiler/mlir/mlir_graph_optimization_pass.cc:185] None of the MLIR Optimization Passes are enabled (registered 2)\n"
     ]
    },
    {
     "name": "stdout",
     "output_type": "stream",
     "text": [
      "[-735334.136980497, -471366.3153969726, -188686.63442991307, -165953.06194170302, -165412.6272010277, -164041.15685207787, -162045.07571322576, -161362.2709383365, -160967.57260241883, -160779.20568751596, -160683.2739181184, -160635.6702473511, -160614.83888788463, -160601.4746288841, -160594.33447111922, -160591.00591078837, -160589.44657581503, -160588.48023215937, -160588.03365699592, -160587.81169780385, -160587.7005155327, -160587.6460603744, -160587.61884439102, -160587.61816436128, -160587.6052413858, -160587.59853508516, -160587.59529240418, -160587.59365532792, -160587.59284037945, -160587.59243235464, -160587.5922284847]\n"
     ]
    },
    {
     "data": {
      "text/plain": [
       "[<matplotlib.lines.Line2D at 0x7fd49ad44400>]"
      ]
     },
     "execution_count": 9,
     "metadata": {},
     "output_type": "execute_result"
    },
    {
     "data": {
      "image/png": "[encoded data removed]",
      "text/plain": [
       "<Figure size 432x288 with 1 Axes>"
      ]
     },
     "metadata": {
      "needs_background": "light"
     },
     "output_type": "display_data"
    }
   ],
   "source": [
    "opt = gpflow.optimizers.Scipy()\n",
    "\n",
    "logs = []\n",
    "\n",
    "def log_opt(x):\n",
    "    logs.append(float(m.elbo()))\n",
    "    #logs.append(float(m.log_marginal_likelihood()))\n",
    "\n",
    "\n",
    "\n",
    "log = opt.minimize(\n",
    "    m.training_loss,\n",
    "    m.trainable_variables,\n",
    "    options=dict(maxiter=300),\n",
    "    callback=log_opt,\n",
    "    )\n",
    "\n",
    "print(logs)\n",
    "plt.plot(logs)"
   ]
  },
  {
   "cell_type": "code",
   "execution_count": 14,
   "metadata": {},
   "outputs": [
    {
     "data": {
      "text/html": [
       "&lt;gpflow.models.sgpr.SGPR object at 0x7fd4c033e850&gt;\n",
       "<table>\n",
       "<thead>\n",
       "<tr><th>name                    </th><th>class    </th><th>transform       </th><th>prior  </th><th>trainable  </th><th>shape     </th><th>dtype  </th><th>value                </th></tr>\n",
       "</thead>\n",
       "<tbody>\n",
       "<tr><td>SGPR.kernel.variance    </td><td>Parameter</td><td>Softplus        </td><td>       </td><td>True       </td><td>()        </td><td>float64</td><td>6.796623969883141e-11</td></tr>\n",
       "<tr><td>SGPR.kernel.lengthscales</td><td>Parameter</td><td>Softplus        </td><td>       </td><td>True       </td><td>(784,)    </td><td>float64</td><td>[1., 1., 1....       </td></tr>\n",
       "<tr><td>SGPR.likelihood.variance</td><td>Parameter</td><td>Softplus + Shift</td><td>       </td><td>True       </td><td>()        </td><td>float64</td><td>0.10000000001211917  </td></tr>\n",
       "<tr><td>SGPR.inducing_variable.Z</td><td>Parameter</td><td>Identity        </td><td>       </td><td>True       </td><td>(500, 784)</td><td>float64</td><td>[[0., 0., 0....      </td></tr>\n",
       "</tbody>\n",
       "</table>"
      ],
      "text/plain": [
       "<gpflow.models.sgpr.SGPR object at 0x7fd4c033e850>\n",
       "╒══════════════════════════╤═══════════╤══════════════════╤═════════╤═════════════╤════════════╤═════════╤═══════════════════════╕\n",
       "│ name                     │ class     │ transform        │ prior   │ trainable   │ shape      │ dtype   │ value                 │\n",
       "╞══════════════════════════╪═══════════╪══════════════════╪═════════╪═════════════╪════════════╪═════════╪═══════════════════════╡\n",
       "│ SGPR.kernel.variance     │ Parameter │ Softplus         │         │ True        │ ()         │ float64 │ 6.796623969883141e-11 │\n",
       "├──────────────────────────┼───────────┼──────────────────┼─────────┼─────────────┼────────────┼─────────┼───────────────────────┤\n",
       "│ SGPR.kernel.lengthscales │ Parameter │ Softplus         │         │ True        │ (784,)     │ float64 │ [1., 1., 1....        │\n",
       "├──────────────────────────┼───────────┼──────────────────┼─────────┼─────────────┼────────────┼─────────┼───────────────────────┤\n",
       "│ SGPR.likelihood.variance │ Parameter │ Softplus + Shift │         │ True        │ ()         │ float64 │ 0.10000000001211917   │\n",
       "├──────────────────────────┼───────────┼──────────────────┼─────────┼─────────────┼────────────┼─────────┼───────────────────────┤\n",
       "│ SGPR.inducing_variable.Z │ Parameter │ Identity         │         │ True        │ (500, 784) │ float64 │ [[0., 0., 0....       │\n",
       "╘══════════════════════════╧═══════════╧══════════════════╧═════════╧═════════════╧════════════╧═════════╧═══════════════════════╛"
      ]
     },
     "execution_count": 14,
     "metadata": {},
     "output_type": "execute_result"
    }
   ],
   "source": [
    "m"
   ]
  },
  {
   "cell_type": "code",
   "execution_count": 15,
   "metadata": {},
   "outputs": [],
   "source": [
    "y_pred, var = m.predict_y(x_test)\n"
   ]
  },
  {
   "cell_type": "code",
   "execution_count": 16,
   "metadata": {},
   "outputs": [
    {
     "name": "stdout",
     "output_type": "stream",
     "text": [
      "(10000, 784)\n",
      "(10000, 1)\n",
      "(10000, 10)\n",
      "(60000, 784)\n",
      "(60000, 10)\n"
     ]
    }
   ],
   "source": [
    "print(np.shape(x_test))\n",
    "print(np.shape(y_test))\n",
    "print(np.shape(y_pred))\n",
    "print(np.shape(x_train))\n",
    "print(np.shape(y_train))\n",
    "y_pred_labels = np.argmax(y_pred, axis=1).reshape(-1, 1)\n"
   ]
  },
  {
   "cell_type": "code",
   "execution_count": 19,
   "metadata": {},
   "outputs": [
    {
     "name": "stdout",
     "output_type": "stream",
     "text": [
      "0.8144\n"
     ]
    }
   ],
   "source": [
    "\n",
    "\n",
    "print(accuracy_score(y_test, y_pred_labels))"
   ]
  },
  {
   "cell_type": "code",
   "execution_count": 20,
   "metadata": {},
   "outputs": [
    {
     "name": "stdout",
     "output_type": "stream",
     "text": [
      "[[7 2 1 0 9 1 9 9 4 9 0 6 9 0 1 3 9 7 3 4]]\n",
      "[[7 2 1 0 4 1 4 9 5 9 0 6 9 0 1 5 9 7 3 4]]\n"
     ]
    }
   ],
   "source": [
    "\n",
    "\n",
    "print(y_pred_labels[:20].reshape(1,-1))\n",
    "print(y_test[:20].reshape(1,-1))"
   ]
  }
 ],
 "metadata": {
  "interpreter": {
   "hash": "e23cd63839a24d10844f2bf3826d14df851b4825174cb3cdb62e15bac83a1cc5"
  },
  "kernelspec": {
   "display_name": "Python 3.8.8 ('base')",
   "language": "python",
   "name": "python3"
  },
  "language_info": {
   "codemirror_mode": {
    "name": "ipython",
    "version": 3
   },
   "file_extension": ".py",
   "mimetype": "text/x-python",
   "name": "python",
   "nbconvert_exporter": "python",
   "pygments_lexer": "ipython3",
   "version": "3.8.8"
  },
  "orig_nbformat": 4
 },
 "nbformat": 4,
 "nbformat_minor": 2
}
