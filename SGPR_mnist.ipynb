{
 "cells": [
  {
   "cell_type": "markdown",
   "metadata": {},
   "source": [
    "### Load Libraries"
   ]
  },
  {
   "cell_type": "code",
   "execution_count": 1,
   "metadata": {},
   "outputs": [],
   "source": [
    "import gpflow\n",
    "import tensorflow as tf\n",
    "import numpy as np\n",
    "import matplotlib.pyplot as plt\n",
    "import pandas as pd\n",
    "import sklearn \n",
    "from sklearn.utils.multiclass import unique_labels\n",
    "from sklearn.datasets import load_iris, load_diabetes, load_breast_cancer, load_digits\n",
    "from sklearn.model_selection import train_test_split\n",
    "from sklearn.preprocessing import OneHotEncoder\n",
    "from sklearn.metrics import accuracy_score\n",
    "import scipy\n",
    "import time\n",
    "\n",
    "rng = np.random.RandomState(123)\n",
    "tf.random.set_seed(42)"
   ]
  },
  {
   "cell_type": "markdown",
   "metadata": {},
   "source": [
    "### Utility Functions"
   ]
  },
  {
   "cell_type": "code",
   "execution_count": 2,
   "metadata": {},
   "outputs": [],
   "source": [
    "\n",
    "def resort_data(X_test, *args):\n",
    "    \"\"\"\n",
    "    Function to resort data, such that they are in ascending order wrt X_test. Useful for plotting curves.\n",
    "\n",
    "    Args:\n",
    "        X_test (array)\n",
    "\n",
    "    Returns:\n",
    "        X_test reordered\n",
    "    \"\"\"\n",
    "\n",
    "\n",
    "    X_test, *args = zip(*sorted(zip(X_test, *args)))\n",
    "\n",
    "    X_test = np.array(X_test)\n",
    "    \n",
    "    args = [np.array(arg) for arg in args]\n",
    "\n",
    "    return X_test, *args"
   ]
  },
  {
   "cell_type": "code",
   "execution_count": 3,
   "metadata": {},
   "outputs": [],
   "source": [
    "## \n",
    "def load_1D_dataset(N_total=200, test_set_proportion=0.2):\n",
    "    \"\"\"\n",
    "    Function to load a customisable toy 1D regression dataset\n",
    "\n",
    "    Args:\n",
    "        N_total (int, optional): Total number of data points. Defaults to 200.\n",
    "        test_set_proportion (float, optional): Proportion of test point to all data points. Defaults to 0.2.\n",
    "    \"\"\"\n",
    "    \n",
    "    def func(x):\n",
    "        return np.sin(x * 3 * 3.14) + 0.3 * np.cos(x * 9 * 3.14) + 0.5 * np.sin(x * 7 * 3.14)\n",
    "\n",
    "    N_tot = N_total  # Number of total input points (training and test)\n",
    "\n",
    "    X = rng.rand(N_tot, 1) * 2 - 1  # X values\n",
    "    Y = func(X) + 0.2 * rng.randn(N_tot, 1)  # Noisy Y values\n",
    "\n",
    "    # Split data into training and test sets\n",
    "    X_train, X_test, Y_train, Y_test = train_test_split(\n",
    "        X,\n",
    "        Y,\n",
    "        test_size=test_set_proportion,\n",
    "        random_state=88,\n",
    "        shuffle=True\n",
    "        )\n",
    "\n",
    "    X_test, Y_test = resort_data(X_test, Y_test)\n",
    "\n",
    "    return  X_train, X_test, Y_train, Y_test\n",
    "\n",
    "\n"
   ]
  },
  {
   "cell_type": "code",
   "execution_count": 4,
   "metadata": {},
   "outputs": [],
   "source": [
    "\n",
    "def load_dataset(dataset=\"1D\", y_hot_encoding=True):\n",
    "    \"\"\"\n",
    "    Dataset loading utility function.\n",
    "\n",
    "    Args:\n",
    "        dataset (str, optional): the string of the dataset to be loaded. Defaults to \"1D\".\n",
    "\n",
    "    Returns:\n",
    "        Training and test outputs. One hot encoding for classification datasets.\n",
    "    \"\"\"\n",
    "    if dataset==\"1D\":\n",
    "        x_train, x_test, y_train, y_test = load_1D_dataset()\n",
    "        return x_train, x_test, y_train, y_test\n",
    "    elif dataset==\"mnist\":\n",
    "        (x_train, y_train), (x_test, y_test) = tf.keras.datasets.mnist.load_data()\n",
    "        assert x_train.shape == (60000, 28, 28)\n",
    "        assert x_test.shape == (10000, 28, 28)\n",
    "        assert y_train.shape == (60000,)\n",
    "        assert y_test.shape == (10000,)\n",
    "\n",
    "        # preprocessing\n",
    "        x_train = x_train.reshape(60000, 784)/255\n",
    "        x_test = x_test.reshape(10000, 784)/255\n",
    "        \n",
    "    else:\n",
    "        if dataset==\"diabetes\":\n",
    "            data = load_diabetes()\n",
    "        if dataset==\"breast\":\n",
    "            data = load_breast_cancer()\n",
    "        if dataset==\"iris\":\n",
    "            data = load_iris()\n",
    "        if dataset==\"digits\":\n",
    "            data = load_digits()\n",
    "\n",
    "\n",
    "        y = data[\"target\"]\n",
    "        #y = np.array([float(y_one) for y_one in y])\n",
    "        X = data[\"data\"]\n",
    "        x_train, x_test, y_train, y_test = train_test_split(X, y, test_size=0.2, random_state=2)\n",
    "\n",
    "\n",
    "        \n",
    "        # print(C)\n",
    "\n",
    "\n",
    "    y_train = y_train.reshape(-1, 1)\n",
    "    y_test = y_test.reshape(-1, 1)\n",
    "\n",
    "    N = len(y_train)\n",
    "\n",
    "    if (dataset==\"breast\" or \"iris\" or \"digits\" or \"mnist\") and y_hot_encoding==True:\n",
    "\n",
    "        C = len(unique_labels(y_train))\n",
    "        y_hot = np.zeros((N, C))\n",
    "        \n",
    "        y_hot = OneHotEncoder(handle_unknown='ignore').fit_transform(y_train).toarray()\n",
    "\n",
    "        # print(\"poo\")\n",
    "\n",
    "        #y_hot = y_hot.reshape(-1, 1)\n",
    "\n",
    "        return x_train, x_test, y_hot, y_test\n",
    "\n",
    "    else:\n",
    "\n",
    "        D = len(x_train[0])\n",
    "\n",
    "        return x_train, x_test, y_train, y_test\n",
    "\n",
    "\n"
   ]
  },
  {
   "cell_type": "code",
   "execution_count": 5,
   "metadata": {},
   "outputs": [],
   "source": [
    "def LPD_fn(Y_predict_mu, Y_predict_var, Y_test):\n",
    "    \"\"\"\n",
    "        Loss function - negative log validation density loss.\n",
    "\n",
    "    Args:\n",
    "        - X_train: Input values for training dataset\n",
    "        - Y_train: Output values for training dataset\n",
    "        - X_test: Input values for test dataset\n",
    "\n",
    "    Returns:\n",
    "        - Y_predict_mu: Predicted output values for inputs X_test\n",
    "        - Y_predict_var: The variances for Y_predict_mu\n",
    "\n",
    "    \n",
    "    \"\"\"\n",
    "\n",
    "    term_1 = np.log(Y_predict_var)\n",
    "    term_2 = ((Y_predict_mu - Y_test)**2)/(Y_predict_var)\n",
    "    term_3 = np.log(2*np.pi)\n",
    "    return np.sum(-0.5*(term_1+term_2+term_3))\n",
    "\n",
    "\n",
    "# ! this function doesnt make sense yet\n",
    "def MSE(Y_predict_mu, Y_predict_var, Y_test):\n",
    "    return np.mean((Y_predict_mu - Y_test)**2)"
   ]
  },
  {
   "cell_type": "code",
   "execution_count": 6,
   "metadata": {},
   "outputs": [],
   "source": [
    "class Stopwatch():\n",
    "\n",
    "    def __init__(self):\n",
    "        self.current_time = 0\n",
    "\n",
    "    def start(self):\n",
    "        self.start_time = time.time()\n",
    "        \n",
    "    def stop(self):\n",
    "        self.current_time += time.time()-self.start_time\n",
    "\n",
    "    def reset(self):\n",
    "        self.current_time = 0 \n",
    "        pass    \n",
    "\n",
    "    def read_time(self):\n",
    "        return self.current_time"
   ]
  },
  {
   "cell_type": "markdown",
   "metadata": {},
   "source": [
    "### Experiments"
   ]
  },
  {
   "cell_type": "markdown",
   "metadata": {},
   "source": [
    "##### SGPR"
   ]
  },
  {
   "cell_type": "code",
   "execution_count": 27,
   "metadata": {},
   "outputs": [
    {
     "data": {
      "image/png": "[encoded data removed]",
      "text/plain": [
       "<Figure size 432x288 with 1 Axes>"
      ]
     },
     "metadata": {
      "needs_background": "light"
     },
     "output_type": "display_data"
    },
    {
     "name": "stdout",
     "output_type": "stream",
     "text": [
      "<class 'numpy.ndarray'>\n",
      "<class 'numpy.ndarray'>\n",
      "<class 'numpy.float64'>\n"
     ]
    }
   ],
   "source": [
    "x_train, x_test, y_train, y_test = load_dataset(dataset=\"mnist\")\n",
    "\n",
    "plt.imshow(x_train[1].reshape(28, 28), cmap='gray')\n",
    "plt.show()\n",
    "\n",
    "print(type(y_train[1]))\n",
    "print(type(x_train[1]))\n",
    "print(type(x_train[1,1]))"
   ]
  },
  {
   "cell_type": "markdown",
   "metadata": {},
   "source": [
    "Initialising the model"
   ]
  },
  {
   "cell_type": "code",
   "execution_count": 60,
   "metadata": {},
   "outputs": [
    {
     "data": {
      "text/html": [
       "&lt;gpflow.models.sgpr.SGPR object at 0x7fb7974005e0&gt;\n",
       "<table>\n",
       "<thead>\n",
       "<tr><th>name                    </th><th>class    </th><th>transform       </th><th>prior  </th><th>trainable  </th><th>shape     </th><th>dtype  </th><th>value          </th></tr>\n",
       "</thead>\n",
       "<tbody>\n",
       "<tr><td>SGPR.kernel.variance    </td><td>Parameter</td><td>Softplus        </td><td>       </td><td>True       </td><td>()        </td><td>float64</td><td>1.0            </td></tr>\n",
       "<tr><td>SGPR.kernel.lengthscales</td><td>Parameter</td><td>Softplus        </td><td>       </td><td>True       </td><td>()        </td><td>float64</td><td>10.0           </td></tr>\n",
       "<tr><td>SGPR.likelihood.variance</td><td>Parameter</td><td>Softplus + Shift</td><td>       </td><td>True       </td><td>()        </td><td>float64</td><td>1.0            </td></tr>\n",
       "<tr><td>SGPR.inducing_variable.Z</td><td>Parameter</td><td>Identity        </td><td>       </td><td>True       </td><td>(100, 784)</td><td>float64</td><td>[[0., 0., 0....</td></tr>\n",
       "</tbody>\n",
       "</table>"
      ],
      "text/plain": [
       "<gpflow.models.sgpr.SGPR object at 0x7fb7974005e0>\n",
       "╒══════════════════════════╤═══════════╤══════════════════╤═════════╤═════════════╤════════════╤═════════╤═════════════════╕\n",
       "│ name                     │ class     │ transform        │ prior   │ trainable   │ shape      │ dtype   │ value           │\n",
       "╞══════════════════════════╪═══════════╪══════════════════╪═════════╪═════════════╪════════════╪═════════╪═════════════════╡\n",
       "│ SGPR.kernel.variance     │ Parameter │ Softplus         │         │ True        │ ()         │ float64 │ 1.0             │\n",
       "├──────────────────────────┼───────────┼──────────────────┼─────────┼─────────────┼────────────┼─────────┼─────────────────┤\n",
       "│ SGPR.kernel.lengthscales │ Parameter │ Softplus         │         │ True        │ ()         │ float64 │ 10.0            │\n",
       "├──────────────────────────┼───────────┼──────────────────┼─────────┼─────────────┼────────────┼─────────┼─────────────────┤\n",
       "│ SGPR.likelihood.variance │ Parameter │ Softplus + Shift │         │ True        │ ()         │ float64 │ 1.0             │\n",
       "├──────────────────────────┼───────────┼──────────────────┼─────────┼─────────────┼────────────┼─────────┼─────────────────┤\n",
       "│ SGPR.inducing_variable.Z │ Parameter │ Identity         │         │ True        │ (100, 784) │ float64 │ [[0., 0., 0.... │\n",
       "╘══════════════════════════╧═══════════╧══════════════════╧═════════╧═════════════╧════════════╧═════════╧═════════════════╛"
      ]
     },
     "execution_count": 60,
     "metadata": {},
     "output_type": "execute_result"
    }
   ],
   "source": [
    "\n",
    "#* Number of inducing points\n",
    "M = 100\n",
    "\n",
    "#* Random initialisation of inducing points\n",
    "Z_SGPR = x_train[:M, :].copy()\n",
    "\n",
    "#* Number of classes for a classification dataset\n",
    "C = len(unique_labels(y_train))\n",
    "\n",
    "\n",
    "#* ARD SE kernel\n",
    "kernel_ard = gpflow.kernels.SquaredExponential(lengthscales=np.ones(len(x_train[0])))\n",
    "#* SE kernel\n",
    "kernel = gpflow.kernels.SquaredExponential()\n",
    "\n",
    "\n",
    "#* Initialise the model\n",
    "m = gpflow.models.SGPR(\n",
    "    data=(x_train, y_train),\n",
    "    inducing_variable=Z_SGPR,\n",
    "    kernel=kernel,\n",
    "    )\n",
    "    \n",
    "\n",
    "#* Set trainable parameters\n",
    "gpflow.set_trainable(m.inducing_variable, True)\n",
    "\n",
    "#* Pick value for jitter\n",
    "jitter = 1e-3\n",
    "gpflow.config.set_default_jitter(jitter)\n",
    "\n",
    "\n",
    "#* Initialise hyperparams\n",
    "var_y = 1\n",
    "var_f = var_y\n",
    "kappa = 1\n",
    "var_n = var_f / kappa\n",
    "\n",
    "m.likelihood.variance.assign(var_n)\n",
    "m.kernel.variance.assign(var_y)\n",
    "m.kernel.lengthscales.assign(10)\n",
    "\n",
    "\n",
    "\n",
    "m"
   ]
  },
  {
   "cell_type": "markdown",
   "metadata": {},
   "source": [
    "Training the model by optimising the ELBO"
   ]
  },
  {
   "cell_type": "code",
   "execution_count": 61,
   "metadata": {},
   "outputs": [
    {
     "name": "stdout",
     "output_type": "stream",
     "text": [
      "Total time for optimisation: 219.9868359565735\n"
     ]
    }
   ],
   "source": [
    "# #-- Optimisation\n",
    "\n",
    "#* Optimiser object\n",
    "opt = gpflow.optimizers.Scipy()\n",
    "opt_adam = tf.optimizers.Adam(learning_rate=0.1)\n",
    "\n",
    "#* List for ELBO values during \n",
    "logs = []\n",
    "accuracies = []\n",
    "times = []\n",
    "\n",
    "watch = Stopwatch()\n",
    "watch.reset()\n",
    "\n",
    "def log_opt(x):\n",
    "    \"\"\"\n",
    "    Utility function to log the elbo score for each iteration during optimisaiton.\n",
    "\n",
    "    Args:\n",
    "        x\n",
    "    \"\"\"\n",
    "    watch.stop()\n",
    "    logs.append(float(m.elbo()))\n",
    "    times.append(watch.read_time())\n",
    "    y_pred, var = m.predict_y(x_test)\n",
    "    y_pred_labels = np.argmax(y_pred, axis=1).reshape(-1, 1)\n",
    "    accuracies.append(accuracy_score(y_test, y_pred_labels))\n",
    "    watch.start()\n",
    "    \n",
    "    # logs.append(float(m.log_marginal_likelihood()))\n",
    "\n",
    "def run_adam(iterations):\n",
    "    for i in range(iterations):\n",
    "        opt_adam.minimize(\n",
    "            m.training_loss,\n",
    "            m.trainable_variables,\n",
    "            )\n",
    "        log_opt(1)\n",
    "\n",
    "watch.start()  # --Start the watch\n",
    "\n",
    "\n",
    "#* Optimise\n",
    "# log = opt.minimize(\n",
    "#     m.training_loss,\n",
    "#     m.trainable_variables,\n",
    "#     options=dict(maxiter=300),\n",
    "#     callback=log_opt,\n",
    "#     )\n",
    "run_adam(100)\n",
    "\n",
    "\n",
    "watch.stop() # --Stop the watch for the final time\n",
    "print(\"Total time for optimisation:\", watch.read_time())\n",
    "\n"
   ]
  },
  {
   "cell_type": "code",
   "execution_count": 62,
   "metadata": {},
   "outputs": [
    {
     "data": {
      "image/png": "[encoded data removed]",
      "text/plain": [
       "<Figure size 432x288 with 1 Axes>"
      ]
     },
     "metadata": {
      "needs_background": "light"
     },
     "output_type": "display_data"
    },
    {
     "data": {
      "image/png": "[encoded data removed]",
      "text/plain": [
       "<Figure size 432x288 with 1 Axes>"
      ]
     },
     "metadata": {
      "needs_background": "light"
     },
     "output_type": "display_data"
    }
   ],
   "source": [
    "# print(logs)\n",
    "plt.figure()\n",
    "plt.plot(times, logs)\n",
    "plt.xlabel(\"Time /s\")\n",
    "plt.ylabel(\"ELBO\")\n",
    "plt.show()\n",
    "\n",
    "plt.figure()\n",
    "plt.plot(times, accuracies)\n",
    "plt.xlabel(\"Time /s\")\n",
    "plt.ylabel(\"Accuracy Score\")\n",
    "plt.show()"
   ]
  },
  {
   "cell_type": "code",
   "execution_count": 17,
   "metadata": {},
   "outputs": [
    {
     "name": "stdout",
     "output_type": "stream",
     "text": [
      "21\n"
     ]
    }
   ],
   "source": [
    "print(len(logs))"
   ]
  },
  {
   "cell_type": "code",
   "execution_count": 116,
   "metadata": {},
   "outputs": [
    {
     "data": {
      "text/html": [
       "&lt;gpflow.models.sgpr.SGPR object at 0x7f85abb304c0&gt;\n",
       "<table>\n",
       "<thead>\n",
       "<tr><th>name                    </th><th>class    </th><th>transform       </th><th>prior  </th><th>trainable  </th><th>shape      </th><th>dtype  </th><th>value               </th></tr>\n",
       "</thead>\n",
       "<tbody>\n",
       "<tr><td>SGPR.kernel.variance    </td><td>Parameter</td><td>Softplus        </td><td>       </td><td>True       </td><td>()         </td><td>float64</td><td>0.009226140657825859</td></tr>\n",
       "<tr><td>SGPR.kernel.lengthscales</td><td>Parameter</td><td>Softplus        </td><td>       </td><td>True       </td><td>()         </td><td>float64</td><td>6.117649089461928   </td></tr>\n",
       "<tr><td>SGPR.likelihood.variance</td><td>Parameter</td><td>Softplus + Shift</td><td>       </td><td>True       </td><td>()         </td><td>float64</td><td>0.018631413001187595</td></tr>\n",
       "<tr><td>SGPR.inducing_variable.Z</td><td>Parameter</td><td>Identity        </td><td>       </td><td>False      </td><td>(1000, 784)</td><td>float64</td><td>[[0., 0., 0....     </td></tr>\n",
       "</tbody>\n",
       "</table>"
      ],
      "text/plain": [
       "<gpflow.models.sgpr.SGPR object at 0x7f85abb304c0>\n",
       "╒══════════════════════════╤═══════════╤══════════════════╤═════════╤═════════════╤═════════════╤═════════╤══════════════════════╕\n",
       "│ name                     │ class     │ transform        │ prior   │ trainable   │ shape       │ dtype   │ value                │\n",
       "╞══════════════════════════╪═══════════╪══════════════════╪═════════╪═════════════╪═════════════╪═════════╪══════════════════════╡\n",
       "│ SGPR.kernel.variance     │ Parameter │ Softplus         │         │ True        │ ()          │ float64 │ 0.009226140657825859 │\n",
       "├──────────────────────────┼───────────┼──────────────────┼─────────┼─────────────┼─────────────┼─────────┼──────────────────────┤\n",
       "│ SGPR.kernel.lengthscales │ Parameter │ Softplus         │         │ True        │ ()          │ float64 │ 6.117649089461928    │\n",
       "├──────────────────────────┼───────────┼──────────────────┼─────────┼─────────────┼─────────────┼─────────┼──────────────────────┤\n",
       "│ SGPR.likelihood.variance │ Parameter │ Softplus + Shift │         │ True        │ ()          │ float64 │ 0.018631413001187595 │\n",
       "├──────────────────────────┼───────────┼──────────────────┼─────────┼─────────────┼─────────────┼─────────┼──────────────────────┤\n",
       "│ SGPR.inducing_variable.Z │ Parameter │ Identity         │         │ False       │ (1000, 784) │ float64 │ [[0., 0., 0....      │\n",
       "╘══════════════════════════╧═══════════╧══════════════════╧═════════╧═════════════╧═════════════╧═════════╧══════════════════════╛"
      ]
     },
     "execution_count": 116,
     "metadata": {},
     "output_type": "execute_result"
    }
   ],
   "source": [
    "# #-- Show the new model parameters\n",
    "m"
   ]
  },
  {
   "cell_type": "code",
   "execution_count": 117,
   "metadata": {},
   "outputs": [
    {
     "name": "stdout",
     "output_type": "stream",
     "text": [
      "tf.Tensor(302908.3678140197, shape=(), dtype=float64)\n"
     ]
    }
   ],
   "source": [
    "print(m.elbo())"
   ]
  },
  {
   "cell_type": "markdown",
   "metadata": {},
   "source": [
    "Making predictions"
   ]
  },
  {
   "cell_type": "code",
   "execution_count": 118,
   "metadata": {},
   "outputs": [
    {
     "name": "stdout",
     "output_type": "stream",
     "text": [
      "tf.Tensor(\n",
      "[[-0.02180869 -0.01871783 -0.00572968  0.00664324 -0.04052388  0.01313393\n",
      "   0.00787949  1.06132869  0.05770783 -0.05171545]\n",
      " [ 0.06165025 -0.09523178  0.68783787  0.19215618 -0.04555698 -0.0218745\n",
      "   0.21037257  0.0064164  -0.02666623  0.00434883]\n",
      " [ 0.00389339  0.96462501  0.00556539 -0.02839849  0.00391607  0.04538193\n",
      "   0.01367806 -0.00814623 -0.00747944  0.01121672]\n",
      " [ 0.93504778  0.01380227 -0.04284333  0.05176945  0.01351825 -0.00891388\n",
      "   0.05962564  0.0494236   0.00904066 -0.08610958]], shape=(4, 10), dtype=float64)\n",
      "(10000, 784)\n",
      "(10000, 1)\n",
      "(10000, 10)\n",
      "(60000, 784)\n",
      "(60000, 10)\n"
     ]
    }
   ],
   "source": [
    "y_pred, var = m.predict_y(x_test)\n",
    "\n",
    "print(y_pred[:4])\n",
    "\n",
    "print(np.shape(x_test))\n",
    "print(np.shape(y_test))\n",
    "print(np.shape(y_pred))\n",
    "print(np.shape(x_train))\n",
    "print(np.shape(y_train))\n"
   ]
  },
  {
   "cell_type": "code",
   "execution_count": 119,
   "metadata": {},
   "outputs": [
    {
     "name": "stdout",
     "output_type": "stream",
     "text": [
      "0.9525\n"
     ]
    }
   ],
   "source": [
    "y_pred_labels = np.argmax(y_pred, axis=1).reshape(-1, 1)\n",
    "# print(MSE(y_pred, var, y_test))\n",
    "# print(LPD_fn(y_pred, var, y_test))\n",
    "\n",
    "# //plt.scatter(x_test, y_pred)\n",
    "# //plt.scatter(x_train, y_train, color='black')\n",
    "# //plt.show()\n",
    "\n",
    "print(accuracy_score(y_test, y_pred_labels))"
   ]
  },
  {
   "cell_type": "code",
   "execution_count": 120,
   "metadata": {},
   "outputs": [
    {
     "name": "stdout",
     "output_type": "stream",
     "text": [
      "[[7 2 1 0 4 1 4 9 5 9 0 6 9 0 1 5 9 7 3 4]]\n",
      "[[7 2 1 0 4 1 4 9 5 9 0 6 9 0 1 5 9 7 3 4]]\n"
     ]
    }
   ],
   "source": [
    "\n",
    "print(y_pred_labels[:20].reshape(1,-1))\n",
    "print(y_test[:20].reshape(1,-1))"
   ]
  },
  {
   "cell_type": "markdown",
   "metadata": {},
   "source": [
    "##### SGPR - Tuning Hyperparams separately"
   ]
  },
  {
   "cell_type": "code",
   "execution_count": 196,
   "metadata": {},
   "outputs": [
    {
     "data": {
      "text/html": [
       "&lt;gpflow.models.sgpr.SGPR object at 0x7f85ab6904c0&gt;\n",
       "<table>\n",
       "<thead>\n",
       "<tr><th>name                    </th><th>class    </th><th>transform       </th><th>prior  </th><th>trainable  </th><th>shape     </th><th>dtype  </th><th>value          </th></tr>\n",
       "</thead>\n",
       "<tbody>\n",
       "<tr><td>SGPR.kernel.variance    </td><td>Parameter</td><td>Softplus        </td><td>       </td><td>True       </td><td>()        </td><td>float64</td><td>1.0            </td></tr>\n",
       "<tr><td>SGPR.kernel.lengthscales</td><td>Parameter</td><td>Softplus        </td><td>       </td><td>True       </td><td>()        </td><td>float64</td><td>10.0           </td></tr>\n",
       "<tr><td>SGPR.likelihood.variance</td><td>Parameter</td><td>Softplus + Shift</td><td>       </td><td>True       </td><td>()        </td><td>float64</td><td>1.0            </td></tr>\n",
       "<tr><td>SGPR.inducing_variable.Z</td><td>Parameter</td><td>Identity        </td><td>       </td><td>True       </td><td>(100, 784)</td><td>float64</td><td>[[0., 0., 0....</td></tr>\n",
       "</tbody>\n",
       "</table>"
      ],
      "text/plain": [
       "<gpflow.models.sgpr.SGPR object at 0x7f85ab6904c0>\n",
       "╒══════════════════════════╤═══════════╤══════════════════╤═════════╤═════════════╤════════════╤═════════╤═════════════════╕\n",
       "│ name                     │ class     │ transform        │ prior   │ trainable   │ shape      │ dtype   │ value           │\n",
       "╞══════════════════════════╪═══════════╪══════════════════╪═════════╪═════════════╪════════════╪═════════╪═════════════════╡\n",
       "│ SGPR.kernel.variance     │ Parameter │ Softplus         │         │ True        │ ()         │ float64 │ 1.0             │\n",
       "├──────────────────────────┼───────────┼──────────────────┼─────────┼─────────────┼────────────┼─────────┼─────────────────┤\n",
       "│ SGPR.kernel.lengthscales │ Parameter │ Softplus         │         │ True        │ ()         │ float64 │ 10.0            │\n",
       "├──────────────────────────┼───────────┼──────────────────┼─────────┼─────────────┼────────────┼─────────┼─────────────────┤\n",
       "│ SGPR.likelihood.variance │ Parameter │ Softplus + Shift │         │ True        │ ()         │ float64 │ 1.0             │\n",
       "├──────────────────────────┼───────────┼──────────────────┼─────────┼─────────────┼────────────┼─────────┼─────────────────┤\n",
       "│ SGPR.inducing_variable.Z │ Parameter │ Identity         │         │ True        │ (100, 784) │ float64 │ [[0., 0., 0.... │\n",
       "╘══════════════════════════╧═══════════╧══════════════════╧═════════╧═════════════╧════════════╧═════════╧═════════════════╛"
      ]
     },
     "execution_count": 196,
     "metadata": {},
     "output_type": "execute_result"
    }
   ],
   "source": [
    "#* Number of inducing points\n",
    "M = 100\n",
    "\n",
    "#* Random initialisation of inducing points\n",
    "Z_SGPR = x_train[:M, :].copy()\n",
    "\n",
    "#* Number of classes for a classification dataset\n",
    "C = len(unique_labels(y_train))\n",
    "\n",
    "\n",
    "#* ARD SE kernel\n",
    "kernel_ard = gpflow.kernels.SquaredExponential(lengthscales=np.ones(len(x_train[0])))\n",
    "#* SE kernel\n",
    "kernel = gpflow.kernels.SquaredExponential()\n",
    "\n",
    "\n",
    "#* Initialise the model\n",
    "m = gpflow.models.SGPR(\n",
    "    data=(x_train, y_train),\n",
    "    inducing_variable=Z_SGPR,\n",
    "    kernel=kernel,\n",
    "    )\n",
    "    \n",
    "\n",
    "#* Pick value for jitter\n",
    "jitter = 1e-3\n",
    "gpflow.config.set_default_jitter(jitter)\n",
    "\n",
    "\n",
    "#* Initialise hyperparams\n",
    "var_y = 1\n",
    "var_f = var_y\n",
    "kappa = 1\n",
    "var_n = var_f / kappa\n",
    "\n",
    "m.likelihood.variance.assign(var_n)\n",
    "m.kernel.variance.assign(var_y)\n",
    "m.kernel.lengthscales.assign(10)\n",
    "\n",
    "m"
   ]
  },
  {
   "cell_type": "code",
   "execution_count": 197,
   "metadata": {},
   "outputs": [
    {
     "data": {
      "image/png": "[encoded data removed]",
      "text/plain": [
       "<Figure size 432x288 with 1 Axes>"
      ]
     },
     "metadata": {
      "needs_background": "light"
     },
     "output_type": "display_data"
    }
   ],
   "source": [
    "# #-- Optimisation\n",
    "\n",
    "#* Optimiser object\n",
    "opt = gpflow.optimizers.Scipy()\n",
    "\n",
    "def log_opt(x):\n",
    "    \"\"\"\n",
    "    Utility function to log the elbo score for each iteration during optimisaiton.\n",
    "\n",
    "    Args:\n",
    "        x\n",
    "    \"\"\"\n",
    "    logs.append(float(m.elbo()))\n",
    "    # logs.append(float(m.log_marginal_likelihood()))\n",
    "\n",
    "#* List for ELBO values during \n",
    "logs = []\n",
    "\n",
    "# #-- Optimising kernel variance first (optimising lengthscale first didn't work well)\n",
    "\n",
    "#* Set trainable parameters\n",
    "gpflow.set_trainable(m.inducing_variable, False)\n",
    "gpflow.set_trainable(m.likelihood.variance, False)\n",
    "gpflow.set_trainable(m.kernel.lengthscales, False)\n",
    "gpflow.set_trainable(m.kernel.variance, True)\n",
    "\n",
    "#* Optimise\n",
    "log = opt.minimize(\n",
    "    m.training_loss,\n",
    "    m.trainable_variables,\n",
    "    options=dict(maxiter=30),\n",
    "    callback=log_opt,\n",
    "    )\n",
    "\n",
    "\n",
    "\n",
    "# #-- Optimisation 2\n",
    "\n",
    "opt_iter_2 = len(logs)\n",
    "\n",
    "#* Set trainable parameters\n",
    "gpflow.set_trainable(m.inducing_variable, False)\n",
    "gpflow.set_trainable(m.likelihood.variance, False)\n",
    "gpflow.set_trainable(m.kernel.lengthscales, True)\n",
    "gpflow.set_trainable(m.kernel.variance, False)\n",
    "\n",
    "#* Optimise\n",
    "log = opt.minimize(\n",
    "    m.training_loss,\n",
    "    m.trainable_variables,\n",
    "    options=dict(maxiter=30),\n",
    "    callback=log_opt,\n",
    "    )\n",
    "\n",
    "\n",
    "# #-- Optimisation 3\n",
    "\n",
    "opt_iter_3 = len(logs)\n",
    "\n",
    "#* Set trainable parameters\n",
    "gpflow.set_trainable(m.inducing_variable, False)\n",
    "gpflow.set_trainable(m.likelihood.variance, True)\n",
    "gpflow.set_trainable(m.kernel.lengthscales, False)\n",
    "gpflow.set_trainable(m.kernel.variance, False)\n",
    "\n",
    "#* Optimise\n",
    "log = opt.minimize(\n",
    "    m.training_loss,\n",
    "    m.trainable_variables,\n",
    "    options=dict(maxiter=30),\n",
    "    callback=log_opt,\n",
    "    )\n",
    "\n",
    "# print(logs)\n",
    "plt.plot(logs)\n",
    "#plt.vlines([opt_iter_2, opt_iter_3], np.min(logs), np.max(logs), alpha=0.3)\n",
    "plt.show()\n",
    "\n"
   ]
  },
  {
   "cell_type": "code",
   "execution_count": 190,
   "metadata": {},
   "outputs": [
    {
     "data": {
      "text/html": [
       "&lt;gpflow.models.sgpr.SGPR object at 0x7f84ac711ac0&gt;\n",
       "<table>\n",
       "<thead>\n",
       "<tr><th>name                    </th><th>class    </th><th>transform       </th><th>prior  </th><th>trainable  </th><th>shape     </th><th>dtype  </th><th>value               </th></tr>\n",
       "</thead>\n",
       "<tbody>\n",
       "<tr><td>SGPR.kernel.variance    </td><td>Parameter</td><td>Softplus        </td><td>       </td><td>False      </td><td>()        </td><td>float64</td><td>0.0449782462986858  </td></tr>\n",
       "<tr><td>SGPR.kernel.lengthscales</td><td>Parameter</td><td>Softplus        </td><td>       </td><td>False      </td><td>()        </td><td>float64</td><td>9.462215892347995   </td></tr>\n",
       "<tr><td>SGPR.likelihood.variance</td><td>Parameter</td><td>Softplus + Shift</td><td>       </td><td>True       </td><td>()        </td><td>float64</td><td>0.025803899670010406</td></tr>\n",
       "<tr><td>SGPR.inducing_variable.Z</td><td>Parameter</td><td>Identity        </td><td>       </td><td>False      </td><td>(500, 784)</td><td>float64</td><td>[[0., 0., 0....     </td></tr>\n",
       "</tbody>\n",
       "</table>"
      ],
      "text/plain": [
       "<gpflow.models.sgpr.SGPR object at 0x7f84ac711ac0>\n",
       "╒══════════════════════════╤═══════════╤══════════════════╤═════════╤═════════════╤════════════╤═════════╤══════════════════════╕\n",
       "│ name                     │ class     │ transform        │ prior   │ trainable   │ shape      │ dtype   │ value                │\n",
       "╞══════════════════════════╪═══════════╪══════════════════╪═════════╪═════════════╪════════════╪═════════╪══════════════════════╡\n",
       "│ SGPR.kernel.variance     │ Parameter │ Softplus         │         │ False       │ ()         │ float64 │ 0.0449782462986858   │\n",
       "├──────────────────────────┼───────────┼──────────────────┼─────────┼─────────────┼────────────┼─────────┼──────────────────────┤\n",
       "│ SGPR.kernel.lengthscales │ Parameter │ Softplus         │         │ False       │ ()         │ float64 │ 9.462215892347995    │\n",
       "├──────────────────────────┼───────────┼──────────────────┼─────────┼─────────────┼────────────┼─────────┼──────────────────────┤\n",
       "│ SGPR.likelihood.variance │ Parameter │ Softplus + Shift │         │ True        │ ()         │ float64 │ 0.025803899670010406 │\n",
       "├──────────────────────────┼───────────┼──────────────────┼─────────┼─────────────┼────────────┼─────────┼──────────────────────┤\n",
       "│ SGPR.inducing_variable.Z │ Parameter │ Identity         │         │ False       │ (500, 784) │ float64 │ [[0., 0., 0....      │\n",
       "╘══════════════════════════╧═══════════╧══════════════════╧═════════╧═════════════╧════════════╧═════════╧══════════════════════╛"
      ]
     },
     "execution_count": 190,
     "metadata": {},
     "output_type": "execute_result"
    }
   ],
   "source": [
    "m"
   ]
  },
  {
   "cell_type": "code",
   "execution_count": 191,
   "metadata": {},
   "outputs": [
    {
     "name": "stdout",
     "output_type": "stream",
     "text": [
      "0.9381\n"
     ]
    }
   ],
   "source": [
    "y_pred, var = m.predict_y(x_test)\n",
    "y_pred_labels = np.argmax(y_pred, axis=1).reshape(-1, 1)\n",
    "print(accuracy_score(y_test, y_pred_labels))"
   ]
  },
  {
   "cell_type": "markdown",
   "metadata": {},
   "source": [
    "##### SGPR - Hyperparameter search"
   ]
  },
  {
   "cell_type": "code",
   "execution_count": 25,
   "metadata": {},
   "outputs": [
    {
     "data": {
      "text/html": [
       "&lt;gpflow.models.sgpr.SGPR object at 0x7f85ab35f0a0&gt;\n",
       "<table>\n",
       "<thead>\n",
       "<tr><th>name                    </th><th>class    </th><th>transform       </th><th>prior  </th><th>trainable  </th><th>shape    </th><th>dtype  </th><th>value              </th></tr>\n",
       "</thead>\n",
       "<tbody>\n",
       "<tr><td>SGPR.kernel.variance    </td><td>Parameter</td><td>Softplus        </td><td>       </td><td>True       </td><td>()       </td><td>float64</td><td>0.10000000000000002</td></tr>\n",
       "<tr><td>SGPR.kernel.lengthscales</td><td>Parameter</td><td>Softplus        </td><td>       </td><td>True       </td><td>()       </td><td>float64</td><td>10.0               </td></tr>\n",
       "<tr><td>SGPR.likelihood.variance</td><td>Parameter</td><td>Softplus + Shift</td><td>       </td><td>True       </td><td>()       </td><td>float64</td><td>1.0                </td></tr>\n",
       "<tr><td>SGPR.inducing_variable.Z</td><td>Parameter</td><td>Identity        </td><td>       </td><td>True       </td><td>(50, 784)</td><td>float64</td><td>[[0., 0., 0....    </td></tr>\n",
       "</tbody>\n",
       "</table>"
      ],
      "text/plain": [
       "<gpflow.models.sgpr.SGPR object at 0x7f85ab35f0a0>\n",
       "╒══════════════════════════╤═══════════╤══════════════════╤═════════╤═════════════╤═══════════╤═════════╤═════════════════════╕\n",
       "│ name                     │ class     │ transform        │ prior   │ trainable   │ shape     │ dtype   │ value               │\n",
       "╞══════════════════════════╪═══════════╪══════════════════╪═════════╪═════════════╪═══════════╪═════════╪═════════════════════╡\n",
       "│ SGPR.kernel.variance     │ Parameter │ Softplus         │         │ True        │ ()        │ float64 │ 0.10000000000000002 │\n",
       "├──────────────────────────┼───────────┼──────────────────┼─────────┼─────────────┼───────────┼─────────┼─────────────────────┤\n",
       "│ SGPR.kernel.lengthscales │ Parameter │ Softplus         │         │ True        │ ()        │ float64 │ 10.0                │\n",
       "├──────────────────────────┼───────────┼──────────────────┼─────────┼─────────────┼───────────┼─────────┼─────────────────────┤\n",
       "│ SGPR.likelihood.variance │ Parameter │ Softplus + Shift │         │ True        │ ()        │ float64 │ 1.0                 │\n",
       "├──────────────────────────┼───────────┼──────────────────┼─────────┼─────────────┼───────────┼─────────┼─────────────────────┤\n",
       "│ SGPR.inducing_variable.Z │ Parameter │ Identity         │         │ True        │ (50, 784) │ float64 │ [[0., 0., 0....     │\n",
       "╘══════════════════════════╧═══════════╧══════════════════╧═════════╧═════════════╧═══════════╧═════════╧═════════════════════╛"
      ]
     },
     "execution_count": 25,
     "metadata": {},
     "output_type": "execute_result"
    }
   ],
   "source": [
    "\n",
    "#* Initialise the model\n",
    "m_search = gpflow.models.SGPR(\n",
    "    data=(x_train, y_train),\n",
    "    inducing_variable=Z_SGPR,\n",
    "    kernel=kernel,\n",
    "    )\n",
    "\n",
    "m_search"
   ]
  },
  {
   "cell_type": "code",
   "execution_count": 175,
   "metadata": {},
   "outputs": [
    {
     "data": {
      "image/png": "[encoded data removed]",
      "text/plain": [
       "<Figure size 432x288 with 1 Axes>"
      ]
     },
     "metadata": {
      "needs_background": "light"
     },
     "output_type": "display_data"
    },
    {
     "data": {
      "image/png": "[encoded data removed]",
      "text/plain": [
       "<Figure size 432x288 with 1 Axes>"
      ]
     },
     "metadata": {
      "needs_background": "light"
     },
     "output_type": "display_data"
    }
   ],
   "source": [
    "\n",
    "var_range = [1e-2, 1e-3];\n",
    "\n",
    "noise_range = np.geomspace(0.005, 0.16, 21)\n",
    "\n",
    "len_range = np.linspace(1, 10, 20)\n",
    "\n",
    "elbos = []\n",
    "for var_y in var_range:\n",
    "\n",
    "    elbo_y = []\n",
    "    m_search.kernel.variance.assign(var_y)\n",
    "    \n",
    "    for var_n in noise_range:\n",
    "        m_search.likelihood.variance.assign(var_n)\n",
    "        elbo_n = []\n",
    "        for lengthscale in len_range:\n",
    "            m_search.kernel.lengthscales.assign(lengthscale)\n",
    "            elbo_l = m_search.elbo()\n",
    "            elbo_n.append(elbo_l)\n",
    "        elbo_y.append(elbo_n)\n",
    "    elbos.append(elbo_y)\n",
    "    plt.imshow(np.cbrt(elbo_y))\n",
    "    plt.xlabel(\"kernel lengthscale\")\n",
    "    plt.title(\"Variance {}\".format(var_y))\n",
    "    plt.ylabel(\"noise variance\")\n",
    "    plt.show()"
   ]
  },
  {
   "cell_type": "code",
   "execution_count": 29,
   "metadata": {},
   "outputs": [
    {
     "name": "stdout",
     "output_type": "stream",
     "text": [
      "[[[<tf.Tensor: shape=(), dtype=float64, numpy=-6692094.013508705>, <tf.Tensor: shape=(), dtype=float64, numpy=-6692094.013449048>, <tf.Tensor: shape=(), dtype=float64, numpy=-6692094.013453133>, <tf.Tensor: shape=(), dtype=float64, numpy=-6692094.01345414>, <tf.Tensor: shape=(), dtype=float64, numpy=-6692094.013451904>, <tf.Tensor: shape=(), dtype=float64, numpy=-6692094.013452311>, <tf.Tensor: shape=(), dtype=float64, numpy=-6692094.013452652>, <tf.Tensor: shape=(), dtype=float64, numpy=-6692094.013452495>, <tf.Tensor: shape=(), dtype=float64, numpy=-6692094.013452566>, <tf.Tensor: shape=(), dtype=float64, numpy=-6692094.013452586>, <tf.Tensor: shape=(), dtype=float64, numpy=-6692094.013452569>, <tf.Tensor: shape=(), dtype=float64, numpy=-6692094.01344574>, <tf.Tensor: shape=(), dtype=float64, numpy=-6692093.739413822>, <tf.Tensor: shape=(), dtype=float64, numpy=-6692044.050914635>, <tf.Tensor: shape=(), dtype=float64, numpy=-6684722.908541184>, <tf.Tensor: shape=(), dtype=float64, numpy=-6449274.18445116>, <tf.Tensor: shape=(), dtype=float64, numpy=-5196566.083661838>, <tf.Tensor: shape=(), dtype=float64, numpy=-2410732.700873963>, <tf.Tensor: shape=(), dtype=float64, numpy=-2077556.7586337635>, <tf.Tensor: shape=(), dtype=float64, numpy=-2222832.6215133914>], [<tf.Tensor: shape=(), dtype=float64, numpy=-4813260.287190534>, <tf.Tensor: shape=(), dtype=float64, numpy=-4813260.287148477>, <tf.Tensor: shape=(), dtype=float64, numpy=-4813260.287151357>, <tf.Tensor: shape=(), dtype=float64, numpy=-4813260.287152067>, <tf.Tensor: shape=(), dtype=float64, numpy=-4813260.28715049>, <tf.Tensor: shape=(), dtype=float64, numpy=-4813260.287150777>, <tf.Tensor: shape=(), dtype=float64, numpy=-4813260.287151017>, <tf.Tensor: shape=(), dtype=float64, numpy=-4813260.287150907>, <tf.Tensor: shape=(), dtype=float64, numpy=-4813260.287150957>, <tf.Tensor: shape=(), dtype=float64, numpy=-4813260.287150971>, <tf.Tensor: shape=(), dtype=float64, numpy=-4813260.2871509595>, <tf.Tensor: shape=(), dtype=float64, numpy=-4813260.287146659>, <tf.Tensor: shape=(), dtype=float64, numpy=-4813260.114511942>, <tf.Tensor: shape=(), dtype=float64, numpy=-4813228.702270673>, <tf.Tensor: shape=(), dtype=float64, numpy=-4808511.922310721>, <tf.Tensor: shape=(), dtype=float64, numpy=-4636329.853515134>, <tf.Tensor: shape=(), dtype=float64, numpy=-3740744.6491100057>, <tf.Tensor: shape=(), dtype=float64, numpy=-1631147.6553328293>, <tf.Tensor: shape=(), dtype=float64, numpy=-1370255.422008281>, <tf.Tensor: shape=(), dtype=float64, numpy=-1480915.572649174>], [<tf.Tensor: shape=(), dtype=float64, numpy=-3430128.810365174>, <tf.Tensor: shape=(), dtype=float64, numpy=-3430128.810336627>, <tf.Tensor: shape=(), dtype=float64, numpy=-3430128.810338582>, <tf.Tensor: shape=(), dtype=float64, numpy=-3430128.810339064>, <tf.Tensor: shape=(), dtype=float64, numpy=-3430128.810337994>, <tf.Tensor: shape=(), dtype=float64, numpy=-3430128.810338189>, <tf.Tensor: shape=(), dtype=float64, numpy=-3430128.810338352>, <tf.Tensor: shape=(), dtype=float64, numpy=-3430128.8103382774>, <tf.Tensor: shape=(), dtype=float64, numpy=-3430128.8103383104>, <tf.Tensor: shape=(), dtype=float64, numpy=-3430128.81033832>, <tf.Tensor: shape=(), dtype=float64, numpy=-3430128.810338312>, <tf.Tensor: shape=(), dtype=float64, numpy=-3430128.810335656>, <tf.Tensor: shape=(), dtype=float64, numpy=-3430128.7037050654>, <tf.Tensor: shape=(), dtype=float64, numpy=-3430109.2384675913>, <tf.Tensor: shape=(), dtype=float64, numpy=-3427132.752510524>, <tf.Tensor: shape=(), dtype=float64, numpy=-3302101.9107212764>, <tf.Tensor: shape=(), dtype=float64, numpy=-2665818.6937843687>, <tf.Tensor: shape=(), dtype=float64, numpy=-1069054.7540220772>, <tf.Tensor: shape=(), dtype=float64, numpy=-862933.65105386>, <tf.Tensor: shape=(), dtype=float64, numpy=-947320.5555953757>], [<tf.Tensor: shape=(), dtype=float64, numpy=-2417714.93758428>, <tf.Tensor: shape=(), dtype=float64, numpy=-2417714.937565568>, <tf.Tensor: shape=(), dtype=float64, numpy=-2417714.937566849>, <tf.Tensor: shape=(), dtype=float64, numpy=-2417714.9375671647>, <tf.Tensor: shape=(), dtype=float64, numpy=-2417714.9375664634>, <tf.Tensor: shape=(), dtype=float64, numpy=-2417714.9375665914>, <tf.Tensor: shape=(), dtype=float64, numpy=-2417714.937566698>, <tf.Tensor: shape=(), dtype=float64, numpy=-2417714.9375666496>, <tf.Tensor: shape=(), dtype=float64, numpy=-2417714.937566671>, <tf.Tensor: shape=(), dtype=float64, numpy=-2417714.9375666776>, <tf.Tensor: shape=(), dtype=float64, numpy=-2417714.937566672>, <tf.Tensor: shape=(), dtype=float64, numpy=-2417714.9375650613>, <tf.Tensor: shape=(), dtype=float64, numpy=-2417714.872879479>, <tf.Tensor: shape=(), dtype=float64, numpy=-2417703.0303836837>, <tf.Tensor: shape=(), dtype=float64, numpy=-2415861.511760787>, <tf.Tensor: shape=(), dtype=float64, numpy=-2325863.637323623>, <tf.Tensor: shape=(), dtype=float64, numpy=-1876354.4541354235>, <tf.Tensor: shape=(), dtype=float64, numpy=-669463.0686395239>, <tf.Tensor: shape=(), dtype=float64, numpy=-505126.63286731916>, <tf.Tensor: shape=(), dtype=float64, numpy=-569510.952793975>], [<tf.Tensor: shape=(), dtype=float64, numpy=-1682550.326793285>, <tf.Tensor: shape=(), dtype=float64, numpy=-1682550.3267813916>, <tf.Tensor: shape=(), dtype=float64, numpy=-1682550.326782206>, <tf.Tensor: shape=(), dtype=float64, numpy=-1682550.3267824068>, <tf.Tensor: shape=(), dtype=float64, numpy=-1682550.3267819611>, <tf.Tensor: shape=(), dtype=float64, numpy=-1682550.3267820422>, <tf.Tensor: shape=(), dtype=float64, numpy=-1682550.3267821097>, <tf.Tensor: shape=(), dtype=float64, numpy=-1682550.3267820794>, <tf.Tensor: shape=(), dtype=float64, numpy=-1682550.326782093>, <tf.Tensor: shape=(), dtype=float64, numpy=-1682550.3267820966>, <tf.Tensor: shape=(), dtype=float64, numpy=-1682550.3267820934>, <tf.Tensor: shape=(), dtype=float64, numpy=-1682550.3267811323>, <tf.Tensor: shape=(), dtype=float64, numpy=-1682550.2881589094>, <tf.Tensor: shape=(), dtype=float64, numpy=-1682543.1995621687>, <tf.Tensor: shape=(), dtype=float64, numpy=-1681424.335444382>, <tf.Tensor: shape=(), dtype=float64, numpy=-1617333.2470961264>, <tf.Tensor: shape=(), dtype=float64, numpy=-1301249.9498723345>, <tf.Tensor: shape=(), dtype=float64, numpy=-391269.7400581107>, <tf.Tensor: shape=(), dtype=float64, numpy=-259098.26439916098>, <tf.Tensor: shape=(), dtype=float64, numpy=-308200.79910743714>], [<tf.Tensor: shape=(), dtype=float64, numpy=-1154733.6793655944>, <tf.Tensor: shape=(), dtype=float64, numpy=-1154733.6793582318>, <tf.Tensor: shape=(), dtype=float64, numpy=-1154733.6793587357>, <tf.Tensor: shape=(), dtype=float64, numpy=-1154733.67935886>, <tf.Tensor: shape=(), dtype=float64, numpy=-1154733.6793585839>, <tf.Tensor: shape=(), dtype=float64, numpy=-1154733.6793586342>, <tf.Tensor: shape=(), dtype=float64, numpy=-1154733.679358676>, <tf.Tensor: shape=(), dtype=float64, numpy=-1154733.6793586574>, <tf.Tensor: shape=(), dtype=float64, numpy=-1154733.6793586658>, <tf.Tensor: shape=(), dtype=float64, numpy=-1154733.6793586682>, <tf.Tensor: shape=(), dtype=float64, numpy=-1154733.6793586663>, <tf.Tensor: shape=(), dtype=float64, numpy=-1154733.6793581>, <tf.Tensor: shape=(), dtype=float64, numpy=-1154733.6566080898>, <tf.Tensor: shape=(), dtype=float64, numpy=-1154729.4723600377>, <tf.Tensor: shape=(), dtype=float64, numpy=-1154060.4868091852>, <tf.Tensor: shape=(), dtype=float64, numpy=-1108997.5123200235>, <tf.Tensor: shape=(), dtype=float64, numpy=-887484.3784319429>, <tf.Tensor: shape=(), dtype=float64, numpy=-203767.61237360712>, <tf.Tensor: shape=(), dtype=float64, numpy=-96631.67647519556>, <tf.Tensor: shape=(), dtype=float64, numpy=-134018.26608704636>], [<tf.Tensor: shape=(), dtype=float64, numpy=-781987.3500302505>, <tf.Tensor: shape=(), dtype=float64, numpy=-781987.3500257918>, <tf.Tensor: shape=(), dtype=float64, numpy=-781987.3500260973>, <tf.Tensor: shape=(), dtype=float64, numpy=-781987.3500261722>, <tf.Tensor: shape=(), dtype=float64, numpy=-781987.3500260051>, <tf.Tensor: shape=(), dtype=float64, numpy=-781987.3500260356>, <tf.Tensor: shape=(), dtype=float64, numpy=-781987.350026061>, <tf.Tensor: shape=(), dtype=float64, numpy=-781987.3500260493>, <tf.Tensor: shape=(), dtype=float64, numpy=-781987.3500260547>, <tf.Tensor: shape=(), dtype=float64, numpy=-781987.350026056>, <tf.Tensor: shape=(), dtype=float64, numpy=-781987.3500260549>, <tf.Tensor: shape=(), dtype=float64, numpy=-781987.3500257252>, <tf.Tensor: shape=(), dtype=float64, numpy=-781987.3367750718>, <tf.Tensor: shape=(), dtype=float64, numpy=-781984.895476383>, <tf.Tensor: shape=(), dtype=float64, numpy=-781590.355000764>, <tf.Tensor: shape=(), dtype=float64, numpy=-750373.4519797418>, <tf.Tensor: shape=(), dtype=float64, numpy=-595439.9423234301>, <tf.Tensor: shape=(), dtype=float64, numpy=-84030.61313587788>, <tf.Tensor: shape=(), dtype=float64, numpy=3369.7307198721683>, <tf.Tensor: shape=(), dtype=float64, numpy=-25009.414783580345>], [<tf.Tensor: shape=(), dtype=float64, numpy=-525213.5192676962>, <tf.Tensor: shape=(), dtype=float64, numpy=-525213.5192650438>, <tf.Tensor: shape=(), dtype=float64, numpy=-525213.5192652254>, <tf.Tensor: shape=(), dtype=float64, numpy=-525213.5192652702>, <tf.Tensor: shape=(), dtype=float64, numpy=-525213.5192651708>, <tf.Tensor: shape=(), dtype=float64, numpy=-525213.5192651888>, <tf.Tensor: shape=(), dtype=float64, numpy=-525213.519265204>, <tf.Tensor: shape=(), dtype=float64, numpy=-525213.519265197>, <tf.Tensor: shape=(), dtype=float64, numpy=-525213.5192652002>, <tf.Tensor: shape=(), dtype=float64, numpy=-525213.5192652012>, <tf.Tensor: shape=(), dtype=float64, numpy=-525213.5192652002>, <tf.Tensor: shape=(), dtype=float64, numpy=-525213.5192650101>, <tf.Tensor: shape=(), dtype=float64, numpy=-525213.5116174471>, <tf.Tensor: shape=(), dtype=float64, numpy=-525212.1006821268>, <tf.Tensor: shape=(), dtype=float64, numpy=-524982.0652566593>, <tf.Tensor: shape=(), dtype=float64, numpy=-503718.0663722999>, <tf.Tensor: shape=(), dtype=float64, numpy=-395424.11694718373>, <tf.Tensor: shape=(), dtype=float64, numpy=-14954.487802248215>, <tf.Tensor: shape=(), dtype=float64, numpy=56675.399453477585>, <tf.Tensor: shape=(), dtype=float64, numpy=35231.176106283674>], [<tf.Tensor: shape=(), dtype=float64, numpy=-355171.31170557404>, <tf.Tensor: shape=(), dtype=float64, numpy=-355171.3117040186>, <tf.Tensor: shape=(), dtype=float64, numpy=-355171.311704125>, <tf.Tensor: shape=(), dtype=float64, numpy=-355171.3117041512>, <tf.Tensor: shape=(), dtype=float64, numpy=-355171.311704093>, <tf.Tensor: shape=(), dtype=float64, numpy=-355171.3117041037>, <tf.Tensor: shape=(), dtype=float64, numpy=-355171.31170411257>, <tf.Tensor: shape=(), dtype=float64, numpy=-355171.3117041085>, <tf.Tensor: shape=(), dtype=float64, numpy=-355171.31170411024>, <tf.Tensor: shape=(), dtype=float64, numpy=-355171.3117041108>, <tf.Tensor: shape=(), dtype=float64, numpy=-355171.31170411035>, <tf.Tensor: shape=(), dtype=float64, numpy=-355171.3117040014>, <tf.Tensor: shape=(), dtype=float64, numpy=-355171.30732228956>, <tf.Tensor: shape=(), dtype=float64, numpy=-355170.4980360039>, <tf.Tensor: shape=(), dtype=float64, numpy=-355037.6215134511>, <tf.Tensor: shape=(), dtype=float64, numpy=-340819.2968958566>, <tf.Tensor: shape=(), dtype=float64, numpy=-265103.2787970721>, <tf.Tensor: shape=(), dtype=float64, numpy=16212.388403264224>, <tf.Tensor: shape=(), dtype=float64, numpy=75068.60860199336>, <tf.Tensor: shape=(), dtype=float64, numpy=58961.079994103755>], [<tf.Tensor: shape=(), dtype=float64, numpy=-249991.87555376592>, <tf.Tensor: shape=(), dtype=float64, numpy=-249991.8755528637>, <tf.Tensor: shape=(), dtype=float64, numpy=-249991.8755529255>, <tf.Tensor: shape=(), dtype=float64, numpy=-249991.87555294076>, <tf.Tensor: shape=(), dtype=float64, numpy=-249991.8755529069>, <tf.Tensor: shape=(), dtype=float64, numpy=-249991.87555291306>, <tf.Tensor: shape=(), dtype=float64, numpy=-249991.87555291818>, <tf.Tensor: shape=(), dtype=float64, numpy=-249991.87555291585>, <tf.Tensor: shape=(), dtype=float64, numpy=-249991.8755529169>, <tf.Tensor: shape=(), dtype=float64, numpy=-249991.87555291713>, <tf.Tensor: shape=(), dtype=float64, numpy=-249991.8755529169>, <tf.Tensor: shape=(), dtype=float64, numpy=-249991.87555285497>, <tf.Tensor: shape=(), dtype=float64, numpy=-249991.87305666227>, <tf.Tensor: shape=(), dtype=float64, numpy=-249991.41162602778>, <tf.Tensor: shape=(), dtype=float64, numpy=-249915.22742441576>, <tf.Tensor: shape=(), dtype=float64, numpy=-240593.96442523063>, <tf.Tensor: shape=(), dtype=float64, numpy=-187619.27705109923>, <tf.Tensor: shape=(), dtype=float64, numpy=18970.862577581487>, <tf.Tensor: shape=(), dtype=float64, numpy=67350.4174326128>, <tf.Tensor: shape=(), dtype=float64, numpy=55339.24663790694>], [<tf.Tensor: shape=(), dtype=float64, numpy=-193319.9630375211>, <tf.Tensor: shape=(), dtype=float64, numpy=-193319.96303700242>, <tf.Tensor: shape=(), dtype=float64, numpy=-193319.96303703793>, <tf.Tensor: shape=(), dtype=float64, numpy=-193319.9630370469>, <tf.Tensor: shape=(), dtype=float64, numpy=-193319.96303702728>, <tf.Tensor: shape=(), dtype=float64, numpy=-193319.96303703065>, <tf.Tensor: shape=(), dtype=float64, numpy=-193319.96303703368>, <tf.Tensor: shape=(), dtype=float64, numpy=-193319.96303703234>, <tf.Tensor: shape=(), dtype=float64, numpy=-193319.96303703293>, <tf.Tensor: shape=(), dtype=float64, numpy=-193319.9630370331>, <tf.Tensor: shape=(), dtype=float64, numpy=-193319.96303703298>, <tf.Tensor: shape=(), dtype=float64, numpy=-193319.96303699777>, <tf.Tensor: shape=(), dtype=float64, numpy=-193319.96162126417>, <tf.Tensor: shape=(), dtype=float64, numpy=-193319.69974536373>, <tf.Tensor: shape=(), dtype=float64, numpy=-193276.27539387875>, <tf.Tensor: shape=(), dtype=float64, numpy=-187288.25813808962>, <tf.Tensor: shape=(), dtype=float64, numpy=-150209.15337097977>, <tf.Tensor: shape=(), dtype=float64, numpy=396.92755638516974>, <tf.Tensor: shape=(), dtype=float64, numpy=40092.067685855785>, <tf.Tensor: shape=(), dtype=float64, numpy=31211.148489144165>], [<tf.Tensor: shape=(), dtype=float64, numpy=-172923.98830403778>, <tf.Tensor: shape=(), dtype=float64, numpy=-172923.98830374156>, <tf.Tensor: shape=(), dtype=float64, numpy=-172923.9883037618>, <tf.Tensor: shape=(), dtype=float64, numpy=-172923.98830376676>, <tf.Tensor: shape=(), dtype=float64, numpy=-172923.98830375576>, <tf.Tensor: shape=(), dtype=float64, numpy=-172923.98830375774>, <tf.Tensor: shape=(), dtype=float64, numpy=-172923.98830375948>, <tf.Tensor: shape=(), dtype=float64, numpy=-172923.9883037586>, <tf.Tensor: shape=(), dtype=float64, numpy=-172923.98830375908>, <tf.Tensor: shape=(), dtype=float64, numpy=-172923.98830375902>, <tf.Tensor: shape=(), dtype=float64, numpy=-172923.98830375908>, <tf.Tensor: shape=(), dtype=float64, numpy=-172923.98830373917>, <tf.Tensor: shape=(), dtype=float64, numpy=-172923.98750353826>, <tf.Tensor: shape=(), dtype=float64, numpy=-172923.83941142663>, <tf.Tensor: shape=(), dtype=float64, numpy=-172899.20061002293>, <tf.Tensor: shape=(), dtype=float64, numpy=-169129.05668324488>, <tf.Tensor: shape=(), dtype=float64, numpy=-143189.88748511818>, <tf.Tensor: shape=(), dtype=float64, numpy=-34239.83058010909>, <tf.Tensor: shape=(), dtype=float64, numpy=-1800.976066847914>, <tf.Tensor: shape=(), dtype=float64, numpy=-8304.549378554162>], [<tf.Tensor: shape=(), dtype=float64, numpy=-179656.44432173079>, <tf.Tensor: shape=(), dtype=float64, numpy=-179656.44432156254>, <tf.Tensor: shape=(), dtype=float64, numpy=-179656.44432157403>, <tf.Tensor: shape=(), dtype=float64, numpy=-179656.4443215768>, <tf.Tensor: shape=(), dtype=float64, numpy=-179656.44432157057>, <tf.Tensor: shape=(), dtype=float64, numpy=-179656.44432157167>, <tf.Tensor: shape=(), dtype=float64, numpy=-179656.44432157272>, <tf.Tensor: shape=(), dtype=float64, numpy=-179656.4443215722>, <tf.Tensor: shape=(), dtype=float64, numpy=-179656.44432157237>, <tf.Tensor: shape=(), dtype=float64, numpy=-179656.44432157243>, <tf.Tensor: shape=(), dtype=float64, numpy=-179656.44432157237>, <tf.Tensor: shape=(), dtype=float64, numpy=-179656.44432156128>, <tf.Tensor: shape=(), dtype=float64, numpy=-179656.44387045281>, <tf.Tensor: shape=(), dtype=float64, numpy=-179656.36035236585>, <tf.Tensor: shape=(), dtype=float64, numpy=-179642.42947938835>, <tf.Tensor: shape=(), dtype=float64, numpy=-177313.7766852445>, <tf.Tensor: shape=(), dtype=float64, numpy=-159206.01870856347>, <tf.Tensor: shape=(), dtype=float64, numpy=-81013.7120323373>, <tf.Tensor: shape=(), dtype=float64, numpy=-54666.582868423226>, <tf.Tensor: shape=(), dtype=float64, numpy=-59378.239221345895>], [<tf.Tensor: shape=(), dtype=float64, numpy=-206676.36433608478>, <tf.Tensor: shape=(), dtype=float64, numpy=-206676.3643359896>, <tf.Tensor: shape=(), dtype=float64, numpy=-206676.3643359961>, <tf.Tensor: shape=(), dtype=float64, numpy=-206676.3643359977>, <tf.Tensor: shape=(), dtype=float64, numpy=-206676.36433599406>, <tf.Tensor: shape=(), dtype=float64, numpy=-206676.36433599482>, <tf.Tensor: shape=(), dtype=float64, numpy=-206676.36433599534>, <tf.Tensor: shape=(), dtype=float64, numpy=-206676.3643359951>, <tf.Tensor: shape=(), dtype=float64, numpy=-206676.36433599508>, <tf.Tensor: shape=(), dtype=float64, numpy=-206676.36433599523>, <tf.Tensor: shape=(), dtype=float64, numpy=-206676.36433599523>, <tf.Tensor: shape=(), dtype=float64, numpy=-206676.3643359889>, <tf.Tensor: shape=(), dtype=float64, numpy=-206676.36408218418>, <tf.Tensor: shape=(), dtype=float64, numpy=-206676.3170791862>, <tf.Tensor: shape=(), dtype=float64, numpy=-206668.46167559436>, <tf.Tensor: shape=(), dtype=float64, numpy=-205255.27910956522>, <tf.Tensor: shape=(), dtype=float64, numpy=-192667.37263202993>, <tf.Tensor: shape=(), dtype=float64, numpy=-136997.38379885518>, <tf.Tensor: shape=(), dtype=float64, numpy=-115770.13562370534>, <tf.Tensor: shape=(), dtype=float64, numpy=-119143.04730662255>], [<tf.Tensor: shape=(), dtype=float64, numpy=-248867.78266981532>, <tf.Tensor: shape=(), dtype=float64, numpy=-248867.78266976174>, <tf.Tensor: shape=(), dtype=float64, numpy=-248867.78266976535>, <tf.Tensor: shape=(), dtype=float64, numpy=-248867.78266976628>, <tf.Tensor: shape=(), dtype=float64, numpy=-248867.78266976422>, <tf.Tensor: shape=(), dtype=float64, numpy=-248867.78266976462>, <tf.Tensor: shape=(), dtype=float64, numpy=-248867.78266976494>, <tf.Tensor: shape=(), dtype=float64, numpy=-248867.78266976477>, <tf.Tensor: shape=(), dtype=float64, numpy=-248867.78266976486>, <tf.Tensor: shape=(), dtype=float64, numpy=-248867.78266976489>, <tf.Tensor: shape=(), dtype=float64, numpy=-248867.7826697648>, <tf.Tensor: shape=(), dtype=float64, numpy=-248867.78266976125>, <tf.Tensor: shape=(), dtype=float64, numpy=-248867.78252717928>, <tf.Tensor: shape=(), dtype=float64, numpy=-248867.75611610396>, <tf.Tensor: shape=(), dtype=float64, numpy=-248863.33563423934>, <tf.Tensor: shape=(), dtype=float64, numpy=-248019.03165432886>, <tf.Tensor: shape=(), dtype=float64, numpy=-239325.98821700597>, <tf.Tensor: shape=(), dtype=float64, numpy=-200004.01228113967>, <tf.Tensor: shape=(), dtype=float64, numpy=-183068.86067366187>, <tf.Tensor: shape=(), dtype=float64, numpy=-185451.64015724225>], [<tf.Tensor: shape=(), dtype=float64, numpy=-302404.7965323111>, <tf.Tensor: shape=(), dtype=float64, numpy=-302404.79653228086>, <tf.Tensor: shape=(), dtype=float64, numpy=-302404.79653228296>, <tf.Tensor: shape=(), dtype=float64, numpy=-302404.79653228336>, <tf.Tensor: shape=(), dtype=float64, numpy=-302404.79653228226>, <tf.Tensor: shape=(), dtype=float64, numpy=-302404.7965322825>, <tf.Tensor: shape=(), dtype=float64, numpy=-302404.7965322826>, <tf.Tensor: shape=(), dtype=float64, numpy=-302404.79653228255>, <tf.Tensor: shape=(), dtype=float64, numpy=-302404.7965322826>, <tf.Tensor: shape=(), dtype=float64, numpy=-302404.7965322826>, <tf.Tensor: shape=(), dtype=float64, numpy=-302404.7965322826>, <tf.Tensor: shape=(), dtype=float64, numpy=-302404.7965322807>, <tf.Tensor: shape=(), dtype=float64, numpy=-302404.79645227216>, <tf.Tensor: shape=(), dtype=float64, numpy=-302404.7816294896>, <tf.Tensor: shape=(), dtype=float64, numpy=-302402.2979406582>, <tf.Tensor: shape=(), dtype=float64, numpy=-301904.61030798336>, <tf.Tensor: shape=(), dtype=float64, numpy=-295956.2546118061>, <tf.Tensor: shape=(), dtype=float64, numpy=-268395.04661905044>, <tf.Tensor: shape=(), dtype=float64, numpy=-255036.15451781935>, <tf.Tensor: shape=(), dtype=float64, numpy=-256694.89285147307>], [<tf.Tensor: shape=(), dtype=float64, numpy=-364426.2789589675>, <tf.Tensor: shape=(), dtype=float64, numpy=-364426.2789589505>, <tf.Tensor: shape=(), dtype=float64, numpy=-364426.2789589517>, <tf.Tensor: shape=(), dtype=float64, numpy=-364426.27895895194>, <tf.Tensor: shape=(), dtype=float64, numpy=-364426.2789589513>, <tf.Tensor: shape=(), dtype=float64, numpy=-364426.2789589514>, <tf.Tensor: shape=(), dtype=float64, numpy=-364426.2789589515>, <tf.Tensor: shape=(), dtype=float64, numpy=-364426.2789589515>, <tf.Tensor: shape=(), dtype=float64, numpy=-364426.27895895153>, <tf.Tensor: shape=(), dtype=float64, numpy=-364426.27895895153>, <tf.Tensor: shape=(), dtype=float64, numpy=-364426.27895895153>, <tf.Tensor: shape=(), dtype=float64, numpy=-364426.2789589504>, <tf.Tensor: shape=(), dtype=float64, numpy=-364426.27891409275>, <tf.Tensor: shape=(), dtype=float64, numpy=-364426.27060250426>, <tf.Tensor: shape=(), dtype=float64, numpy=-364424.8767522146>, <tf.Tensor: shape=(), dtype=float64, numpy=-364134.7910493392>, <tf.Tensor: shape=(), dtype=float64, numpy=-360112.11803940934>, <tf.Tensor: shape=(), dtype=float64, numpy=-340937.2734521549>, <tf.Tensor: shape=(), dtype=float64, numpy=-330530.6247291975>, <tf.Tensor: shape=(), dtype=float64, numpy=-331666.5134749558>], [<tf.Tensor: shape=(), dtype=float64, numpy=-432792.60398131923>, <tf.Tensor: shape=(), dtype=float64, numpy=-432792.60398130974>, <tf.Tensor: shape=(), dtype=float64, numpy=-432792.6039813104>, <tf.Tensor: shape=(), dtype=float64, numpy=-432792.60398131056>, <tf.Tensor: shape=(), dtype=float64, numpy=-432792.60398131015>, <tf.Tensor: shape=(), dtype=float64, numpy=-432792.60398131027>, <tf.Tensor: shape=(), dtype=float64, numpy=-432792.6039813103>, <tf.Tensor: shape=(), dtype=float64, numpy=-432792.60398131027>, <tf.Tensor: shape=(), dtype=float64, numpy=-432792.6039813103>, <tf.Tensor: shape=(), dtype=float64, numpy=-432792.60398131027>, <tf.Tensor: shape=(), dtype=float64, numpy=-432792.6039813103>, <tf.Tensor: shape=(), dtype=float64, numpy=-432792.6039813096>, <tf.Tensor: shape=(), dtype=float64, numpy=-432792.6039561759>, <tf.Tensor: shape=(), dtype=float64, numpy=-432792.5992987542>, <tf.Tensor: shape=(), dtype=float64, numpy=-432791.81775748485>, <tf.Tensor: shape=(), dtype=float64, numpy=-432624.28484949697>, <tf.Tensor: shape=(), dtype=float64, numpy=-429942.0198042677>, <tf.Tensor: shape=(), dtype=float64, numpy=-416696.9661051988>, <tf.Tensor: shape=(), dtype=float64, numpy=-408698.36496440996>, <tf.Tensor: shape=(), dtype=float64, numpy=-409461.80188281916>], [<tf.Tensor: shape=(), dtype=float64, numpy=-505903.7101573142>, <tf.Tensor: shape=(), dtype=float64, numpy=-505903.71015730884>, <tf.Tensor: shape=(), dtype=float64, numpy=-505903.7101573092>, <tf.Tensor: shape=(), dtype=float64, numpy=-505903.71015730925>, <tf.Tensor: shape=(), dtype=float64, numpy=-505903.7101573091>, <tf.Tensor: shape=(), dtype=float64, numpy=-505903.7101573091>, <tf.Tensor: shape=(), dtype=float64, numpy=-505903.71015730913>, <tf.Tensor: shape=(), dtype=float64, numpy=-505903.71015730913>, <tf.Tensor: shape=(), dtype=float64, numpy=-505903.71015730913>, <tf.Tensor: shape=(), dtype=float64, numpy=-505903.71015730913>, <tf.Tensor: shape=(), dtype=float64, numpy=-505903.71015730913>, <tf.Tensor: shape=(), dtype=float64, numpy=-505903.7101573088>, <tf.Tensor: shape=(), dtype=float64, numpy=-505903.71014323307>, <tf.Tensor: shape=(), dtype=float64, numpy=-505903.7075347546>, <tf.Tensor: shape=(), dtype=float64, numpy=-505903.2696099062>, <tf.Tensor: shape=(), dtype=float64, numpy=-505807.22550877865>, <tf.Tensor: shape=(), dtype=float64, numpy=-504047.2560066996>, <tf.Tensor: shape=(), dtype=float64, numpy=-494961.9860706101>, <tf.Tensor: shape=(), dtype=float64, numpy=-488899.9330284333>, <tf.Tensor: shape=(), dtype=float64, numpy=-489401.81887820805>], [<tf.Tensor: shape=(), dtype=float64, numpy=-582563.038900714>, <tf.Tensor: shape=(), dtype=float64, numpy=-582563.038900711>, <tf.Tensor: shape=(), dtype=float64, numpy=-582563.0389007112>, <tf.Tensor: shape=(), dtype=float64, numpy=-582563.0389007112>, <tf.Tensor: shape=(), dtype=float64, numpy=-582563.0389007111>, <tf.Tensor: shape=(), dtype=float64, numpy=-582563.0389007111>, <tf.Tensor: shape=(), dtype=float64, numpy=-582563.0389007111>, <tf.Tensor: shape=(), dtype=float64, numpy=-582563.0389007111>, <tf.Tensor: shape=(), dtype=float64, numpy=-582563.0389007111>, <tf.Tensor: shape=(), dtype=float64, numpy=-582563.0389007111>, <tf.Tensor: shape=(), dtype=float64, numpy=-582563.0389007111>, <tf.Tensor: shape=(), dtype=float64, numpy=-582563.038900711>, <tf.Tensor: shape=(), dtype=float64, numpy=-582563.038892831>, <tf.Tensor: shape=(), dtype=float64, numpy=-582563.0374324571>, <tf.Tensor: shape=(), dtype=float64, numpy=-582562.792170091>, <tf.Tensor: shape=(), dtype=float64, numpy=-582508.051100122>, <tf.Tensor: shape=(), dtype=float64, numpy=-581373.2542319302>, <tf.Tensor: shape=(), dtype=float64, numpy=-575184.8492565851>, <tf.Tensor: shape=(), dtype=float64, numpy=-570655.7437461382>, <tf.Tensor: shape=(), dtype=float64, numpy=-570976.5540482313>]], [[<tf.Tensor: shape=(), dtype=float64, numpy=-306140470.7088955>, <tf.Tensor: shape=(), dtype=float64, numpy=-306140470.7000491>, <tf.Tensor: shape=(), dtype=float64, numpy=-306140470.7006166>, <tf.Tensor: shape=(), dtype=float64, numpy=-306140470.7007608>, <tf.Tensor: shape=(), dtype=float64, numpy=-306140470.7004137>, <tf.Tensor: shape=(), dtype=float64, numpy=-306140470.7004829>, <tf.Tensor: shape=(), dtype=float64, numpy=-306140470.7005338>, <tf.Tensor: shape=(), dtype=float64, numpy=-306140470.70051146>, <tf.Tensor: shape=(), dtype=float64, numpy=-306140470.7005223>, <tf.Tensor: shape=(), dtype=float64, numpy=-306140470.70052534>, <tf.Tensor: shape=(), dtype=float64, numpy=-306140470.7005228>, <tf.Tensor: shape=(), dtype=float64, numpy=-306140470.7005083>, <tf.Tensor: shape=(), dtype=float64, numpy=-306140470.0680303>, <tf.Tensor: shape=(), dtype=float64, numpy=-306140294.035288>, <tf.Tensor: shape=(), dtype=float64, numpy=-306119426.0999204>, <tf.Tensor: shape=(), dtype=float64, numpy=-305602084.70211244>, <tf.Tensor: shape=(), dtype=float64, numpy=-300787514.7483321>, <tf.Tensor: shape=(), dtype=float64, numpy=-269992133.60794955>, <tf.Tensor: shape=(), dtype=float64, numpy=-169276334.3696524>, <tf.Tensor: shape=(), dtype=float64, numpy=-72845415.5855613>], [<tf.Tensor: shape=(), dtype=float64, numpy=-228744482.96370926>, <tf.Tensor: shape=(), dtype=float64, numpy=-228744482.957096>, <tf.Tensor: shape=(), dtype=float64, numpy=-228744482.95752025>, <tf.Tensor: shape=(), dtype=float64, numpy=-228744482.957628>, <tf.Tensor: shape=(), dtype=float64, numpy=-228744482.95736855>, <tf.Tensor: shape=(), dtype=float64, numpy=-228744482.9574203>, <tf.Tensor: shape=(), dtype=float64, numpy=-228744482.95745835>, <tf.Tensor: shape=(), dtype=float64, numpy=-228744482.95744163>, <tf.Tensor: shape=(), dtype=float64, numpy=-228744482.95744976>, <tf.Tensor: shape=(), dtype=float64, numpy=-228744482.957452>, <tf.Tensor: shape=(), dtype=float64, numpy=-228744482.95745012>, <tf.Tensor: shape=(), dtype=float64, numpy=-228744482.9574393>, <tf.Tensor: shape=(), dtype=float64, numpy=-228744482.48462328>, <tf.Tensor: shape=(), dtype=float64, numpy=-228744350.8879335>, <tf.Tensor: shape=(), dtype=float64, numpy=-228728749.5945557>, <tf.Tensor: shape=(), dtype=float64, numpy=-228341892.23667148>, <tf.Tensor: shape=(), dtype=float64, numpy=-224741629.67045513>, <tf.Tensor: shape=(), dtype=float64, numpy=-201712544.0934891>, <tf.Tensor: shape=(), dtype=float64, numpy=-126396083.91714972>, <tf.Tensor: shape=(), dtype=float64, numpy=-54283852.80154334>], [<tf.Tensor: shape=(), dtype=float64, numpy=-170888775.450615>, <tf.Tensor: shape=(), dtype=float64, numpy=-170888775.4456717>, <tf.Tensor: shape=(), dtype=float64, numpy=-170888775.4459888>, <tf.Tensor: shape=(), dtype=float64, numpy=-170888775.44606936>, <tf.Tensor: shape=(), dtype=float64, numpy=-170888775.4458754>, <tf.Tensor: shape=(), dtype=float64, numpy=-170888775.4459141>, <tf.Tensor: shape=(), dtype=float64, numpy=-170888775.44594255>, <tf.Tensor: shape=(), dtype=float64, numpy=-170888775.44593003>, <tf.Tensor: shape=(), dtype=float64, numpy=-170888775.4459361>, <tf.Tensor: shape=(), dtype=float64, numpy=-170888775.4459378>, <tf.Tensor: shape=(), dtype=float64, numpy=-170888775.4459364>, <tf.Tensor: shape=(), dtype=float64, numpy=-170888775.44592828>, <tf.Tensor: shape=(), dtype=float64, numpy=-170888775.09250936>, <tf.Tensor: shape=(), dtype=float64, numpy=-170888676.72561586>, <tf.Tensor: shape=(), dtype=float64, numpy=-170877013.88971663>, <tf.Tensor: shape=(), dtype=float64, numpy=-170587734.10431823>, <tf.Tensor: shape=(), dtype=float64, numpy=-167895545.54873264>, <tf.Tensor: shape=(), dtype=float64, numpy=-150674191.68617162>, <tf.Tensor: shape=(), dtype=float64, numpy=-94351670.851155>, <tf.Tensor: shape=(), dtype=float64, numpy=-40425254.623696>], [<tf.Tensor: shape=(), dtype=float64, numpy=-127645530.76456155>, <tf.Tensor: shape=(), dtype=float64, numpy=-127645530.76086704>, <tf.Tensor: shape=(), dtype=float64, numpy=-127645530.76110405>, <tf.Tensor: shape=(), dtype=float64, numpy=-127645530.7611643>, <tf.Tensor: shape=(), dtype=float64, numpy=-127645530.76101932>, <tf.Tensor: shape=(), dtype=float64, numpy=-127645530.76104821>, <tf.Tensor: shape=(), dtype=float64, numpy=-127645530.7610695>, <tf.Tensor: shape=(), dtype=float64, numpy=-127645530.76106015>, <tf.Tensor: shape=(), dtype=float64, numpy=-127645530.76106465>, <tf.Tensor: shape=(), dtype=float64, numpy=-127645530.76106595>, <tf.Tensor: shape=(), dtype=float64, numpy=-127645530.76106489>, <tf.Tensor: shape=(), dtype=float64, numpy=-127645530.76105882>, <tf.Tensor: shape=(), dtype=float64, numpy=-127645530.49692631>, <tf.Tensor: shape=(), dtype=float64, numpy=-127645456.97964148>, <tf.Tensor: shape=(), dtype=float64, numpy=-127636739.36763036>, <tf.Tensor: shape=(), dtype=float64, numpy=-127420429.290884>, <tf.Tensor: shape=(), dtype=float64, numpy=-125407309.63023803>, <tf.Tensor: shape=(), dtype=float64, numpy=-112529049.25642811>, <tf.Tensor: shape=(), dtype=float64, numpy=-70410430.76730545>, <tf.Tensor: shape=(), dtype=float64, numpy=-30083591.44362557>], [<tf.Tensor: shape=(), dtype=float64, numpy=-95329666.21442112>, <tf.Tensor: shape=(), dtype=float64, numpy=-95329666.21166052>, <tf.Tensor: shape=(), dtype=float64, numpy=-95329666.21183759>, <tf.Tensor: shape=(), dtype=float64, numpy=-95329666.21188258>, <tf.Tensor: shape=(), dtype=float64, numpy=-95329666.21177426>, <tf.Tensor: shape=(), dtype=float64, numpy=-95329666.21179585>, <tf.Tensor: shape=(), dtype=float64, numpy=-95329666.21181178>, <tf.Tensor: shape=(), dtype=float64, numpy=-95329666.21180478>, <tf.Tensor: shape=(), dtype=float64, numpy=-95329666.21180815>, <tf.Tensor: shape=(), dtype=float64, numpy=-95329666.2118091>, <tf.Tensor: shape=(), dtype=float64, numpy=-95329666.21180832>, <tf.Tensor: shape=(), dtype=float64, numpy=-95329666.2118038>, <tf.Tensor: shape=(), dtype=float64, numpy=-95329666.01444057>, <tf.Tensor: shape=(), dtype=float64, numpy=-95329611.07994205>, <tf.Tensor: shape=(), dtype=float64, numpy=-95323095.9383907>, <tf.Tensor: shape=(), dtype=float64, numpy=-95161353.50429218>, <tf.Tensor: shape=(), dtype=float64, numpy=-93656049.86495207>, <tf.Tensor: shape=(), dtype=float64, numpy=-84025608.43426692>, <tf.Tensor: shape=(), dtype=float64, numpy=-52528843.48540556>, <tf.Tensor: shape=(), dtype=float64, numpy=-22371935.67702552>], [<tf.Tensor: shape=(), dtype=float64, numpy=-71185431.47331813>, <tf.Tensor: shape=(), dtype=float64, numpy=-71185431.47125587>, <tf.Tensor: shape=(), dtype=float64, numpy=-71185431.47138816>, <tf.Tensor: shape=(), dtype=float64, numpy=-71185431.47142178>, <tf.Tensor: shape=(), dtype=float64, numpy=-71185431.47134086>, <tf.Tensor: shape=(), dtype=float64, numpy=-71185431.47135697>, <tf.Tensor: shape=(), dtype=float64, numpy=-71185431.47136885>, <tf.Tensor: shape=(), dtype=float64, numpy=-71185431.47136363>, <tf.Tensor: shape=(), dtype=float64, numpy=-71185431.47136617>, <tf.Tensor: shape=(), dtype=float64, numpy=-71185431.47136687>, <tf.Tensor: shape=(), dtype=float64, numpy=-71185431.47136629>, <tf.Tensor: shape=(), dtype=float64, numpy=-71185431.4713629>, <tf.Tensor: shape=(), dtype=float64, numpy=-71185431.32393026>, <tf.Tensor: shape=(), dtype=float64, numpy=-71185390.2857917>, <tf.Tensor: shape=(), dtype=float64, numpy=-71180522.17306796>, <tf.Tensor: shape=(), dtype=float64, numpy=-71059586.0873116>, <tf.Tensor: shape=(), dtype=float64, numpy=-69934033.42837423>, <tf.Tensor: shape=(), dtype=float64, numpy=-62732351.11630487>, <tf.Tensor: shape=(), dtype=float64, numpy=-39178739.38461736>, <tf.Tensor: shape=(), dtype=float64, numpy=-16627031.926089793>], [<tf.Tensor: shape=(), dtype=float64, numpy=-53152042.432728514>, <tf.Tensor: shape=(), dtype=float64, numpy=-53152042.43118848>, <tf.Tensor: shape=(), dtype=float64, numpy=-53152042.43128726>, <tf.Tensor: shape=(), dtype=float64, numpy=-53152042.431312375>, <tf.Tensor: shape=(), dtype=float64, numpy=-53152042.43125196>, <tf.Tensor: shape=(), dtype=float64, numpy=-53152042.43126399>, <tf.Tensor: shape=(), dtype=float64, numpy=-53152042.431272864>, <tf.Tensor: shape=(), dtype=float64, numpy=-53152042.43126896>, <tf.Tensor: shape=(), dtype=float64, numpy=-53152042.43127085>, <tf.Tensor: shape=(), dtype=float64, numpy=-53152042.43127138>, <tf.Tensor: shape=(), dtype=float64, numpy=-53152042.431270935>, <tf.Tensor: shape=(), dtype=float64, numpy=-53152042.43126842>, <tf.Tensor: shape=(), dtype=float64, numpy=-53152042.321174085>, <tf.Tensor: shape=(), dtype=float64, numpy=-53152011.67480225>, <tf.Tensor: shape=(), dtype=float64, numpy=-53148375.22286823>, <tf.Tensor: shape=(), dtype=float64, numpy=-53057954.61680583>, <tf.Tensor: shape=(), dtype=float64, numpy=-52216384.28270909>, <tf.Tensor: shape=(), dtype=float64, numpy=-46830958.04460566>, <tf.Tensor: shape=(), dtype=float64, numpy=-29217334.35519298>, <tf.Tensor: shape=(), dtype=float64, numpy=-12352889.61568755>], [<tf.Tensor: shape=(), dtype=float64, numpy=-39688419.305754825>, <tf.Tensor: shape=(), dtype=float64, numpy=-39688419.30460532>, <tf.Tensor: shape=(), dtype=float64, numpy=-39688419.30467906>, <tf.Tensor: shape=(), dtype=float64, numpy=-39688419.304697804>, <tf.Tensor: shape=(), dtype=float64, numpy=-39688419.3046527>, <tf.Tensor: shape=(), dtype=float64, numpy=-39688419.304661684>, <tf.Tensor: shape=(), dtype=float64, numpy=-39688419.30466831>, <tf.Tensor: shape=(), dtype=float64, numpy=-39688419.3046654>, <tf.Tensor: shape=(), dtype=float64, numpy=-39688419.3046668>, <tf.Tensor: shape=(), dtype=float64, numpy=-39688419.3046672>, <tf.Tensor: shape=(), dtype=float64, numpy=-39688419.30466687>, <tf.Tensor: shape=(), dtype=float64, numpy=-39688419.304664984>, <tf.Tensor: shape=(), dtype=float64, numpy=-39688419.22249219>, <tf.Tensor: shape=(), dtype=float64, numpy=-39688396.347074926>, <tf.Tensor: shape=(), dtype=float64, numpy=-39685680.9360213>, <tf.Tensor: shape=(), dtype=float64, numpy=-39618080.16720812>, <tf.Tensor: shape=(), dtype=float64, numpy=-38988875.12590182>, <tf.Tensor: shape=(), dtype=float64, numpy=-34961667.62882715>, <tf.Tensor: shape=(), dtype=float64, numpy=-21790040.33078823>, <tf.Tensor: shape=(), dtype=float64, numpy=-9178600.870280236>], [<tf.Tensor: shape=(), dtype=float64, numpy=-29642123.617896747>, <tf.Tensor: shape=(), dtype=float64, numpy=-29642123.617039267>, <tf.Tensor: shape=(), dtype=float64, numpy=-29642123.61709428>, <tf.Tensor: shape=(), dtype=float64, numpy=-29642123.617108252>, <tf.Tensor: shape=(), dtype=float64, numpy=-29642123.617074613>, <tf.Tensor: shape=(), dtype=float64, numpy=-29642123.617081318>, <tf.Tensor: shape=(), dtype=float64, numpy=-29642123.617086258>, <tf.Tensor: shape=(), dtype=float64, numpy=-29642123.61708408>, <tf.Tensor: shape=(), dtype=float64, numpy=-29642123.617085136>, <tf.Tensor: shape=(), dtype=float64, numpy=-29642123.617085427>, <tf.Tensor: shape=(), dtype=float64, numpy=-29642123.61708519>, <tf.Tensor: shape=(), dtype=float64, numpy=-29642123.61708378>, <tf.Tensor: shape=(), dtype=float64, numpy=-29642123.555790346>, <tf.Tensor: shape=(), dtype=float64, numpy=-29642106.491406843>, <tf.Tensor: shape=(), dtype=float64, numpy=-29640079.832431592>, <tf.Tensor: shape=(), dtype=float64, numpy=-29589543.999359947>, <tf.Tensor: shape=(), dtype=float64, numpy=-29119148.08491568>, <tf.Tensor: shape=(), dtype=float64, numpy=-26107633.36419884>, <tf.Tensor: shape=(), dtype=float64, numpy=-16257785.804603256>, <tf.Tensor: shape=(), dtype=float64, numpy=-6826796.201503424>], [<tf.Tensor: shape=(), dtype=float64, numpy=-22151347.671878442>, <tf.Tensor: shape=(), dtype=float64, numpy=-22151347.671239346>, <tf.Tensor: shape=(), dtype=float64, numpy=-22151347.671280343>, <tf.Tensor: shape=(), dtype=float64, numpy=-22151347.671290763>, <tf.Tensor: shape=(), dtype=float64, numpy=-22151347.671265684>, <tf.Tensor: shape=(), dtype=float64, numpy=-22151347.671270687>, <tf.Tensor: shape=(), dtype=float64, numpy=-22151347.671274368>, <tf.Tensor: shape=(), dtype=float64, numpy=-22151347.671272747>, <tf.Tensor: shape=(), dtype=float64, numpy=-22151347.67127353>, <tf.Tensor: shape=(), dtype=float64, numpy=-22151347.671273753>, <tf.Tensor: shape=(), dtype=float64, numpy=-22151347.671273567>, <tf.Tensor: shape=(), dtype=float64, numpy=-22151347.671272524>, <tf.Tensor: shape=(), dtype=float64, numpy=-22151347.625592005>, <tf.Tensor: shape=(), dtype=float64, numpy=-22151334.906529747>, <tf.Tensor: shape=(), dtype=float64, numpy=-22149823.286702424>, <tf.Tensor: shape=(), dtype=float64, numpy=-22112048.7962347>, <tf.Tensor: shape=(), dtype=float64, numpy=-21760411.960143004>, <tf.Tensor: shape=(), dtype=float64, numpy=-19508444.880971283>, <tf.Tensor: shape=(), dtype=float64, numpy=-12142665.214048153>, <tf.Tensor: shape=(), dtype=float64, numpy=-5090055.28191082>], [<tf.Tensor: shape=(), dtype=float64, numpy=-16571621.061004156>, <tf.Tensor: shape=(), dtype=float64, numpy=-16571621.060528342>, <tf.Tensor: shape=(), dtype=float64, numpy=-16571621.060558865>, <tf.Tensor: shape=(), dtype=float64, numpy=-16571621.060566619>, <tf.Tensor: shape=(), dtype=float64, numpy=-16571621.060547952>, <tf.Tensor: shape=(), dtype=float64, numpy=-16571621.060551671>, <tf.Tensor: shape=(), dtype=float64, numpy=-16571621.060554411>, <tf.Tensor: shape=(), dtype=float64, numpy=-16571621.06055321>, <tf.Tensor: shape=(), dtype=float64, numpy=-16571621.060553791>, <tf.Tensor: shape=(), dtype=float64, numpy=-16571621.060553955>, <tf.Tensor: shape=(), dtype=float64, numpy=-16571621.06055382>, <tf.Tensor: shape=(), dtype=float64, numpy=-16571621.060553038>, <tf.Tensor: shape=(), dtype=float64, numpy=-16571621.026546832>, <tf.Tensor: shape=(), dtype=float64, numpy=-16571611.55664969>, <tf.Tensor: shape=(), dtype=float64, numpy=-16570485.065369524>, <tf.Tensor: shape=(), dtype=float64, numpy=-16542253.62849651>, <tf.Tensor: shape=(), dtype=float64, numpy=-16279425.835732944>, <tf.Tensor: shape=(), dtype=float64, numpy=-14595457.917567527>, <tf.Tensor: shape=(), dtype=float64, numpy=-9087294.879597321>, <tf.Tensor: shape=(), dtype=float64, numpy=-3813266.630377307>], [<tf.Tensor: shape=(), dtype=float64, numpy=-12421000.89697275>, <tf.Tensor: shape=(), dtype=float64, numpy=-12421000.896619016>, <tf.Tensor: shape=(), dtype=float64, numpy=-12421000.896641707>, <tf.Tensor: shape=(), dtype=float64, numpy=-12421000.896647474>, <tf.Tensor: shape=(), dtype=float64, numpy=-12421000.896633595>, <tf.Tensor: shape=(), dtype=float64, numpy=-12421000.896636361>, <tf.Tensor: shape=(), dtype=float64, numpy=-12421000.896638399>, <tf.Tensor: shape=(), dtype=float64, numpy=-12421000.896637505>, <tf.Tensor: shape=(), dtype=float64, numpy=-12421000.896637935>, <tf.Tensor: shape=(), dtype=float64, numpy=-12421000.89663806>, <tf.Tensor: shape=(), dtype=float64, numpy=-12421000.896637956>, <tf.Tensor: shape=(), dtype=float64, numpy=-12421000.896637378>, <tf.Tensor: shape=(), dtype=float64, numpy=-12421000.871359743>, <tf.Tensor: shape=(), dtype=float64, numpy=-12420993.83080652>, <tf.Tensor: shape=(), dtype=float64, numpy=-12420155.311548095>, <tf.Tensor: shape=(), dtype=float64, numpy=-12399060.240223035>, <tf.Tensor: shape=(), dtype=float64, numpy=-12202644.334235337>, <tf.Tensor: shape=(), dtype=float64, numpy=-10943433.276170177>, <tf.Tensor: shape=(), dtype=float64, numpy=-6824418.874106957>, <tf.Tensor: shape=(), dtype=float64, numpy=-2880435.9671024345>], [<tf.Tensor: shape=(), dtype=float64, numpy=-9339084.388002032>, <tf.Tensor: shape=(), dtype=float64, numpy=-9339084.387739569>, <tf.Tensor: shape=(), dtype=float64, numpy=-9339084.387756405>, <tf.Tensor: shape=(), dtype=float64, numpy=-9339084.387760684>, <tf.Tensor: shape=(), dtype=float64, numpy=-9339084.387750387>, <tf.Tensor: shape=(), dtype=float64, numpy=-9339084.387752438>, <tf.Tensor: shape=(), dtype=float64, numpy=-9339084.38775395>, <tf.Tensor: shape=(), dtype=float64, numpy=-9339084.387753287>, <tf.Tensor: shape=(), dtype=float64, numpy=-9339084.38775361>, <tf.Tensor: shape=(), dtype=float64, numpy=-9339084.387753699>, <tf.Tensor: shape=(), dtype=float64, numpy=-9339084.387753624>, <tf.Tensor: shape=(), dtype=float64, numpy=-9339084.387753192>, <tf.Tensor: shape=(), dtype=float64, numpy=-9339084.369000768>, <tf.Tensor: shape=(), dtype=float64, numpy=-9339079.144586802>, <tf.Tensor: shape=(), dtype=float64, numpy=-9338455.932369035>, <tf.Tensor: shape=(), dtype=float64, numpy=-9322697.46004438>, <tf.Tensor: shape=(), dtype=float64, numpy=-9175944.373171812>, <tf.Tensor: shape=(), dtype=float64, numpy=-8234371.836768455>, <tf.Tensor: shape=(), dtype=float64, numpy=-5154179.916700627>, <tf.Tensor: shape=(), dtype=float64, numpy=-2204821.3386845505>], [<tf.Tensor: shape=(), dtype=float64, numpy=-7056357.941567719>, <tf.Tensor: shape=(), dtype=float64, numpy=-7056357.941373469>, <tf.Tensor: shape=(), dtype=float64, numpy=-7056357.94138593>, <tf.Tensor: shape=(), dtype=float64, numpy=-7056357.941389097>, <tf.Tensor: shape=(), dtype=float64, numpy=-7056357.941381475>, <tf.Tensor: shape=(), dtype=float64, numpy=-7056357.941382995>, <tf.Tensor: shape=(), dtype=float64, numpy=-7056357.941384113>, <tf.Tensor: shape=(), dtype=float64, numpy=-7056357.941383621>, <tf.Tensor: shape=(), dtype=float64, numpy=-7056357.941383859>, <tf.Tensor: shape=(), dtype=float64, numpy=-7056357.941383926>, <tf.Tensor: shape=(), dtype=float64, numpy=-7056357.94138387>, <tf.Tensor: shape=(), dtype=float64, numpy=-7056357.941383552>, <tf.Tensor: shape=(), dtype=float64, numpy=-7056357.927507989>, <tf.Tensor: shape=(), dtype=float64, numpy=-7056354.060501799>, <tf.Tensor: shape=(), dtype=float64, numpy=-7055891.802464124>, <tf.Tensor: shape=(), dtype=float64, numpy=-7044124.02119576>, <tf.Tensor: shape=(), dtype=float64, numpy=-6934508.336585568>, <tf.Tensor: shape=(), dtype=float64, numpy=-6230469.934348856>, <tf.Tensor: shape=(), dtype=float64, numpy=-3927122.2666857243>, <tf.Tensor: shape=(), dtype=float64, numpy=-1721556.042951411>], [<tf.Tensor: shape=(), dtype=float64, numpy=-5371276.048114503>, <tf.Tensor: shape=(), dtype=float64, numpy=-5371276.047971217>, <tf.Tensor: shape=(), dtype=float64, numpy=-5371276.047980408>, <tf.Tensor: shape=(), dtype=float64, numpy=-5371276.047982745>, <tf.Tensor: shape=(), dtype=float64, numpy=-5371276.0479771225>, <tf.Tensor: shape=(), dtype=float64, numpy=-5371276.047978243>, <tf.Tensor: shape=(), dtype=float64, numpy=-5371276.047979068>, <tf.Tensor: shape=(), dtype=float64, numpy=-5371276.047978707>, <tf.Tensor: shape=(), dtype=float64, numpy=-5371276.047978882>, <tf.Tensor: shape=(), dtype=float64, numpy=-5371276.04797893>, <tf.Tensor: shape=(), dtype=float64, numpy=-5371276.047978889>, <tf.Tensor: shape=(), dtype=float64, numpy=-5371276.047978655>, <tf.Tensor: shape=(), dtype=float64, numpy=-5371276.037746483>, <tf.Tensor: shape=(), dtype=float64, numpy=-5371273.184888999>, <tf.Tensor: shape=(), dtype=float64, numpy=-5370931.218572695>, <tf.Tensor: shape=(), dtype=float64, numpy=-5362147.615403362>, <tf.Tensor: shape=(), dtype=float64, numpy=-5280302.339393259>, <tf.Tensor: shape=(), dtype=float64, numpy=-4753895.056313838>, <tf.Tensor: shape=(), dtype=float64, numpy=-3031481.0778935016>, <tf.Tensor: shape=(), dtype=float64, numpy=-1382131.9611959995>], [<tf.Tensor: shape=(), dtype=float64, numpy=-4133120.590308658>, <tf.Tensor: shape=(), dtype=float64, numpy=-4133120.5902034217>, <tf.Tensor: shape=(), dtype=float64, numpy=-4133120.5902101723>, <tf.Tensor: shape=(), dtype=float64, numpy=-4133120.5902118874>, <tf.Tensor: shape=(), dtype=float64, numpy=-4133120.590207759>, <tf.Tensor: shape=(), dtype=float64, numpy=-4133120.590208581>, <tf.Tensor: shape=(), dtype=float64, numpy=-4133120.590209188>, <tf.Tensor: shape=(), dtype=float64, numpy=-4133120.5902089216>, <tf.Tensor: shape=(), dtype=float64, numpy=-4133120.5902090506>, <tf.Tensor: shape=(), dtype=float64, numpy=-4133120.590209087>, <tf.Tensor: shape=(), dtype=float64, numpy=-4133120.5902090566>, <tf.Tensor: shape=(), dtype=float64, numpy=-4133120.590208884>, <tf.Tensor: shape=(), dtype=float64, numpy=-4133120.58269669>, <tf.Tensor: shape=(), dtype=float64, numpy=-4133118.4870294225>, <tf.Tensor: shape=(), dtype=float64, numpy=-4132866.383522077>, <tf.Tensor: shape=(), dtype=float64, numpy=-4126314.2416629074>, <tf.Tensor: shape=(), dtype=float64, numpy=-4065234.1964029525>, <tf.Tensor: shape=(), dtype=float64, numpy=-3671661.859660188>, <tf.Tensor: shape=(), dtype=float64, numpy=-2383677.22108683>, <tf.Tensor: shape=(), dtype=float64, numpy=-1150274.126081133>], [<tf.Tensor: shape=(), dtype=float64, numpy=-3229182.825114259>, <tf.Tensor: shape=(), dtype=float64, numpy=-3229182.8250373984>, <tf.Tensor: shape=(), dtype=float64, numpy=-3229182.825042329>, <tf.Tensor: shape=(), dtype=float64, numpy=-3229182.825043582>, <tf.Tensor: shape=(), dtype=float64, numpy=-3229182.825040566>, <tf.Tensor: shape=(), dtype=float64, numpy=-3229182.825041167>, <tf.Tensor: shape=(), dtype=float64, numpy=-3229182.8250416103>, <tf.Tensor: shape=(), dtype=float64, numpy=-3229182.8250414156>, <tf.Tensor: shape=(), dtype=float64, numpy=-3229182.8250415097>, <tf.Tensor: shape=(), dtype=float64, numpy=-3229182.825041536>, <tf.Tensor: shape=(), dtype=float64, numpy=-3229182.8250415134>, <tf.Tensor: shape=(), dtype=float64, numpy=-3229182.825041388>, <tf.Tensor: shape=(), dtype=float64, numpy=-3229182.8195574204>, <tf.Tensor: shape=(), dtype=float64, numpy=-3229181.288603634>, <tf.Tensor: shape=(), dtype=float64, numpy=-3228996.266894275>, <tf.Tensor: shape=(), dtype=float64, numpy=-3224112.652193014>, <tf.Tensor: shape=(), dtype=float64, numpy=-3178558.7454142147>, <tf.Tensor: shape=(), dtype=float64, numpy=-2884322.270357973>, <tf.Tensor: shape=(), dtype=float64, numpy=-1921209.195017991>, <tf.Tensor: shape=(), dtype=float64, numpy=-998855.6728086218>], [<tf.Tensor: shape=(), dtype=float64, numpy=-2575177.912143956>, <tf.Tensor: shape=(), dtype=float64, numpy=-2575177.9120882177>, <tf.Tensor: shape=(), dtype=float64, numpy=-2575177.9120917935>, <tf.Tensor: shape=(), dtype=float64, numpy=-2575177.912092702>, <tf.Tensor: shape=(), dtype=float64, numpy=-2575177.9120905153>, <tf.Tensor: shape=(), dtype=float64, numpy=-2575177.9120909506>, <tf.Tensor: shape=(), dtype=float64, numpy=-2575177.912091272>, <tf.Tensor: shape=(), dtype=float64, numpy=-2575177.912091131>, <tf.Tensor: shape=(), dtype=float64, numpy=-2575177.9120911993>, <tf.Tensor: shape=(), dtype=float64, numpy=-2575177.9120912184>, <tf.Tensor: shape=(), dtype=float64, numpy=-2575177.9120912026>, <tf.Tensor: shape=(), dtype=float64, numpy=-2575177.9120911113>, <tf.Tensor: shape=(), dtype=float64, numpy=-2575177.9081166633>, <tf.Tensor: shape=(), dtype=float64, numpy=-2575176.7975669485>, <tf.Tensor: shape=(), dtype=float64, numpy=-2575041.7907177014>, <tf.Tensor: shape=(), dtype=float64, numpy=-2571405.679832245>, <tf.Tensor: shape=(), dtype=float64, numpy=-2537459.3953693933>, <tf.Tensor: shape=(), dtype=float64, numpy=-2317507.8006378175>, <tf.Tensor: shape=(), dtype=float64, numpy=-1597337.610043568>, <tf.Tensor: shape=(), dtype=float64, numpy=-907590.8018097819>], [<tf.Tensor: shape=(), dtype=float64, numpy=-2108076.77668788>, <tf.Tensor: shape=(), dtype=float64, numpy=-2108076.77664782>, <tf.Tensor: shape=(), dtype=float64, numpy=-2108076.77665039>, <tf.Tensor: shape=(), dtype=float64, numpy=-2108076.7766510425>, <tf.Tensor: shape=(), dtype=float64, numpy=-2108076.776649471>, <tf.Tensor: shape=(), dtype=float64, numpy=-2108076.7766497848>, <tf.Tensor: shape=(), dtype=float64, numpy=-2108076.7766500153>, <tf.Tensor: shape=(), dtype=float64, numpy=-2108076.7766499138>, <tf.Tensor: shape=(), dtype=float64, numpy=-2108076.7766499626>, <tf.Tensor: shape=(), dtype=float64, numpy=-2108076.7766499766>, <tf.Tensor: shape=(), dtype=float64, numpy=-2108076.776649965>, <tf.Tensor: shape=(), dtype=float64, numpy=-2108076.7766499>, <tf.Tensor: shape=(), dtype=float64, numpy=-2108076.773795527>, <tf.Tensor: shape=(), dtype=float64, numpy=-2108075.9753192933>, <tf.Tensor: shape=(), dtype=float64, numpy=-2107978.1846872503>, <tf.Tensor: shape=(), dtype=float64, numpy=-2105274.6644152105>, <tf.Tensor: shape=(), dtype=float64, numpy=-2080004.896518395>, <tf.Tensor: shape=(), dtype=float64, numpy=-1915604.7902353746>, <tf.Tensor: shape=(), dtype=float64, numpy=-1377110.1797185608>, <tf.Tensor: shape=(), dtype=float64, numpy=-861309.5481486744>], [<tf.Tensor: shape=(), dtype=float64, numpy=-1780745.6803728256>, <tf.Tensor: shape=(), dtype=float64, numpy=-1780745.6803443492>, <tf.Tensor: shape=(), dtype=float64, numpy=-1780745.6803461758>, <tf.Tensor: shape=(), dtype=float64, numpy=-1780745.68034664>, <tf.Tensor: shape=(), dtype=float64, numpy=-1780745.680345523>, <tf.Tensor: shape=(), dtype=float64, numpy=-1780745.6803457453>, <tf.Tensor: shape=(), dtype=float64, numpy=-1780745.6803459094>, <tf.Tensor: shape=(), dtype=float64, numpy=-1780745.6803458375>, <tf.Tensor: shape=(), dtype=float64, numpy=-1780745.6803458724>, <tf.Tensor: shape=(), dtype=float64, numpy=-1780745.680345882>, <tf.Tensor: shape=(), dtype=float64, numpy=-1780745.6803458738>, <tf.Tensor: shape=(), dtype=float64, numpy=-1780745.6803458275>, <tf.Tensor: shape=(), dtype=float64, numpy=-1780745.678318703>, <tf.Tensor: shape=(), dtype=float64, numpy=-1780745.1104748154>, <tf.Tensor: shape=(), dtype=float64, numpy=-1780674.925891324>, <tf.Tensor: shape=(), dtype=float64, numpy=-1778668.4199936488>, <tf.Tensor: shape=(), dtype=float64, numpy=-1759882.3330054528>, <tf.Tensor: shape=(), dtype=float64, numpy=-1637024.6747443>, <tf.Tensor: shape=(), dtype=float64, numpy=-1234389.1609216423>, <tf.Tensor: shape=(), dtype=float64, numpy=-848667.6332842879>]]]\n"
     ]
    }
   ],
   "source": [
    "print(elbos)"
   ]
  },
  {
   "cell_type": "code",
   "execution_count": 171,
   "metadata": {},
   "outputs": [
    {
     "ename": "IndexError",
     "evalue": "list index out of range",
     "output_type": "error",
     "traceback": [
      "\u001b[0;31m---------------------------------------------------------------------------\u001b[0m",
      "\u001b[0;31mIndexError\u001b[0m                                Traceback (most recent call last)",
      "\u001b[0;32m/var/folders/hf/nwz23j_d1dx_8v_yxrw0v_vh0000gn/T/ipykernel_27947/3559827889.py\u001b[0m in \u001b[0;36m<module>\u001b[0;34m\u001b[0m\n\u001b[0;32m----> 1\u001b[0;31m \u001b[0mim\u001b[0m \u001b[0;34m=\u001b[0m \u001b[0mplt\u001b[0m\u001b[0;34m.\u001b[0m\u001b[0mimshow\u001b[0m\u001b[0;34m(\u001b[0m\u001b[0mnp\u001b[0m\u001b[0;34m.\u001b[0m\u001b[0mcbrt\u001b[0m\u001b[0;34m(\u001b[0m\u001b[0melbos\u001b[0m\u001b[0;34m[\u001b[0m\u001b[0;36m0\u001b[0m\u001b[0;34m]\u001b[0m\u001b[0;34m)\u001b[0m\u001b[0;34m,\u001b[0m \u001b[0minterpolation\u001b[0m\u001b[0;34m=\u001b[0m\u001b[0;34m\"spline16\"\u001b[0m\u001b[0;34m)\u001b[0m\u001b[0;34m\u001b[0m\u001b[0;34m\u001b[0m\u001b[0m\n\u001b[0m\u001b[1;32m      2\u001b[0m \u001b[0max\u001b[0m \u001b[0;34m=\u001b[0m \u001b[0mplt\u001b[0m\u001b[0;34m.\u001b[0m\u001b[0mgca\u001b[0m\u001b[0;34m(\u001b[0m\u001b[0;34m)\u001b[0m\u001b[0;34m;\u001b[0m\u001b[0;34m\u001b[0m\u001b[0;34m\u001b[0m\u001b[0m\n\u001b[1;32m      3\u001b[0m \u001b[0;34m\u001b[0m\u001b[0m\n\u001b[1;32m      4\u001b[0m \u001b[0;31m# # Major ticks\u001b[0m\u001b[0;34m\u001b[0m\u001b[0;34m\u001b[0m\u001b[0;34m\u001b[0m\u001b[0m\n\u001b[1;32m      5\u001b[0m \u001b[0max\u001b[0m\u001b[0;34m.\u001b[0m\u001b[0mset_xticks\u001b[0m\u001b[0;34m(\u001b[0m\u001b[0mnp\u001b[0m\u001b[0;34m.\u001b[0m\u001b[0mlinspace\u001b[0m\u001b[0;34m(\u001b[0m\u001b[0;36m0\u001b[0m\u001b[0;34m,\u001b[0m \u001b[0;36m20\u001b[0m\u001b[0;34m,\u001b[0m \u001b[0;36m10\u001b[0m\u001b[0;34m)\u001b[0m\u001b[0;34m)\u001b[0m\u001b[0;34m\u001b[0m\u001b[0;34m\u001b[0m\u001b[0m\n",
      "\u001b[0;31mIndexError\u001b[0m: list index out of range"
     ]
    }
   ],
   "source": [
    "im = plt.imshow(np.cbrt(elbos[0]), interpolation=\"spline16\")\n",
    "ax = plt.gca();\n",
    "\n",
    "# # Major ticks\n",
    "ax.set_xticks(np.linspace(0, 20, 10))\n",
    "ax.set_yticks(np.linspace(0, 21, 6))\n",
    "\n",
    "# Labels for major ticks\n",
    "\n",
    "\n",
    "ax.set_yticklabels([0.005, 0.01, 0.02, 0.04, 0.08, 0,16])\n",
    "ax.set_xticklabels(np.linspace(0,10,10))\n",
    "# plt.yscale('log')\n",
    "# plt.xscale('log')\n",
    "# ax.set_xticklabels([str(element) for element in np.round(len_range, decimals=3)])\n",
    "# ax.set_yticklabels([str(element) for element in np.round(noise_range, decimals=3)], minor=True)\n",
    "\n",
    "\n",
    "# plt.set_ticks(ticks=[str(element) for element in np.round(len_range, decimals=3)])\n",
    "plt.xlabel(\"kernel lengthscale\")\n",
    "plt.title(\"Variance {}\".format(var_y))\n",
    "plt.ylabel(\"noise variance\")\n",
    "plt.show()"
   ]
  },
  {
   "cell_type": "code",
   "execution_count": 170,
   "metadata": {},
   "outputs": [
    {
     "name": "stdout",
     "output_type": "stream",
     "text": [
      "[ 1.          1.47368421  1.94736842  2.42105263  2.89473684  3.36842105\n",
      "  3.84210526  4.31578947  4.78947368  5.26315789  5.73684211  6.21052632\n",
      "  6.68421053  7.15789474  7.63157895  8.10526316  8.57894737  9.05263158\n",
      "  9.52631579 10.        ]\n",
      "[0.005      0.00594604 0.00707107 0.00840896 0.01       0.01189207\n",
      " 0.01414214 0.01681793 0.02       0.02378414 0.02828427 0.03363586\n",
      " 0.04       0.04756828 0.05656854 0.06727171 0.08       0.09513657\n",
      " 0.11313708 0.13454343 0.16      ]\n"
     ]
    }
   ],
   "source": [
    "print(len_range)\n",
    "print(noise_range)"
   ]
  },
  {
   "cell_type": "code",
   "execution_count": 147,
   "metadata": {},
   "outputs": [
    {
     "name": "stdout",
     "output_type": "stream",
     "text": [
      "['0.001', '0.002', '0.003', '0.004', '0.007', '0.011', '0.018', '0.03', '0.048', '0.078', '0.127', '0.207', '0.336', '0.546', '0.886', '1.438', '2.336', '3.793', '6.158', '10.0']\n"
     ]
    }
   ],
   "source": [
    "print([str(element) for element in np.round(len_range, decimals=3)])\n"
   ]
  },
  {
   "cell_type": "code",
   "execution_count": 174,
   "metadata": {},
   "outputs": [
    {
     "name": "stdout",
     "output_type": "stream",
     "text": [
      "[ 0. 20.]\n",
      "[ 0.  4.  8. 12. 16. 20.]\n"
     ]
    }
   ],
   "source": [
    "print(np.linspace(0, 20, 2))\n",
    "print(np.linspace(0, 20, 6))"
   ]
  },
  {
   "cell_type": "markdown",
   "metadata": {},
   "source": [
    "##### SVGP"
   ]
  },
  {
   "cell_type": "code",
   "execution_count": 21,
   "metadata": {},
   "outputs": [
    {
     "data": {
      "image/png": "[encoded data removed]",
      "text/plain": [
       "<Figure size 432x288 with 1 Axes>"
      ]
     },
     "metadata": {
      "needs_background": "light"
     },
     "output_type": "display_data"
    },
    {
     "name": "stdout",
     "output_type": "stream",
     "text": [
      "(60000, 1)\n",
      "(60000, 784)\n",
      "<class 'numpy.float64'>\n"
     ]
    }
   ],
   "source": [
    "x_train, x_test, y_train, y_test = load_dataset(dataset=\"mnist\", y_hot_encoding=False)\n",
    "\n",
    "plt.imshow(x_train[1].reshape(28, 28), cmap='gray')\n",
    "plt.show()\n",
    "\n",
    "print(np.shape(y_train))\n",
    "print(np.shape(x_train))\n",
    "print(type(x_train[1,1]))\n",
    "\n",
    "data=(x_train, y_train)\n",
    "\n"
   ]
  },
  {
   "cell_type": "code",
   "execution_count": 22,
   "metadata": {},
   "outputs": [
    {
     "name": "stdout",
     "output_type": "stream",
     "text": [
      "(60000, 784)\n",
      "(60000, 1)\n"
     ]
    },
    {
     "data": {
      "text/html": [
       "&lt;gpflow.models.svgp.SVGP object at 0x7fb7955b3160&gt;\n",
       "<table>\n",
       "<thead>\n",
       "<tr><th>name                           </th><th>class    </th><th>transform     </th><th>prior  </th><th>trainable  </th><th>shape         </th><th>dtype  </th><th>value                </th></tr>\n",
       "</thead>\n",
       "<tbody>\n",
       "<tr><td>SVGP.kernel.variance           </td><td>Parameter</td><td>Softplus      </td><td>       </td><td>True       </td><td>()            </td><td>float64</td><td>1.0                  </td></tr>\n",
       "<tr><td>SVGP.kernel.lengthscales       </td><td>Parameter</td><td>Softplus      </td><td>       </td><td>True       </td><td>()            </td><td>float64</td><td>10.0                 </td></tr>\n",
       "<tr><td>SVGP.likelihood.invlink.epsilon</td><td>Parameter</td><td>Sigmoid       </td><td>Beta   </td><td>False      </td><td>()            </td><td>float64</td><td>0.0010000000000000005</td></tr>\n",
       "<tr><td>SVGP.inducing_variable.Z       </td><td>Parameter</td><td>Identity      </td><td>       </td><td>False      </td><td>(100, 784)    </td><td>float64</td><td>[[0., 0., 0....      </td></tr>\n",
       "<tr><td>SVGP.q_mu                      </td><td>Parameter</td><td>Identity      </td><td>       </td><td>True       </td><td>(100, 10)     </td><td>float64</td><td>[[0., 0., 0....      </td></tr>\n",
       "<tr><td>SVGP.q_sqrt                    </td><td>Parameter</td><td>FillTriangular</td><td>       </td><td>True       </td><td>(10, 100, 100)</td><td>float64</td><td>[[[1., 0., 0....     </td></tr>\n",
       "</tbody>\n",
       "</table>"
      ],
      "text/plain": [
       "<gpflow.models.svgp.SVGP object at 0x7fb7955b3160>\n",
       "╒═════════════════════════════════╤═══════════╤════════════════╤═════════╤═════════════╤════════════════╤═════════╤═══════════════════════╕\n",
       "│ name                            │ class     │ transform      │ prior   │ trainable   │ shape          │ dtype   │ value                 │\n",
       "╞═════════════════════════════════╪═══════════╪════════════════╪═════════╪═════════════╪════════════════╪═════════╪═══════════════════════╡\n",
       "│ SVGP.kernel.variance            │ Parameter │ Softplus       │         │ True        │ ()             │ float64 │ 1.0                   │\n",
       "├─────────────────────────────────┼───────────┼────────────────┼─────────┼─────────────┼────────────────┼─────────┼───────────────────────┤\n",
       "│ SVGP.kernel.lengthscales        │ Parameter │ Softplus       │         │ True        │ ()             │ float64 │ 10.0                  │\n",
       "├─────────────────────────────────┼───────────┼────────────────┼─────────┼─────────────┼────────────────┼─────────┼───────────────────────┤\n",
       "│ SVGP.likelihood.invlink.epsilon │ Parameter │ Sigmoid        │ Beta    │ False       │ ()             │ float64 │ 0.0010000000000000005 │\n",
       "├─────────────────────────────────┼───────────┼────────────────┼─────────┼─────────────┼────────────────┼─────────┼───────────────────────┤\n",
       "│ SVGP.inducing_variable.Z        │ Parameter │ Identity       │         │ False       │ (100, 784)     │ float64 │ [[0., 0., 0....       │\n",
       "├─────────────────────────────────┼───────────┼────────────────┼─────────┼─────────────┼────────────────┼─────────┼───────────────────────┤\n",
       "│ SVGP.q_mu                       │ Parameter │ Identity       │         │ True        │ (100, 10)      │ float64 │ [[0., 0., 0....       │\n",
       "├─────────────────────────────────┼───────────┼────────────────┼─────────┼─────────────┼────────────────┼─────────┼───────────────────────┤\n",
       "│ SVGP.q_sqrt                     │ Parameter │ FillTriangular │         │ True        │ (10, 100, 100) │ float64 │ [[[1., 0., 0....      │\n",
       "╘═════════════════════════════════╧═══════════╧════════════════╧═════════╧═════════════╧════════════════╧═════════╧═══════════════════════╛"
      ]
     },
     "execution_count": 22,
     "metadata": {},
     "output_type": "execute_result"
    }
   ],
   "source": [
    "\n",
    "#* Number of inducing points\n",
    "M = 100\n",
    "\n",
    "#* Random initialisation of inducing points\n",
    "Z_SVGP = x_train[:M, :].copy()\n",
    "\n",
    "#* Number of classes for a classification dataset\n",
    "C = len(unique_labels(y_train))\n",
    "\n",
    "# Robustmax Multiclass Likelihood\n",
    "invlink = gpflow.likelihoods.RobustMax(C)  # Robustmax inverse link function\n",
    "likelihood = gpflow.likelihoods.MultiClass(C, invlink=invlink)  # Multiclass likelihood\n",
    "\n",
    "#* Initialise the model\n",
    "m_SVGP = gpflow.models.SVGP(\n",
    "    #data=(x_train, y_train),\n",
    "    inducing_variable=Z_SVGP,\n",
    "    kernel=kernel,\n",
    "    num_latent_gps=C,\n",
    "    likelihood=likelihood,\n",
    "    )\n",
    "\n",
    "\n",
    "#* Set trainable parameters\n",
    "gpflow.set_trainable(m_SVGP.inducing_variable, False)\n",
    "\n",
    "#* Initialise hyperparams\n",
    "var_y = 1\n",
    "var_f = var_y\n",
    "kappa = 1\n",
    "var_n = var_f / kappa\n",
    "\n",
    "# m_SVGP.likelihood.variance.assign(var_n)\n",
    "m_SVGP.kernel.variance.assign(var_y)\n",
    "m_SVGP.kernel.lengthscales.assign(10)\n",
    "\n",
    "print(np.shape(x_train))\n",
    "print(np.shape(y_train))\n",
    "\n",
    "m_SVGP"
   ]
  },
  {
   "cell_type": "code",
   "execution_count": 236,
   "metadata": {},
   "outputs": [
    {
     "data": {
      "image/png": "[encoded data removed]",
      "text/plain": [
       "<Figure size 432x288 with 1 Axes>"
      ]
     },
     "metadata": {
      "needs_background": "light"
     },
     "output_type": "display_data"
    }
   ],
   "source": [
    "# #-- Optimisation\n",
    "\n",
    "\n",
    "\n",
    "#* Optimiser object\n",
    "opt = gpflow.optimizers.Scipy()\n",
    "\n",
    "#* List for ELBO values during \n",
    "logs_SVGP = []\n",
    "\n",
    "watch = Stopwatch()\n",
    "watch.reset()\n",
    "\n",
    "def log_opt_SVGP(x):\n",
    "    \"\"\"\n",
    "    Utility function to log the elbo score for each iteration during optimisaiton.\n",
    "\n",
    "    Args:\n",
    "        x\n",
    "    \"\"\"\n",
    "    logs_SVGP.append(float(m_SVGP.elbo(data)))\n",
    "    # logs.append(float(m.log_marginal_likelihood()))\n",
    "\n",
    "\n",
    "\n",
    "#* Optimise\n",
    "log_SVGP = opt.minimize(\n",
    "    m_SVGP.training_loss_closure(data),\n",
    "    m_SVGP.trainable_variables,\n",
    "    options=dict(maxiter=1000),\n",
    "    callback=log_opt_SVGP,\n",
    "    )\n",
    "\n",
    "# print(logs)\n",
    "plt.plot(logs_SVGP)\n",
    "plt.show()"
   ]
  },
  {
   "cell_type": "code",
   "execution_count": 244,
   "metadata": {},
   "outputs": [
    {
     "data": {
      "image/png": "[encoded data removed]",
      "text/plain": [
       "<Figure size 432x288 with 1 Axes>"
      ]
     },
     "metadata": {
      "needs_background": "light"
     },
     "output_type": "display_data"
    }
   ],
   "source": [
    "plt.plot(logs_SVGP)\n",
    "plt.ylim(-71750,-71700)\n",
    "plt.show()"
   ]
  },
  {
   "cell_type": "code",
   "execution_count": 26,
   "metadata": {},
   "outputs": [
    {
     "name": "stdout",
     "output_type": "stream",
     "text": [
      "tf.Tensor(-491664.8871761263, shape=(), dtype=float64)\n",
      "0.098\n",
      "[[0 0 0 0 0 0 0 0 0 0 0 0 0 0 0 0 0 0 0 0]]\n",
      "[[7 2 1 0 4 1 4 9 5 9 0 6 9 0 1 5 9 7 3 4]]\n"
     ]
    }
   ],
   "source": [
    "print(m_SVGP.elbo(data))\n",
    "\n",
    "y_pred, var = m_SVGP.predict_y(x_test)\n",
    "y_pred_labels = np.argmax(y_pred, axis=1).reshape(-1, 1)\n",
    "print(accuracy_score(y_test, y_pred_labels))\n",
    "\n",
    "print(y_pred_labels[:20].reshape(1, -1))\n",
    "print(y_test[:20].reshape(1, -1))\n",
    "\n"
   ]
  },
  {
   "cell_type": "markdown",
   "metadata": {},
   "source": [
    "#### Comparing Models"
   ]
  },
  {
   "cell_type": "code",
   "execution_count": 112,
   "metadata": {},
   "outputs": [],
   "source": [
    "def train_mnist(\n",
    "    model,\n",
    "    num_ind_points,\n",
    "    num_iterations,\n",
    "    train_ind_points=True,\n",
    "    learning_rate_adam=0.1,\n",
    "    minibatch_size=None,\n",
    "    ):\n",
    "    \"\"\"Trains sparse GP models on MNIST dataset.\n",
    "\n",
    "    Args:\n",
    "        model (str): model with which to train on MNIST dataset\n",
    "        num_ind_points (int): Number of inducing points to be used in the model.\n",
    "        num_iterations (int): Number of iterations during optimisation.\n",
    "        train_ind_points (bool, optional): Set inducing points to be a trainable parameter. Defaults to True.\n",
    "        learning_rate_adam (float, optional): Learning rate to use in Adam optimiser. Defaults to 0.01.\n",
    "        minibatch_size (int, optional): Size of minibatch to use during optimisation. Defaults to None (full batch training).\n",
    "\n",
    "    Returns:\n",
    "        model (GPflow model object)\n",
    "        times (array)\n",
    "        elbo_logs (array)\n",
    "        accuracy_logs (array)\n",
    "    \"\"\"\n",
    "\n",
    "    if not model == \"SGPR\" and not model == \"SVGP\":\n",
    "        raise ValueError(\"Model must be either SGPR or SVGP.\")\n",
    "    if not type(num_ind_points) is int:\n",
    "        raise ValueError(\"Number of inducing points must be an integer.\")\n",
    "    if not type(train_ind_points) is bool:\n",
    "        raise ValueError(\"train_ind_points must be boolean.\")\n",
    "    if not type(num_iterations) is int:\n",
    "        raise ValueError(\"Iterations must be an integer.\")\n",
    "    if minibatch_size is not None and not type(minibatch_size) is int:\n",
    "            raise ValueError(\"Minibatch size must be an integer.\")\n",
    "\n",
    "    y_hot_encoding = model==\"SGPR\"\n",
    "\n",
    "    x_train, x_test, y_train, y_test = load_dataset(dataset=\"mnist\", y_hot_encoding=y_hot_encoding)\n",
    "\n",
    "    data=(x_train, y_train)\n",
    "\n",
    "    N = len(y_train)\n",
    "\n",
    "    #* Number of inducing points\n",
    "    M = num_ind_points\n",
    "\n",
    "    #* Random initialisation of inducing points\n",
    "    Z = x_train[:M, :].copy()\n",
    "\n",
    "    #* Number of classes for a classification dataset\n",
    "    C = len(unique_labels(y_train))\n",
    "\n",
    "    #* Robustmax Multiclass Likelihood\n",
    "    invlink = gpflow.likelihoods.RobustMax(C)  # Robustmax inverse link function\n",
    "    likelihood = gpflow.likelihoods.MultiClass(C, invlink=invlink)  # Multiclass likelihood\n",
    "\n",
    "    #* Kernel\n",
    "    kernel = gpflow.kernels.SquaredExponential()\n",
    "\n",
    "    #* Initialise the model\n",
    "    if model==\"SVGP\":\n",
    "        m = gpflow.models.SVGP(\n",
    "            inducing_variable=Z,\n",
    "            kernel=kernel,\n",
    "            num_latent_gps=C,\n",
    "            likelihood=likelihood,\n",
    "            )\n",
    "    if model==\"SGPR\":\n",
    "        m = gpflow.models.SGPR(\n",
    "            data=data,\n",
    "            inducing_variable=Z,\n",
    "            kernel=kernel,\n",
    "            )\n",
    "\n",
    "    #* Pick value for jitter\n",
    "    jitter = 1e-3\n",
    "    gpflow.config.set_default_jitter(jitter)\n",
    "\n",
    "    #* Set trainable parameters\n",
    "    gpflow.set_trainable(m.inducing_variable, train_ind_points)\n",
    "\n",
    "    #* Initialise hyperparams\n",
    "    var_y = 1\n",
    "    var_f = var_y\n",
    "    kappa = 1\n",
    "    var_n = var_f / kappa\n",
    "\n",
    "    # m_SVGP.likelihood.variance.assign(var_n)\n",
    "    m.kernel.variance.assign(var_y)\n",
    "    m.kernel.lengthscales.assign(10)\n",
    "\n",
    "    #* Optimiser object\n",
    "    opt = tf.optimizers.Adam(learning_rate=learning_rate_adam)\n",
    "\n",
    "    #* List for ELBO values during \n",
    "    elbo_logs = []\n",
    "    accuracy_logs = []\n",
    "    times = []\n",
    "\n",
    "    watch = Stopwatch()\n",
    "    watch.reset()\n",
    "\n",
    "    n_logs = 200\n",
    "\n",
    "    def log_opt():\n",
    "        \"\"\"\n",
    "        Utility function to log the elbo score for each iteration during optimisaiton.\n",
    "\n",
    "        Args:\n",
    "            x\n",
    "        \"\"\"\n",
    "        watch.stop()\n",
    "        if model == \"SGPR\":\n",
    "            ELBO =  m.elbo()\n",
    "        elif model==\"SVGP\":\n",
    "            ELBO =  m.elbo(data)\n",
    "        elbo_logs.append(float(ELBO))\n",
    "        times.append(watch.read_time())\n",
    "        y_pred, var = m.predict_y(x_test)\n",
    "        y_pred_labels = np.argmax(y_pred, axis=1).reshape(-1, 1)\n",
    "        accuracy_logs.append(accuracy_score(y_test, y_pred_labels))\n",
    "        watch.start()\n",
    "        \n",
    "        # logs.append(float(m.log_marginal_likelihood()))\n",
    "\n",
    "\n",
    "    if model==\"SGPR\":\n",
    "        training_loss=m.training_loss\n",
    "\n",
    "    if model==\"SVGP\" and minibatch_size is None:\n",
    "        training_loss= m.training_loss_closure(data)\n",
    "    if model==\"SVGP\" and minibatch_size is not None:\n",
    "        train_dataset = tf.data.Dataset.from_tensor_slices((data)).repeat().shuffle(N)\n",
    "        train_iter = iter(train_dataset.batch(minibatch_size))\n",
    "        training_loss = m.training_loss_closure(train_iter, compile=True)\n",
    "\n",
    "    def run_adam(iterations):\n",
    "        for i in range(iterations):\n",
    "            opt.minimize(\n",
    "                training_loss,\n",
    "                m.trainable_variables,\n",
    "                )\n",
    "            freq = iterations//n_logs \n",
    "            if i % freq == 0:  #-- only log every freq iterations\n",
    "                log_opt()\n",
    "\n",
    "    watch.start()  # --Start the watch\n",
    "\n",
    "\n",
    "    #* Optimise\n",
    "    run_adam(num_iterations)\n",
    "\n",
    "\n",
    "    watch.stop() # --Stop the watch for the final time\n",
    "    print(\"Model: {}\".format(model))\n",
    "    print(\"Number of inducing points: {}\".format(num_ind_points))\n",
    "    print(\"Total time for optimisation: {} seconds\".format(watch.read_time()))\n",
    "    gpflow.utilities.print_summary(m, fmt=\"notebook\")\n",
    "\n",
    "    return m, times, elbo_logs, accuracy_logs\n"
   ]
  },
  {
   "cell_type": "code",
   "execution_count": 94,
   "metadata": {},
   "outputs": [
    {
     "name": "stdout",
     "output_type": "stream",
     "text": [
      "Model: SGPR\n",
      "Number of inducing points: 500\n",
      "Total time for optimisation: 1524.0462017059326 seconds\n"
     ]
    },
    {
     "data": {
      "text/html": [
       "<table>\n",
       "<thead>\n",
       "<tr><th>name                    </th><th>class    </th><th>transform       </th><th>prior  </th><th>trainable  </th><th>shape     </th><th>dtype  </th><th>value               </th></tr>\n",
       "</thead>\n",
       "<tbody>\n",
       "<tr><td>SGPR.kernel.variance    </td><td>Parameter</td><td>Softplus        </td><td>       </td><td>True       </td><td>()        </td><td>float64</td><td>0.007805522379905838</td></tr>\n",
       "<tr><td>SGPR.kernel.lengthscales</td><td>Parameter</td><td>Softplus        </td><td>       </td><td>True       </td><td>()        </td><td>float64</td><td>5.448216970962651   </td></tr>\n",
       "<tr><td>SGPR.likelihood.variance</td><td>Parameter</td><td>Softplus + Shift</td><td>       </td><td>True       </td><td>()        </td><td>float64</td><td>0.012400270533327137</td></tr>\n",
       "<tr><td>SGPR.inducing_variable.Z</td><td>Parameter</td><td>Identity        </td><td>       </td><td>True       </td><td>(500, 784)</td><td>float64</td><td>[[0., 0., 0....     </td></tr>\n",
       "</tbody>\n",
       "</table>"
      ],
      "text/plain": [
       "<IPython.core.display.HTML object>"
      ]
     },
     "metadata": {},
     "output_type": "display_data"
    },
    {
     "name": "stdout",
     "output_type": "stream",
     "text": [
      "Model: SGPR\n",
      "Number of inducing points: 500\n",
      "Total time for optimisation: 1555.1997833251953 seconds\n"
     ]
    },
    {
     "data": {
      "text/html": [
       "<table>\n",
       "<thead>\n",
       "<tr><th>name                    </th><th>class    </th><th>transform       </th><th>prior  </th><th>trainable  </th><th>shape     </th><th>dtype  </th><th>value               </th></tr>\n",
       "</thead>\n",
       "<tbody>\n",
       "<tr><td>SGPR.kernel.variance    </td><td>Parameter</td><td>Softplus        </td><td>       </td><td>True       </td><td>()        </td><td>float64</td><td>0.007963949103896204</td></tr>\n",
       "<tr><td>SGPR.kernel.lengthscales</td><td>Parameter</td><td>Softplus        </td><td>       </td><td>True       </td><td>()        </td><td>float64</td><td>6.052048572911095   </td></tr>\n",
       "<tr><td>SGPR.likelihood.variance</td><td>Parameter</td><td>Softplus + Shift</td><td>       </td><td>True       </td><td>()        </td><td>float64</td><td>0.022614544986596218</td></tr>\n",
       "<tr><td>SGPR.inducing_variable.Z</td><td>Parameter</td><td>Identity        </td><td>       </td><td>False      </td><td>(500, 784)</td><td>float64</td><td>[[0., 0., 0....     </td></tr>\n",
       "</tbody>\n",
       "</table>"
      ],
      "text/plain": [
       "<IPython.core.display.HTML object>"
      ]
     },
     "metadata": {},
     "output_type": "display_data"
    }
   ],
   "source": [
    "m_SGPR_Z, times_Z, elbos_Z, accuracies_Z = train_mnist(model=\"SGPR\", num_ind_points=500, train_ind_points=True, num_iterations=200 )\n",
    "m_SGPR, times, elbos, accuracies = train_mnist(model=\"SGPR\", num_ind_points=500, train_ind_points=False, num_iterations=200 )"
   ]
  },
  {
   "cell_type": "code",
   "execution_count": 116,
   "metadata": {},
   "outputs": [
    {
     "name": "stdout",
     "output_type": "stream",
     "text": [
      "Model: SVGP\n",
      "Number of inducing points: 500\n",
      "Total time for optimisation: 2786.305197238922 seconds\n"
     ]
    },
    {
     "data": {
      "text/html": [
       "<table>\n",
       "<thead>\n",
       "<tr><th>name                           </th><th>class    </th><th>transform     </th><th>prior  </th><th>trainable  </th><th>shape         </th><th>dtype  </th><th>value                                               </th></tr>\n",
       "</thead>\n",
       "<tbody>\n",
       "<tr><td>SVGP.kernel.variance           </td><td>Parameter</td><td>Softplus      </td><td>       </td><td>True       </td><td>()            </td><td>float64</td><td>194.54281454922904                                  </td></tr>\n",
       "<tr><td>SVGP.kernel.lengthscales       </td><td>Parameter</td><td>Softplus      </td><td>       </td><td>True       </td><td>()            </td><td>float64</td><td>31.253251327866717                                  </td></tr>\n",
       "<tr><td>SVGP.likelihood.invlink.epsilon</td><td>Parameter</td><td>Sigmoid       </td><td>Beta   </td><td>False      </td><td>()            </td><td>float64</td><td>0.0010000000000000005                               </td></tr>\n",
       "<tr><td>SVGP.inducing_variable.Z       </td><td>Parameter</td><td>Identity      </td><td>       </td><td>False      </td><td>(500, 784)    </td><td>float64</td><td>[[0., 0., 0....                                     </td></tr>\n",
       "<tr><td>SVGP.q_mu                      </td><td>Parameter</td><td>Identity      </td><td>       </td><td>True       </td><td>(500, 10)     </td><td>float64</td><td>[[0.10614859, -0.31970941, -0.06190814...           </td></tr>\n",
       "<tr><td>SVGP.q_sqrt                    </td><td>Parameter</td><td>FillTriangular</td><td>       </td><td>True       </td><td>(10, 500, 500)</td><td>float64</td><td>[[[1.63659270e-01, 0.00000000e+00, 0.00000000e+00...</td></tr>\n",
       "</tbody>\n",
       "</table>"
      ],
      "text/plain": [
       "<IPython.core.display.HTML object>"
      ]
     },
     "metadata": {},
     "output_type": "display_data"
    },
    {
     "ename": "KeyboardInterrupt",
     "evalue": "",
     "output_type": "error",
     "traceback": [
      "\u001b[0;31m---------------------------------------------------------------------------\u001b[0m",
      "\u001b[0;31mKeyboardInterrupt\u001b[0m                         Traceback (most recent call last)",
      "\u001b[0;32m/var/folders/hf/nwz23j_d1dx_8v_yxrw0v_vh0000gn/T/ipykernel_79485/1474615441.py\u001b[0m in \u001b[0;36m<module>\u001b[0;34m\u001b[0m\n\u001b[1;32m      1\u001b[0m \u001b[0mm_SVGP\u001b[0m\u001b[0;34m,\u001b[0m \u001b[0mtimes_SVGP\u001b[0m\u001b[0;34m,\u001b[0m \u001b[0melbos_SVGP\u001b[0m\u001b[0;34m,\u001b[0m \u001b[0maccuracies_SVGP\u001b[0m \u001b[0;34m=\u001b[0m \u001b[0mtrain_mnist\u001b[0m\u001b[0;34m(\u001b[0m\u001b[0mmodel\u001b[0m\u001b[0;34m=\u001b[0m\u001b[0;34m\"SVGP\"\u001b[0m\u001b[0;34m,\u001b[0m \u001b[0mnum_ind_points\u001b[0m\u001b[0;34m=\u001b[0m\u001b[0;36m500\u001b[0m\u001b[0;34m,\u001b[0m \u001b[0mtrain_ind_points\u001b[0m\u001b[0;34m=\u001b[0m\u001b[0;32mFalse\u001b[0m\u001b[0;34m,\u001b[0m \u001b[0mnum_iterations\u001b[0m\u001b[0;34m=\u001b[0m\u001b[0;36m10000\u001b[0m\u001b[0;34m,\u001b[0m \u001b[0mminibatch_size\u001b[0m\u001b[0;34m=\u001b[0m\u001b[0;36m500\u001b[0m\u001b[0;34m)\u001b[0m\u001b[0;34m\u001b[0m\u001b[0;34m\u001b[0m\u001b[0m\n\u001b[1;32m      2\u001b[0m \u001b[0;34m\u001b[0m\u001b[0m\n\u001b[0;32m----> 3\u001b[0;31m \u001b[0mm_SVGP_Z\u001b[0m\u001b[0;34m,\u001b[0m \u001b[0mtimes_SVGP_Z\u001b[0m\u001b[0;34m,\u001b[0m \u001b[0melbos_SVGP_Z\u001b[0m\u001b[0;34m,\u001b[0m \u001b[0maccuracies_SVGP_Z\u001b[0m \u001b[0;34m=\u001b[0m \u001b[0mtrain_mnist\u001b[0m\u001b[0;34m(\u001b[0m\u001b[0mmodel\u001b[0m\u001b[0;34m=\u001b[0m\u001b[0;34m\"SVGP\"\u001b[0m\u001b[0;34m,\u001b[0m \u001b[0mnum_ind_points\u001b[0m\u001b[0;34m=\u001b[0m\u001b[0;36m500\u001b[0m\u001b[0;34m,\u001b[0m \u001b[0mtrain_ind_points\u001b[0m\u001b[0;34m=\u001b[0m\u001b[0;32mTrue\u001b[0m\u001b[0;34m,\u001b[0m \u001b[0mnum_iterations\u001b[0m\u001b[0;34m=\u001b[0m\u001b[0;36m10000\u001b[0m\u001b[0;34m,\u001b[0m \u001b[0mminibatch_size\u001b[0m\u001b[0;34m=\u001b[0m\u001b[0;36m500\u001b[0m\u001b[0;34m)\u001b[0m\u001b[0;34m\u001b[0m\u001b[0;34m\u001b[0m\u001b[0m\n\u001b[0m",
      "\u001b[0;32m/var/folders/hf/nwz23j_d1dx_8v_yxrw0v_vh0000gn/T/ipykernel_79485/1887399371.py\u001b[0m in \u001b[0;36mtrain_mnist\u001b[0;34m(model, num_ind_points, num_iterations, train_ind_points, learning_rate_adam, minibatch_size)\u001b[0m\n\u001b[1;32m    150\u001b[0m \u001b[0;34m\u001b[0m\u001b[0m\n\u001b[1;32m    151\u001b[0m     \u001b[0;31m#* Optimise\u001b[0m\u001b[0;34m\u001b[0m\u001b[0;34m\u001b[0m\u001b[0;34m\u001b[0m\u001b[0m\n\u001b[0;32m--> 152\u001b[0;31m     \u001b[0mrun_adam\u001b[0m\u001b[0;34m(\u001b[0m\u001b[0mnum_iterations\u001b[0m\u001b[0;34m)\u001b[0m\u001b[0;34m\u001b[0m\u001b[0;34m\u001b[0m\u001b[0m\n\u001b[0m\u001b[1;32m    153\u001b[0m \u001b[0;34m\u001b[0m\u001b[0m\n\u001b[1;32m    154\u001b[0m \u001b[0;34m\u001b[0m\u001b[0m\n",
      "\u001b[0;32m/var/folders/hf/nwz23j_d1dx_8v_yxrw0v_vh0000gn/T/ipykernel_79485/1887399371.py\u001b[0m in \u001b[0;36mrun_adam\u001b[0;34m(iterations)\u001b[0m\n\u001b[1;32m    138\u001b[0m     \u001b[0;32mdef\u001b[0m \u001b[0mrun_adam\u001b[0m\u001b[0;34m(\u001b[0m\u001b[0miterations\u001b[0m\u001b[0;34m)\u001b[0m\u001b[0;34m:\u001b[0m\u001b[0;34m\u001b[0m\u001b[0;34m\u001b[0m\u001b[0m\n\u001b[1;32m    139\u001b[0m         \u001b[0;32mfor\u001b[0m \u001b[0mi\u001b[0m \u001b[0;32min\u001b[0m \u001b[0mrange\u001b[0m\u001b[0;34m(\u001b[0m\u001b[0miterations\u001b[0m\u001b[0;34m)\u001b[0m\u001b[0;34m:\u001b[0m\u001b[0;34m\u001b[0m\u001b[0;34m\u001b[0m\u001b[0m\n\u001b[0;32m--> 140\u001b[0;31m             opt.minimize(\n\u001b[0m\u001b[1;32m    141\u001b[0m                 \u001b[0mtraining_loss\u001b[0m\u001b[0;34m,\u001b[0m\u001b[0;34m\u001b[0m\u001b[0;34m\u001b[0m\u001b[0m\n\u001b[1;32m    142\u001b[0m                 \u001b[0mm\u001b[0m\u001b[0;34m.\u001b[0m\u001b[0mtrainable_variables\u001b[0m\u001b[0;34m,\u001b[0m\u001b[0;34m\u001b[0m\u001b[0;34m\u001b[0m\u001b[0m\n",
      "\u001b[0;32m~/opt/anaconda3/lib/python3.8/site-packages/keras/optimizer_v2/optimizer_v2.py\u001b[0m in \u001b[0;36mminimize\u001b[0;34m(self, loss, var_list, grad_loss, name, tape)\u001b[0m\n\u001b[1;32m    518\u001b[0m \u001b[0;34m\u001b[0m\u001b[0m\n\u001b[1;32m    519\u001b[0m     \"\"\"\n\u001b[0;32m--> 520\u001b[0;31m     grads_and_vars = self._compute_gradients(\n\u001b[0m\u001b[1;32m    521\u001b[0m         loss, var_list=var_list, grad_loss=grad_loss, tape=tape)\n\u001b[1;32m    522\u001b[0m     \u001b[0;32mreturn\u001b[0m \u001b[0mself\u001b[0m\u001b[0;34m.\u001b[0m\u001b[0mapply_gradients\u001b[0m\u001b[0;34m(\u001b[0m\u001b[0mgrads_and_vars\u001b[0m\u001b[0;34m,\u001b[0m \u001b[0mname\u001b[0m\u001b[0;34m=\u001b[0m\u001b[0mname\u001b[0m\u001b[0;34m)\u001b[0m\u001b[0;34m\u001b[0m\u001b[0;34m\u001b[0m\u001b[0m\n",
      "\u001b[0;32m~/opt/anaconda3/lib/python3.8/site-packages/keras/optimizer_v2/optimizer_v2.py\u001b[0m in \u001b[0;36m_compute_gradients\u001b[0;34m(self, loss, var_list, grad_loss, tape)\u001b[0m\n\u001b[1;32m    570\u001b[0m     \u001b[0mvar_list\u001b[0m \u001b[0;34m=\u001b[0m \u001b[0mtf\u001b[0m\u001b[0;34m.\u001b[0m\u001b[0mnest\u001b[0m\u001b[0;34m.\u001b[0m\u001b[0mflatten\u001b[0m\u001b[0;34m(\u001b[0m\u001b[0mvar_list\u001b[0m\u001b[0;34m)\u001b[0m\u001b[0;34m\u001b[0m\u001b[0;34m\u001b[0m\u001b[0m\n\u001b[1;32m    571\u001b[0m     \u001b[0;32mwith\u001b[0m \u001b[0mtf\u001b[0m\u001b[0;34m.\u001b[0m\u001b[0mname_scope\u001b[0m\u001b[0;34m(\u001b[0m\u001b[0mself\u001b[0m\u001b[0;34m.\u001b[0m\u001b[0m_name\u001b[0m \u001b[0;34m+\u001b[0m \u001b[0;34m\"/gradients\"\u001b[0m\u001b[0;34m)\u001b[0m\u001b[0;34m:\u001b[0m\u001b[0;34m\u001b[0m\u001b[0;34m\u001b[0m\u001b[0m\n\u001b[0;32m--> 572\u001b[0;31m       \u001b[0mgrads_and_vars\u001b[0m \u001b[0;34m=\u001b[0m \u001b[0mself\u001b[0m\u001b[0;34m.\u001b[0m\u001b[0m_get_gradients\u001b[0m\u001b[0;34m(\u001b[0m\u001b[0mtape\u001b[0m\u001b[0;34m,\u001b[0m \u001b[0mloss\u001b[0m\u001b[0;34m,\u001b[0m \u001b[0mvar_list\u001b[0m\u001b[0;34m,\u001b[0m \u001b[0mgrad_loss\u001b[0m\u001b[0;34m)\u001b[0m\u001b[0;34m\u001b[0m\u001b[0;34m\u001b[0m\u001b[0m\n\u001b[0m\u001b[1;32m    573\u001b[0m \u001b[0;34m\u001b[0m\u001b[0m\n\u001b[1;32m    574\u001b[0m     self._assert_valid_dtypes([\n",
      "\u001b[0;32m~/opt/anaconda3/lib/python3.8/site-packages/keras/optimizer_v2/optimizer_v2.py\u001b[0m in \u001b[0;36m_get_gradients\u001b[0;34m(self, tape, loss, var_list, grad_loss)\u001b[0m\n\u001b[1;32m    452\u001b[0m   \u001b[0;32mdef\u001b[0m \u001b[0m_get_gradients\u001b[0m\u001b[0;34m(\u001b[0m\u001b[0mself\u001b[0m\u001b[0;34m,\u001b[0m \u001b[0mtape\u001b[0m\u001b[0;34m,\u001b[0m \u001b[0mloss\u001b[0m\u001b[0;34m,\u001b[0m \u001b[0mvar_list\u001b[0m\u001b[0;34m,\u001b[0m \u001b[0mgrad_loss\u001b[0m\u001b[0;34m=\u001b[0m\u001b[0;32mNone\u001b[0m\u001b[0;34m)\u001b[0m\u001b[0;34m:\u001b[0m\u001b[0;34m\u001b[0m\u001b[0;34m\u001b[0m\u001b[0m\n\u001b[1;32m    453\u001b[0m     \u001b[0;34m\"\"\"Called in `minimize` to compute gradients from loss.\"\"\"\u001b[0m\u001b[0;34m\u001b[0m\u001b[0;34m\u001b[0m\u001b[0m\n\u001b[0;32m--> 454\u001b[0;31m     \u001b[0mgrads\u001b[0m \u001b[0;34m=\u001b[0m \u001b[0mtape\u001b[0m\u001b[0;34m.\u001b[0m\u001b[0mgradient\u001b[0m\u001b[0;34m(\u001b[0m\u001b[0mloss\u001b[0m\u001b[0;34m,\u001b[0m \u001b[0mvar_list\u001b[0m\u001b[0;34m,\u001b[0m \u001b[0mgrad_loss\u001b[0m\u001b[0;34m)\u001b[0m\u001b[0;34m\u001b[0m\u001b[0;34m\u001b[0m\u001b[0m\n\u001b[0m\u001b[1;32m    455\u001b[0m     \u001b[0;32mreturn\u001b[0m \u001b[0mlist\u001b[0m\u001b[0;34m(\u001b[0m\u001b[0mzip\u001b[0m\u001b[0;34m(\u001b[0m\u001b[0mgrads\u001b[0m\u001b[0;34m,\u001b[0m \u001b[0mvar_list\u001b[0m\u001b[0;34m)\u001b[0m\u001b[0;34m)\u001b[0m\u001b[0;34m\u001b[0m\u001b[0;34m\u001b[0m\u001b[0m\n\u001b[1;32m    456\u001b[0m \u001b[0;34m\u001b[0m\u001b[0m\n",
      "\u001b[0;32m~/opt/anaconda3/lib/python3.8/site-packages/tensorflow/python/eager/backprop.py\u001b[0m in \u001b[0;36mgradient\u001b[0;34m(self, target, sources, output_gradients, unconnected_gradients)\u001b[0m\n\u001b[1;32m   1082\u001b[0m                           for x in nest.flatten(output_gradients)]\n\u001b[1;32m   1083\u001b[0m \u001b[0;34m\u001b[0m\u001b[0m\n\u001b[0;32m-> 1084\u001b[0;31m     flat_grad = imperative_grad.imperative_grad(\n\u001b[0m\u001b[1;32m   1085\u001b[0m         \u001b[0mself\u001b[0m\u001b[0;34m.\u001b[0m\u001b[0m_tape\u001b[0m\u001b[0;34m,\u001b[0m\u001b[0;34m\u001b[0m\u001b[0;34m\u001b[0m\u001b[0m\n\u001b[1;32m   1086\u001b[0m         \u001b[0mflat_targets\u001b[0m\u001b[0;34m,\u001b[0m\u001b[0;34m\u001b[0m\u001b[0;34m\u001b[0m\u001b[0m\n",
      "\u001b[0;32m~/opt/anaconda3/lib/python3.8/site-packages/tensorflow/python/eager/imperative_grad.py\u001b[0m in \u001b[0;36mimperative_grad\u001b[0;34m(tape, target, sources, output_gradients, sources_raw, unconnected_gradients)\u001b[0m\n\u001b[1;32m     69\u001b[0m         \"Unknown value for unconnected_gradients: %r\" % unconnected_gradients)\n\u001b[1;32m     70\u001b[0m \u001b[0;34m\u001b[0m\u001b[0m\n\u001b[0;32m---> 71\u001b[0;31m   return pywrap_tfe.TFE_Py_TapeGradient(\n\u001b[0m\u001b[1;32m     72\u001b[0m       \u001b[0mtape\u001b[0m\u001b[0;34m.\u001b[0m\u001b[0m_tape\u001b[0m\u001b[0;34m,\u001b[0m  \u001b[0;31m# pylint: disable=protected-access\u001b[0m\u001b[0;34m\u001b[0m\u001b[0;34m\u001b[0m\u001b[0m\n\u001b[1;32m     73\u001b[0m       \u001b[0mtarget\u001b[0m\u001b[0;34m,\u001b[0m\u001b[0;34m\u001b[0m\u001b[0;34m\u001b[0m\u001b[0m\n",
      "\u001b[0;32m~/opt/anaconda3/lib/python3.8/site-packages/tensorflow/python/eager/function.py\u001b[0m in \u001b[0;36m_backward_function_wrapper\u001b[0;34m(*args)\u001b[0m\n\u001b[1;32m   1300\u001b[0m         \u001b[0;32mif\u001b[0m \u001b[0minput_index\u001b[0m \u001b[0;34m>=\u001b[0m \u001b[0mbackward_function_inputs\u001b[0m\u001b[0;34m:\u001b[0m\u001b[0;34m\u001b[0m\u001b[0;34m\u001b[0m\u001b[0m\n\u001b[1;32m   1301\u001b[0m           \u001b[0;32mbreak\u001b[0m\u001b[0;34m\u001b[0m\u001b[0;34m\u001b[0m\u001b[0m\n\u001b[0;32m-> 1302\u001b[0;31m       return backward._call_flat(  # pylint: disable=protected-access\n\u001b[0m\u001b[1;32m   1303\u001b[0m           processed_args, remapped_captures)\n\u001b[1;32m   1304\u001b[0m \u001b[0;34m\u001b[0m\u001b[0m\n",
      "\u001b[0;32m~/opt/anaconda3/lib/python3.8/site-packages/tensorflow/python/eager/function.py\u001b[0m in \u001b[0;36m_call_flat\u001b[0;34m(self, args, captured_inputs, cancellation_manager)\u001b[0m\n\u001b[1;32m   1961\u001b[0m         and executing_eagerly):\n\u001b[1;32m   1962\u001b[0m       \u001b[0;31m# No tape is watching; skip to running the function.\u001b[0m\u001b[0;34m\u001b[0m\u001b[0;34m\u001b[0m\u001b[0;34m\u001b[0m\u001b[0m\n\u001b[0;32m-> 1963\u001b[0;31m       return self._build_call_outputs(self._inference_function.call(\n\u001b[0m\u001b[1;32m   1964\u001b[0m           ctx, args, cancellation_manager=cancellation_manager))\n\u001b[1;32m   1965\u001b[0m     forward_backward = self._select_forward_and_backward_functions(\n",
      "\u001b[0;32m~/opt/anaconda3/lib/python3.8/site-packages/tensorflow/python/eager/function.py\u001b[0m in \u001b[0;36mcall\u001b[0;34m(self, ctx, args, cancellation_manager)\u001b[0m\n\u001b[1;32m    589\u001b[0m       \u001b[0;32mwith\u001b[0m \u001b[0m_InterpolateFunctionError\u001b[0m\u001b[0;34m(\u001b[0m\u001b[0mself\u001b[0m\u001b[0;34m)\u001b[0m\u001b[0;34m:\u001b[0m\u001b[0;34m\u001b[0m\u001b[0;34m\u001b[0m\u001b[0m\n\u001b[1;32m    590\u001b[0m         \u001b[0;32mif\u001b[0m \u001b[0mcancellation_manager\u001b[0m \u001b[0;32mis\u001b[0m \u001b[0;32mNone\u001b[0m\u001b[0;34m:\u001b[0m\u001b[0;34m\u001b[0m\u001b[0;34m\u001b[0m\u001b[0m\n\u001b[0;32m--> 591\u001b[0;31m           outputs = execute.execute(\n\u001b[0m\u001b[1;32m    592\u001b[0m               \u001b[0mstr\u001b[0m\u001b[0;34m(\u001b[0m\u001b[0mself\u001b[0m\u001b[0;34m.\u001b[0m\u001b[0msignature\u001b[0m\u001b[0;34m.\u001b[0m\u001b[0mname\u001b[0m\u001b[0;34m)\u001b[0m\u001b[0;34m,\u001b[0m\u001b[0;34m\u001b[0m\u001b[0;34m\u001b[0m\u001b[0m\n\u001b[1;32m    593\u001b[0m               \u001b[0mnum_outputs\u001b[0m\u001b[0;34m=\u001b[0m\u001b[0mself\u001b[0m\u001b[0;34m.\u001b[0m\u001b[0m_num_outputs\u001b[0m\u001b[0;34m,\u001b[0m\u001b[0;34m\u001b[0m\u001b[0;34m\u001b[0m\u001b[0m\n",
      "\u001b[0;32m~/opt/anaconda3/lib/python3.8/site-packages/tensorflow/python/eager/execute.py\u001b[0m in \u001b[0;36mquick_execute\u001b[0;34m(op_name, num_outputs, inputs, attrs, ctx, name)\u001b[0m\n\u001b[1;32m     57\u001b[0m   \u001b[0;32mtry\u001b[0m\u001b[0;34m:\u001b[0m\u001b[0;34m\u001b[0m\u001b[0;34m\u001b[0m\u001b[0m\n\u001b[1;32m     58\u001b[0m     \u001b[0mctx\u001b[0m\u001b[0;34m.\u001b[0m\u001b[0mensure_initialized\u001b[0m\u001b[0;34m(\u001b[0m\u001b[0;34m)\u001b[0m\u001b[0;34m\u001b[0m\u001b[0;34m\u001b[0m\u001b[0m\n\u001b[0;32m---> 59\u001b[0;31m     tensors = pywrap_tfe.TFE_Py_Execute(ctx._handle, device_name, op_name,\n\u001b[0m\u001b[1;32m     60\u001b[0m                                         inputs, attrs, num_outputs)\n\u001b[1;32m     61\u001b[0m   \u001b[0;32mexcept\u001b[0m \u001b[0mcore\u001b[0m\u001b[0;34m.\u001b[0m\u001b[0m_NotOkStatusException\u001b[0m \u001b[0;32mas\u001b[0m \u001b[0me\u001b[0m\u001b[0;34m:\u001b[0m\u001b[0;34m\u001b[0m\u001b[0;34m\u001b[0m\u001b[0m\n",
      "\u001b[0;31mKeyboardInterrupt\u001b[0m: "
     ]
    }
   ],
   "source": [
    "m_SVGP, times_SVGP, elbos_SVGP, accuracies_SVGP = train_mnist(model=\"SVGP\", num_ind_points=500, train_ind_points=False, num_iterations=10000, minibatch_size=500)\n",
    "\n",
    "m_SVGP_Z, times_SVGP_Z, elbos_SVGP_Z, accuracies_SVGP_Z = train_mnist(model=\"SVGP\", num_ind_points=500, train_ind_points=True, num_iterations=10000, minibatch_size=500)"
   ]
  },
  {
   "cell_type": "code",
   "execution_count": 126,
   "metadata": {},
   "outputs": [
    {
     "data": {
      "image/png": "[encoded data removed]",
      "text/plain": [
       "<Figure size 432x288 with 1 Axes>"
      ]
     },
     "metadata": {
      "needs_background": "light"
     },
     "output_type": "display_data"
    },
    {
     "data": {
      "image/png": "[encoded data removed]",
      "text/plain": [
       "<Figure size 432x288 with 1 Axes>"
      ]
     },
     "metadata": {
      "needs_background": "light"
     },
     "output_type": "display_data"
    }
   ],
   "source": [
    "# print(logs)\n",
    "plt.figure()\n",
    "plt.title(\"Sparse GP models with 500 inducing points\")\n",
    "plt.plot(times, elbos, label=\"SGPR without inducing point training\")\n",
    "plt.plot(times, elbos_Z, label=\"SGPR with inducing point training\")\n",
    "plt.plot(times_SVGP, elbos_SVGP, label=\"SVGP without inducing point training (mb size=500)\")\n",
    "#plt.plot(times_SVGP_Z, elbos_SVGP_Z, label=\"SVGP with inducing point training\")\n",
    "plt.xlabel(\"Time /s\")\n",
    "plt.ylabel(\"ELBO\")\n",
    "plt.legend()\n",
    "plt.grid(True, alpha=0.2)\n",
    "plt.show()\n",
    "\n",
    "plt.figure()\n",
    "plt.title(\"Sparse GP models with 500 inducing points\")\n",
    "plt.plot(times, accuracies, label=\"Without inducing point training\")\n",
    "plt.plot(times, accuracies_Z, label=\"With inducing point training\")\n",
    "plt.plot(times_SVGP, accuracies_SVGP, label=\"SVGP without inducing point training (mb size=500)\")\n",
    "#plt.plot(times_SVGP_Z, accuracies_SVGP_Z, label=\"SVGP with inducing point training\")\n",
    "plt.xlabel(\"Time /s\")\n",
    "plt.ylabel(\"Accuracy Score\")\n",
    "plt.legend()\n",
    "plt.grid(True, \"both\", alpha=0.2)\n",
    "plt.show()"
   ]
  },
  {
   "cell_type": "code",
   "execution_count": 150,
   "metadata": {},
   "outputs": [
    {
     "data": {
      "text/html": [
       "<div>\n",
       "<style scoped>\n",
       "    .dataframe tbody tr th:only-of-type {\n",
       "        vertical-align: middle;\n",
       "    }\n",
       "\n",
       "    .dataframe tbody tr th {\n",
       "        vertical-align: top;\n",
       "    }\n",
       "\n",
       "    .dataframe thead th {\n",
       "        text-align: right;\n",
       "    }\n",
       "</style>\n",
       "<table border=\"1\" class=\"dataframe\">\n",
       "  <thead>\n",
       "    <tr style=\"text-align: right;\">\n",
       "      <th></th>\n",
       "      <th>Model</th>\n",
       "      <th>M</th>\n",
       "      <th>Train Z</th>\n",
       "      <th>Adam learning rate</th>\n",
       "      <th>minibatch size</th>\n",
       "      <th>iterations</th>\n",
       "      <th>time logs</th>\n",
       "      <th>ELBo logs</th>\n",
       "      <th>accuracy logs</th>\n",
       "      <th>final hyperparams</th>\n",
       "    </tr>\n",
       "  </thead>\n",
       "  <tbody>\n",
       "  </tbody>\n",
       "</table>\n",
       "</div>"
      ],
      "text/plain": [
       "Empty DataFrame\n",
       "Columns: [Model, M, Train Z, Adam learning rate, minibatch size, iterations, time logs, ELBo logs, accuracy logs, final hyperparams]\n",
       "Index: []"
      ]
     },
     "execution_count": 150,
     "metadata": {},
     "output_type": "execute_result"
    }
   ],
   "source": [
    "col_names =  [\n",
    "    \"Model\",\n",
    "    \"M\",\n",
    "    \"Train Z\",\n",
    "    \"Adam learning rate\",\n",
    "    \"minibatch size\",\n",
    "    \"iterations\",\n",
    "    \"time logs\",\n",
    "    \"ELBo logs\",\n",
    "    \"accuracy logs\",\n",
    "    \"final hyperparams\"\n",
    "    ]\n",
    "  \n",
    "# create an empty dataframe\n",
    "# with columns\n",
    "my_df  = pd.DataFrame(columns = col_names)\n",
    "  \n",
    "# show the dataframe\n",
    "my_df"
   ]
  },
  {
   "cell_type": "code",
   "execution_count": 151,
   "metadata": {},
   "outputs": [
    {
     "data": {
      "text/html": [
       "<div>\n",
       "<style scoped>\n",
       "    .dataframe tbody tr th:only-of-type {\n",
       "        vertical-align: middle;\n",
       "    }\n",
       "\n",
       "    .dataframe tbody tr th {\n",
       "        vertical-align: top;\n",
       "    }\n",
       "\n",
       "    .dataframe thead th {\n",
       "        text-align: right;\n",
       "    }\n",
       "</style>\n",
       "<table border=\"1\" class=\"dataframe\">\n",
       "  <thead>\n",
       "    <tr style=\"text-align: right;\">\n",
       "      <th></th>\n",
       "      <th>Model</th>\n",
       "      <th>M</th>\n",
       "      <th>Train Z</th>\n",
       "      <th>Adam learning rate</th>\n",
       "      <th>minibatch size</th>\n",
       "      <th>iterations</th>\n",
       "      <th>time logs</th>\n",
       "      <th>ELBo logs</th>\n",
       "      <th>accuracy logs</th>\n",
       "      <th>final hyperparams</th>\n",
       "    </tr>\n",
       "  </thead>\n",
       "  <tbody>\n",
       "    <tr>\n",
       "      <th>0</th>\n",
       "      <td>SGPR</td>\n",
       "      <td>500</td>\n",
       "      <td>True</td>\n",
       "      <td>0.1</td>\n",
       "      <td>None</td>\n",
       "      <td>200</td>\n",
       "      <td>[8.836072206497192, 16.489488124847412, 24.211...</td>\n",
       "      <td>[-571732.3483599932, -549817.7743918194, -5286...</td>\n",
       "      <td>[0.9374, 0.9417, 0.9468, 0.949, 0.9516, 0.9513...</td>\n",
       "      <td>{'kernel variance': 0.007805522379905838, 'ker...</td>\n",
       "    </tr>\n",
       "    <tr>\n",
       "      <th>1</th>\n",
       "      <td>SGPR</td>\n",
       "      <td>500</td>\n",
       "      <td>False</td>\n",
       "      <td>0.1</td>\n",
       "      <td>None</td>\n",
       "      <td>200</td>\n",
       "      <td>[7.356839895248413, 14.907065153121948, 22.190...</td>\n",
       "      <td>[-571361.4855527049, -551379.4882157303, -5309...</td>\n",
       "      <td>[0.9359, 0.9355, 0.9353, 0.9352, 0.9349, 0.934...</td>\n",
       "      <td>{'kernel variance': 0.007963949103896204, 'ker...</td>\n",
       "    </tr>\n",
       "    <tr>\n",
       "      <th>2</th>\n",
       "      <td>SVGP</td>\n",
       "      <td>500</td>\n",
       "      <td>False</td>\n",
       "      <td>0.1</td>\n",
       "      <td>500</td>\n",
       "      <td>10000</td>\n",
       "      <td>[1.5061697959899902, 15.811347723007202, 29.87...</td>\n",
       "      <td>[-425668.70078789187, -98995.066459268, -96993...</td>\n",
       "      <td>[0.759, 0.8996, 0.9037, 0.9018, 0.8966, 0.8998...</td>\n",
       "      <td>{'kernel variance': 194.54281454922904, 'kerne...</td>\n",
       "    </tr>\n",
       "  </tbody>\n",
       "</table>\n",
       "</div>"
      ],
      "text/plain": [
       "  Model    M Train Z  Adam learning rate minibatch size iterations  \\\n",
       "0  SGPR  500    True                 0.1           None        200   \n",
       "1  SGPR  500   False                 0.1           None        200   \n",
       "2  SVGP  500   False                 0.1            500      10000   \n",
       "\n",
       "                                           time logs  \\\n",
       "0  [8.836072206497192, 16.489488124847412, 24.211...   \n",
       "1  [7.356839895248413, 14.907065153121948, 22.190...   \n",
       "2  [1.5061697959899902, 15.811347723007202, 29.87...   \n",
       "\n",
       "                                           ELBo logs  \\\n",
       "0  [-571732.3483599932, -549817.7743918194, -5286...   \n",
       "1  [-571361.4855527049, -551379.4882157303, -5309...   \n",
       "2  [-425668.70078789187, -98995.066459268, -96993...   \n",
       "\n",
       "                                       accuracy logs  \\\n",
       "0  [0.9374, 0.9417, 0.9468, 0.949, 0.9516, 0.9513...   \n",
       "1  [0.9359, 0.9355, 0.9353, 0.9352, 0.9349, 0.934...   \n",
       "2  [0.759, 0.8996, 0.9037, 0.9018, 0.8966, 0.8998...   \n",
       "\n",
       "                                   final hyperparams  \n",
       "0  {'kernel variance': 0.007805522379905838, 'ker...  \n",
       "1  {'kernel variance': 0.007963949103896204, 'ker...  \n",
       "2  {'kernel variance': 194.54281454922904, 'kerne...  "
      ]
     },
     "execution_count": 151,
     "metadata": {},
     "output_type": "execute_result"
    }
   ],
   "source": [
    "my_df.loc[len(my_df.index)] = (\"SGPR\", 500, True, 0.1, None, 200, times_Z, elbos_Z, accuracies_Z, {\"kernel variance\": m_SGPR_Z.kernel.variance.numpy(), \"kernel lengthscale\": m_SGPR_Z.kernel.lengthscales.numpy(), \"likelihood variance\": m_SGPR_Z.likelihood.variance.numpy()})\n",
    "\n",
    "my_df.loc[len(my_df.index)] = (\"SGPR\", 500, False, 0.1, None, 200, times, elbos, accuracies, {\"kernel variance\": m_SGPR.kernel.variance.numpy(), \"kernel lengthscale\": m_SGPR.kernel.lengthscales.numpy(), \"likelihood variance\": m_SGPR.likelihood.variance.numpy()})\n",
    "\n",
    "my_df.loc[len(my_df.index)] = (\"SVGP\", 500, False, 0.1, 500, 10000, times_SVGP, elbos_SVGP, accuracies_SVGP, {\"kernel variance\": m_SVGP.kernel.variance.numpy(), \"kernel lengthscale\": m_SVGP.kernel.lengthscales.numpy(), \"likelihood variance\": m_SVGP.likelihood.invlink.epsilon.numpy()})\n",
    "\n",
    "\n",
    "my_df"
   ]
  }
 ],
 "metadata": {
  "interpreter": {
   "hash": "e23cd63839a24d10844f2bf3826d14df851b4825174cb3cdb62e15bac83a1cc5"
  },
  "kernelspec": {
   "display_name": "Python 3.8.8 ('base')",
   "language": "python",
   "name": "python3"
  },
  "language_info": {
   "codemirror_mode": {
    "name": "ipython",
    "version": 3
   },
   "file_extension": ".py",
   "mimetype": "text/x-python",
   "name": "python",
   "nbconvert_exporter": "python",
   "pygments_lexer": "ipython3",
   "version": "3.8.8"
  },
  "orig_nbformat": 4
 },
 "nbformat": 4,
 "nbformat_minor": 2
}
