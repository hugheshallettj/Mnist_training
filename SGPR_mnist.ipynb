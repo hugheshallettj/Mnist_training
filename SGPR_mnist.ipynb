{
 "cells": [
  {
   "cell_type": "markdown",
   "metadata": {},
   "source": [
    "### Load Libraries"
   ]
  },
  {
   "cell_type": "code",
   "execution_count": 6,
   "metadata": {},
   "outputs": [],
   "source": [
    "import gpflow\n",
    "import tensorflow as tf\n",
    "import numpy as np\n",
    "import matplotlib.pyplot as plt\n",
    "import pandas as pd\n",
    "import sklearn \n",
    "from sklearn.utils.multiclass import unique_labels\n",
    "from sklearn.datasets import load_iris, load_diabetes, load_breast_cancer, load_digits\n",
    "from sklearn.model_selection import train_test_split\n",
    "from sklearn.preprocessing import OneHotEncoder\n",
    "from sklearn.metrics import accuracy_score\n",
    "import scipy\n",
    "import time\n",
    "\n",
    "rng = np.random.RandomState(123)\n",
    "tf.random.set_seed(42)"
   ]
  },
  {
   "cell_type": "markdown",
   "metadata": {},
   "source": [
    "### Utility Functions"
   ]
  },
  {
   "cell_type": "code",
   "execution_count": 2,
   "metadata": {},
   "outputs": [],
   "source": [
    "\n",
    "def resort_data(X_test, *args):\n",
    "    \"\"\"\n",
    "    Function to resort data, such that they are in ascending order wrt X_test. Useful for plotting curves.\n",
    "\n",
    "    Args:\n",
    "        X_test (array)\n",
    "\n",
    "    Returns:\n",
    "        X_test reordered\n",
    "    \"\"\"\n",
    "\n",
    "\n",
    "    X_test, *args = zip(*sorted(zip(X_test, *args)))\n",
    "\n",
    "    X_test = np.array(X_test)\n",
    "    \n",
    "    args = [np.array(arg) for arg in args]\n",
    "\n",
    "    return X_test, *args"
   ]
  },
  {
   "cell_type": "code",
   "execution_count": 3,
   "metadata": {},
   "outputs": [],
   "source": [
    "## \n",
    "def load_1D_dataset(N_total=200, test_set_proportion=0.2):\n",
    "    \"\"\"\n",
    "    Function to load a customisable toy 1D regression dataset\n",
    "\n",
    "    Args:\n",
    "        N_total (int, optional): Total number of data points. Defaults to 200.\n",
    "        test_set_proportion (float, optional): Proportion of test point to all data points. Defaults to 0.2.\n",
    "    \"\"\"\n",
    "    \n",
    "    def func(x):\n",
    "        return np.sin(x * 3 * 3.14) + 0.3 * np.cos(x * 9 * 3.14) + 0.5 * np.sin(x * 7 * 3.14)\n",
    "\n",
    "    N_tot = N_total  # Number of total input points (training and test)\n",
    "\n",
    "    X = rng.rand(N_tot, 1) * 2 - 1  # X values\n",
    "    Y = func(X) + 0.2 * rng.randn(N_tot, 1)  # Noisy Y values\n",
    "\n",
    "    # Split data into training and test sets\n",
    "    X_train, X_test, Y_train, Y_test = train_test_split(\n",
    "        X,\n",
    "        Y,\n",
    "        test_size=test_set_proportion,\n",
    "        random_state=88,\n",
    "        shuffle=True\n",
    "        )\n",
    "\n",
    "    X_test, Y_test = resort_data(X_test, Y_test)\n",
    "\n",
    "    return  X_train, X_test, Y_train, Y_test\n",
    "\n",
    "\n"
   ]
  },
  {
   "cell_type": "code",
   "execution_count": 3,
   "metadata": {},
   "outputs": [],
   "source": [
    "\n",
    "def load_dataset(dataset=\"1D\", y_hot_encoding=True):\n",
    "    \"\"\"\n",
    "    Dataset loading utility function.\n",
    "\n",
    "    Args:\n",
    "        dataset (str, optional): the string of the dataset to be loaded. Defaults to \"1D\".\n",
    "\n",
    "    Returns:\n",
    "        Training and test outputs. One hot encoding for classification datasets.\n",
    "    \"\"\"\n",
    "    if dataset==\"1D\":\n",
    "        x_train, x_test, y_train, y_test = load_1D_dataset()\n",
    "        return x_train, x_test, y_train, y_test\n",
    "    elif dataset==\"mnist\":\n",
    "        (x_train, y_train), (x_test, y_test) = tf.keras.datasets.mnist.load_data()\n",
    "        assert x_train.shape == (60000, 28, 28)\n",
    "        assert x_test.shape == (10000, 28, 28)\n",
    "        assert y_train.shape == (60000,)\n",
    "        assert y_test.shape == (10000,)\n",
    "\n",
    "        # preprocessing\n",
    "        x_train = x_train.reshape(60000, 784)/255\n",
    "        x_test = x_test.reshape(10000, 784)/255\n",
    "        \n",
    "    else:\n",
    "        if dataset==\"diabetes\":\n",
    "            data = load_diabetes()\n",
    "        if dataset==\"breast\":\n",
    "            data = load_breast_cancer()\n",
    "        if dataset==\"iris\":\n",
    "            data = load_iris()\n",
    "        if dataset==\"digits\":\n",
    "            data = load_digits()\n",
    "\n",
    "\n",
    "        y = data[\"target\"]\n",
    "        #y = np.array([float(y_one) for y_one in y])\n",
    "        X = data[\"data\"]\n",
    "        x_train, x_test, y_train, y_test = train_test_split(X, y, test_size=0.2, random_state=2)\n",
    "\n",
    "\n",
    "        \n",
    "        # print(C)\n",
    "\n",
    "\n",
    "    y_train = y_train.reshape(-1, 1)\n",
    "    y_test = y_test.reshape(-1, 1)\n",
    "\n",
    "    N = len(y_train)\n",
    "\n",
    "    if (dataset==\"breast\" or \"iris\" or \"digits\" or \"mnist\") and y_hot_encoding==True:\n",
    "\n",
    "        C = len(unique_labels(y_train))\n",
    "        y_hot = np.zeros((N, C))\n",
    "        \n",
    "        y_hot = OneHotEncoder(handle_unknown='ignore').fit_transform(y_train).toarray()\n",
    "\n",
    "        # print(\"poo\")\n",
    "\n",
    "        #y_hot = y_hot.reshape(-1, 1)\n",
    "\n",
    "        return x_train, x_test, y_hot, y_test\n",
    "\n",
    "    else:\n",
    "\n",
    "        D = len(x_train[0])\n",
    "\n",
    "        return x_train, x_test, y_train, y_test\n",
    "\n",
    "\n"
   ]
  },
  {
   "cell_type": "code",
   "execution_count": 5,
   "metadata": {},
   "outputs": [],
   "source": [
    "def LPD_fn(Y_predict_mu, Y_predict_var, Y_test):\n",
    "    \"\"\"\n",
    "        Loss function - negative log validation density loss.\n",
    "\n",
    "    Args:\n",
    "        - X_train: Input values for training dataset\n",
    "        - Y_train: Output values for training dataset\n",
    "        - X_test: Input values for test dataset\n",
    "\n",
    "    Returns:\n",
    "        - Y_predict_mu: Predicted output values for inputs X_test\n",
    "        - Y_predict_var: The variances for Y_predict_mu\n",
    "\n",
    "    \n",
    "    \"\"\"\n",
    "\n",
    "    term_1 = np.log(Y_predict_var)\n",
    "    term_2 = ((Y_predict_mu - Y_test)**2)/(Y_predict_var)\n",
    "    term_3 = np.log(2*np.pi)\n",
    "    return np.sum(-0.5*(term_1+term_2+term_3))\n",
    "\n",
    "\n",
    "# ! this function doesnt make sense yet\n",
    "def MSE(Y_predict_mu, Y_predict_var, Y_test):\n",
    "    return np.mean((Y_predict_mu - Y_test)**2)"
   ]
  },
  {
   "cell_type": "code",
   "execution_count": 4,
   "metadata": {},
   "outputs": [],
   "source": [
    "class Stopwatch():\n",
    "\n",
    "    def __init__(self):\n",
    "        self.current_time = 0\n",
    "\n",
    "    def start(self):\n",
    "        self.start_time = time.time()\n",
    "        \n",
    "    def stop(self):\n",
    "        self.current_time += time.time()-self.start_time\n",
    "\n",
    "    def reset(self):\n",
    "        self.current_time = 0 \n",
    "        pass    \n",
    "\n",
    "    def read_time(self):\n",
    "        return self.current_time"
   ]
  },
  {
   "cell_type": "markdown",
   "metadata": {},
   "source": [
    "### Experiments"
   ]
  },
  {
   "cell_type": "markdown",
   "metadata": {},
   "source": [
    "##### SGPR"
   ]
  },
  {
   "cell_type": "code",
   "execution_count": 27,
   "metadata": {},
   "outputs": [
    {
     "data": {
      "image/png": "[encoded data removed]",
      "text/plain": [
       "<Figure size 432x288 with 1 Axes>"
      ]
     },
     "metadata": {
      "needs_background": "light"
     },
     "output_type": "display_data"
    },
    {
     "name": "stdout",
     "output_type": "stream",
     "text": [
      "<class 'numpy.ndarray'>\n",
      "<class 'numpy.ndarray'>\n",
      "<class 'numpy.float64'>\n"
     ]
    }
   ],
   "source": [
    "x_train, x_test, y_train, y_test = load_dataset(dataset=\"mnist\")\n",
    "\n",
    "plt.imshow(x_train[1].reshape(28, 28), cmap='gray')\n",
    "plt.show()\n",
    "\n",
    "print(type(y_train[1]))\n",
    "print(type(x_train[1]))\n",
    "print(type(x_train[1,1]))"
   ]
  },
  {
   "cell_type": "markdown",
   "metadata": {},
   "source": [
    "Initialising the model"
   ]
  },
  {
   "cell_type": "code",
   "execution_count": 20,
   "metadata": {},
   "outputs": [
    {
     "data": {
      "text/html": [
       "&lt;gpflow.models.sgpr.SGPR object at 0x7fe2f4886fd0&gt;\n",
       "<table>\n",
       "<thead>\n",
       "<tr><th>name                    </th><th>class    </th><th>transform       </th><th>prior  </th><th>trainable  </th><th>shape     </th><th>dtype  </th><th>value          </th></tr>\n",
       "</thead>\n",
       "<tbody>\n",
       "<tr><td>SGPR.kernel.variance    </td><td>Parameter</td><td>Softplus        </td><td>       </td><td>True       </td><td>()        </td><td>float64</td><td>1.0            </td></tr>\n",
       "<tr><td>SGPR.kernel.lengthscales</td><td>Parameter</td><td>Softplus        </td><td>       </td><td>True       </td><td>()        </td><td>float64</td><td>10.0           </td></tr>\n",
       "<tr><td>SGPR.likelihood.variance</td><td>Parameter</td><td>Softplus + Shift</td><td>       </td><td>True       </td><td>()        </td><td>float64</td><td>1.0            </td></tr>\n",
       "<tr><td>SGPR.inducing_variable.Z</td><td>Parameter</td><td>Identity        </td><td>       </td><td>True       </td><td>(100, 784)</td><td>float64</td><td>[[0., 0., 0....</td></tr>\n",
       "</tbody>\n",
       "</table>"
      ],
      "text/plain": [
       "<gpflow.models.sgpr.SGPR object at 0x7fe2f4886fd0>\n",
       "╒══════════════════════════╤═══════════╤══════════════════╤═════════╤═════════════╤════════════╤═════════╤═════════════════╕\n",
       "│ name                     │ class     │ transform        │ prior   │ trainable   │ shape      │ dtype   │ value           │\n",
       "╞══════════════════════════╪═══════════╪══════════════════╪═════════╪═════════════╪════════════╪═════════╪═════════════════╡\n",
       "│ SGPR.kernel.variance     │ Parameter │ Softplus         │         │ True        │ ()         │ float64 │ 1.0             │\n",
       "├──────────────────────────┼───────────┼──────────────────┼─────────┼─────────────┼────────────┼─────────┼─────────────────┤\n",
       "│ SGPR.kernel.lengthscales │ Parameter │ Softplus         │         │ True        │ ()         │ float64 │ 10.0            │\n",
       "├──────────────────────────┼───────────┼──────────────────┼─────────┼─────────────┼────────────┼─────────┼─────────────────┤\n",
       "│ SGPR.likelihood.variance │ Parameter │ Softplus + Shift │         │ True        │ ()         │ float64 │ 1.0             │\n",
       "├──────────────────────────┼───────────┼──────────────────┼─────────┼─────────────┼────────────┼─────────┼─────────────────┤\n",
       "│ SGPR.inducing_variable.Z │ Parameter │ Identity         │         │ True        │ (100, 784) │ float64 │ [[0., 0., 0.... │\n",
       "╘══════════════════════════╧═══════════╧══════════════════╧═════════╧═════════════╧════════════╧═════════╧═════════════════╛"
      ]
     },
     "execution_count": 20,
     "metadata": {},
     "output_type": "execute_result"
    }
   ],
   "source": [
    "\n",
    "#* Number of inducing points\n",
    "M = 100\n",
    "\n",
    "#* Random initialisation of inducing points\n",
    "Z_SGPR = x_train[:M, :].copy()\n",
    "\n",
    "#* Number of classes for a classification dataset\n",
    "C = len(unique_labels(y_train))\n",
    "\n",
    "\n",
    "#* ARD SE kernel\n",
    "kernel_ard = gpflow.kernels.SquaredExponential(lengthscales=np.ones(len(x_train[0])))\n",
    "#* SE kernel\n",
    "kernel = gpflow.kernels.SquaredExponential()\n",
    "\n",
    "\n",
    "#* Initialise the model\n",
    "m = gpflow.models.SGPR(\n",
    "    data=(x_train, y_train),\n",
    "    inducing_variable=Z_SGPR,\n",
    "    kernel=kernel,\n",
    "    )\n",
    "    \n",
    "\n",
    "#* Set trainable parameters\n",
    "gpflow.set_trainable(m.inducing_variable, True)\n",
    "\n",
    "#* Pick value for jitter\n",
    "jitter = 1e-3\n",
    "gpflow.config.set_default_jitter(jitter)\n",
    "\n",
    "\n",
    "#* Initialise hyperparams\n",
    "var_y = 1\n",
    "var_f = var_y\n",
    "kappa = 1\n",
    "var_n = var_f / kappa\n",
    "\n",
    "m.likelihood.variance.assign(var_n)\n",
    "m.kernel.variance.assign(var_y)\n",
    "m.kernel.lengthscales.assign(10)\n",
    "\n",
    "\n",
    "\n",
    "m"
   ]
  },
  {
   "cell_type": "markdown",
   "metadata": {},
   "source": [
    "Training the model by optimising the ELBO"
   ]
  },
  {
   "cell_type": "code",
   "execution_count": 61,
   "metadata": {},
   "outputs": [
    {
     "name": "stdout",
     "output_type": "stream",
     "text": [
      "Total time for optimisation: 219.9868359565735\n"
     ]
    }
   ],
   "source": [
    "# #-- Optimisation\n",
    "\n",
    "#* Optimiser object\n",
    "opt = gpflow.optimizers.Scipy()\n",
    "opt_adam = tf.optimizers.Adam(learning_rate=0.1)\n",
    "\n",
    "#* List for ELBO values during \n",
    "logs = []\n",
    "accuracies = []\n",
    "times = []\n",
    "\n",
    "watch = Stopwatch()\n",
    "watch.reset()\n",
    "\n",
    "def log_opt(x):\n",
    "    \"\"\"\n",
    "    Utility function to log the elbo score for each iteration during optimisaiton.\n",
    "\n",
    "    Args:\n",
    "        x\n",
    "    \"\"\"\n",
    "    watch.stop()\n",
    "    logs.append(float(m.elbo()))\n",
    "    times.append(watch.read_time())\n",
    "    y_pred, var = m.predict_y(x_test)\n",
    "    y_pred_labels = np.argmax(y_pred, axis=1).reshape(-1, 1)\n",
    "    accuracies.append(accuracy_score(y_test, y_pred_labels))\n",
    "    watch.start()\n",
    "    \n",
    "    # logs.append(float(m.log_marginal_likelihood()))\n",
    "\n",
    "def run_adam(iterations):\n",
    "    for i in range(iterations):\n",
    "        opt_adam.minimize(\n",
    "            m.training_loss,\n",
    "            m.trainable_variables,\n",
    "            )\n",
    "        log_opt(1)\n",
    "\n",
    "watch.start()  # --Start the watch\n",
    "\n",
    "\n",
    "#* Optimise\n",
    "# log = opt.minimize(\n",
    "#     m.training_loss,\n",
    "#     m.trainable_variables,\n",
    "#     options=dict(maxiter=300),\n",
    "#     callback=log_opt,\n",
    "#     )\n",
    "run_adam(100)\n",
    "\n",
    "\n",
    "watch.stop() # --Stop the watch for the final time\n",
    "print(\"Total time for optimisation:\", watch.read_time())\n",
    "\n"
   ]
  },
  {
   "cell_type": "code",
   "execution_count": 62,
   "metadata": {},
   "outputs": [
    {
     "data": {
      "image/png": "[encoded data removed]",
      "text/plain": [
       "<Figure size 432x288 with 1 Axes>"
      ]
     },
     "metadata": {
      "needs_background": "light"
     },
     "output_type": "display_data"
    },
    {
     "data": {
      "image/png": "[encoded data removed]",
      "text/plain": [
       "<Figure size 432x288 with 1 Axes>"
      ]
     },
     "metadata": {
      "needs_background": "light"
     },
     "output_type": "display_data"
    }
   ],
   "source": [
    "# print(logs)\n",
    "plt.figure()\n",
    "plt.plot(times, logs)\n",
    "plt.xlabel(\"Time /s\")\n",
    "plt.ylabel(\"ELBO\")\n",
    "plt.show()\n",
    "\n",
    "plt.figure()\n",
    "plt.plot(times, accuracies)\n",
    "plt.xlabel(\"Time /s\")\n",
    "plt.ylabel(\"Accuracy Score\")\n",
    "plt.show()"
   ]
  },
  {
   "cell_type": "code",
   "execution_count": 17,
   "metadata": {},
   "outputs": [
    {
     "name": "stdout",
     "output_type": "stream",
     "text": [
      "21\n"
     ]
    }
   ],
   "source": [
    "print(len(logs))"
   ]
  },
  {
   "cell_type": "code",
   "execution_count": 116,
   "metadata": {},
   "outputs": [
    {
     "data": {
      "text/html": [
       "&lt;gpflow.models.sgpr.SGPR object at 0x7f85abb304c0&gt;\n",
       "<table>\n",
       "<thead>\n",
       "<tr><th>name                    </th><th>class    </th><th>transform       </th><th>prior  </th><th>trainable  </th><th>shape      </th><th>dtype  </th><th>value               </th></tr>\n",
       "</thead>\n",
       "<tbody>\n",
       "<tr><td>SGPR.kernel.variance    </td><td>Parameter</td><td>Softplus        </td><td>       </td><td>True       </td><td>()         </td><td>float64</td><td>0.009226140657825859</td></tr>\n",
       "<tr><td>SGPR.kernel.lengthscales</td><td>Parameter</td><td>Softplus        </td><td>       </td><td>True       </td><td>()         </td><td>float64</td><td>6.117649089461928   </td></tr>\n",
       "<tr><td>SGPR.likelihood.variance</td><td>Parameter</td><td>Softplus + Shift</td><td>       </td><td>True       </td><td>()         </td><td>float64</td><td>0.018631413001187595</td></tr>\n",
       "<tr><td>SGPR.inducing_variable.Z</td><td>Parameter</td><td>Identity        </td><td>       </td><td>False      </td><td>(1000, 784)</td><td>float64</td><td>[[0., 0., 0....     </td></tr>\n",
       "</tbody>\n",
       "</table>"
      ],
      "text/plain": [
       "<gpflow.models.sgpr.SGPR object at 0x7f85abb304c0>\n",
       "╒══════════════════════════╤═══════════╤══════════════════╤═════════╤═════════════╤═════════════╤═════════╤══════════════════════╕\n",
       "│ name                     │ class     │ transform        │ prior   │ trainable   │ shape       │ dtype   │ value                │\n",
       "╞══════════════════════════╪═══════════╪══════════════════╪═════════╪═════════════╪═════════════╪═════════╪══════════════════════╡\n",
       "│ SGPR.kernel.variance     │ Parameter │ Softplus         │         │ True        │ ()          │ float64 │ 0.009226140657825859 │\n",
       "├──────────────────────────┼───────────┼──────────────────┼─────────┼─────────────┼─────────────┼─────────┼──────────────────────┤\n",
       "│ SGPR.kernel.lengthscales │ Parameter │ Softplus         │         │ True        │ ()          │ float64 │ 6.117649089461928    │\n",
       "├──────────────────────────┼───────────┼──────────────────┼─────────┼─────────────┼─────────────┼─────────┼──────────────────────┤\n",
       "│ SGPR.likelihood.variance │ Parameter │ Softplus + Shift │         │ True        │ ()          │ float64 │ 0.018631413001187595 │\n",
       "├──────────────────────────┼───────────┼──────────────────┼─────────┼─────────────┼─────────────┼─────────┼──────────────────────┤\n",
       "│ SGPR.inducing_variable.Z │ Parameter │ Identity         │         │ False       │ (1000, 784) │ float64 │ [[0., 0., 0....      │\n",
       "╘══════════════════════════╧═══════════╧══════════════════╧═════════╧═════════════╧═════════════╧═════════╧══════════════════════╛"
      ]
     },
     "execution_count": 116,
     "metadata": {},
     "output_type": "execute_result"
    }
   ],
   "source": [
    "# #-- Show the new model parameters\n",
    "m"
   ]
  },
  {
   "cell_type": "code",
   "execution_count": 117,
   "metadata": {},
   "outputs": [
    {
     "name": "stdout",
     "output_type": "stream",
     "text": [
      "tf.Tensor(302908.3678140197, shape=(), dtype=float64)\n"
     ]
    }
   ],
   "source": [
    "print(m.elbo())"
   ]
  },
  {
   "cell_type": "markdown",
   "metadata": {},
   "source": [
    "Making predictions"
   ]
  },
  {
   "cell_type": "code",
   "execution_count": 118,
   "metadata": {},
   "outputs": [
    {
     "name": "stdout",
     "output_type": "stream",
     "text": [
      "tf.Tensor(\n",
      "[[-0.02180869 -0.01871783 -0.00572968  0.00664324 -0.04052388  0.01313393\n",
      "   0.00787949  1.06132869  0.05770783 -0.05171545]\n",
      " [ 0.06165025 -0.09523178  0.68783787  0.19215618 -0.04555698 -0.0218745\n",
      "   0.21037257  0.0064164  -0.02666623  0.00434883]\n",
      " [ 0.00389339  0.96462501  0.00556539 -0.02839849  0.00391607  0.04538193\n",
      "   0.01367806 -0.00814623 -0.00747944  0.01121672]\n",
      " [ 0.93504778  0.01380227 -0.04284333  0.05176945  0.01351825 -0.00891388\n",
      "   0.05962564  0.0494236   0.00904066 -0.08610958]], shape=(4, 10), dtype=float64)\n",
      "(10000, 784)\n",
      "(10000, 1)\n",
      "(10000, 10)\n",
      "(60000, 784)\n",
      "(60000, 10)\n"
     ]
    }
   ],
   "source": [
    "y_pred, var = m.predict_y(x_test)\n",
    "\n",
    "print(y_pred[:4])\n",
    "\n",
    "print(np.shape(x_test))\n",
    "print(np.shape(y_test))\n",
    "print(np.shape(y_pred))\n",
    "print(np.shape(x_train))\n",
    "print(np.shape(y_train))\n"
   ]
  },
  {
   "cell_type": "code",
   "execution_count": 119,
   "metadata": {},
   "outputs": [
    {
     "name": "stdout",
     "output_type": "stream",
     "text": [
      "0.9525\n"
     ]
    }
   ],
   "source": [
    "y_pred_labels = np.argmax(y_pred, axis=1).reshape(-1, 1)\n",
    "# print(MSE(y_pred, var, y_test))\n",
    "# print(LPD_fn(y_pred, var, y_test))\n",
    "\n",
    "# //plt.scatter(x_test, y_pred)\n",
    "# //plt.scatter(x_train, y_train, color='black')\n",
    "# //plt.show()\n",
    "\n",
    "print(accuracy_score(y_test, y_pred_labels))"
   ]
  },
  {
   "cell_type": "code",
   "execution_count": 120,
   "metadata": {},
   "outputs": [
    {
     "name": "stdout",
     "output_type": "stream",
     "text": [
      "[[7 2 1 0 4 1 4 9 5 9 0 6 9 0 1 5 9 7 3 4]]\n",
      "[[7 2 1 0 4 1 4 9 5 9 0 6 9 0 1 5 9 7 3 4]]\n"
     ]
    }
   ],
   "source": [
    "\n",
    "print(y_pred_labels[:20].reshape(1,-1))\n",
    "print(y_test[:20].reshape(1,-1))"
   ]
  },
  {
   "cell_type": "markdown",
   "metadata": {},
   "source": [
    "##### SGPR - Tuning Hyperparams separately"
   ]
  },
  {
   "cell_type": "code",
   "execution_count": 196,
   "metadata": {},
   "outputs": [
    {
     "data": {
      "text/html": [
       "&lt;gpflow.models.sgpr.SGPR object at 0x7f85ab6904c0&gt;\n",
       "<table>\n",
       "<thead>\n",
       "<tr><th>name                    </th><th>class    </th><th>transform       </th><th>prior  </th><th>trainable  </th><th>shape     </th><th>dtype  </th><th>value          </th></tr>\n",
       "</thead>\n",
       "<tbody>\n",
       "<tr><td>SGPR.kernel.variance    </td><td>Parameter</td><td>Softplus        </td><td>       </td><td>True       </td><td>()        </td><td>float64</td><td>1.0            </td></tr>\n",
       "<tr><td>SGPR.kernel.lengthscales</td><td>Parameter</td><td>Softplus        </td><td>       </td><td>True       </td><td>()        </td><td>float64</td><td>10.0           </td></tr>\n",
       "<tr><td>SGPR.likelihood.variance</td><td>Parameter</td><td>Softplus + Shift</td><td>       </td><td>True       </td><td>()        </td><td>float64</td><td>1.0            </td></tr>\n",
       "<tr><td>SGPR.inducing_variable.Z</td><td>Parameter</td><td>Identity        </td><td>       </td><td>True       </td><td>(100, 784)</td><td>float64</td><td>[[0., 0., 0....</td></tr>\n",
       "</tbody>\n",
       "</table>"
      ],
      "text/plain": [
       "<gpflow.models.sgpr.SGPR object at 0x7f85ab6904c0>\n",
       "╒══════════════════════════╤═══════════╤══════════════════╤═════════╤═════════════╤════════════╤═════════╤═════════════════╕\n",
       "│ name                     │ class     │ transform        │ prior   │ trainable   │ shape      │ dtype   │ value           │\n",
       "╞══════════════════════════╪═══════════╪══════════════════╪═════════╪═════════════╪════════════╪═════════╪═════════════════╡\n",
       "│ SGPR.kernel.variance     │ Parameter │ Softplus         │         │ True        │ ()         │ float64 │ 1.0             │\n",
       "├──────────────────────────┼───────────┼──────────────────┼─────────┼─────────────┼────────────┼─────────┼─────────────────┤\n",
       "│ SGPR.kernel.lengthscales │ Parameter │ Softplus         │         │ True        │ ()         │ float64 │ 10.0            │\n",
       "├──────────────────────────┼───────────┼──────────────────┼─────────┼─────────────┼────────────┼─────────┼─────────────────┤\n",
       "│ SGPR.likelihood.variance │ Parameter │ Softplus + Shift │         │ True        │ ()         │ float64 │ 1.0             │\n",
       "├──────────────────────────┼───────────┼──────────────────┼─────────┼─────────────┼────────────┼─────────┼─────────────────┤\n",
       "│ SGPR.inducing_variable.Z │ Parameter │ Identity         │         │ True        │ (100, 784) │ float64 │ [[0., 0., 0.... │\n",
       "╘══════════════════════════╧═══════════╧══════════════════╧═════════╧═════════════╧════════════╧═════════╧═════════════════╛"
      ]
     },
     "execution_count": 196,
     "metadata": {},
     "output_type": "execute_result"
    }
   ],
   "source": [
    "#* Number of inducing points\n",
    "M = 100\n",
    "\n",
    "#* Random initialisation of inducing points\n",
    "Z_SGPR = x_train[:M, :].copy()\n",
    "\n",
    "#* Number of classes for a classification dataset\n",
    "C = len(unique_labels(y_train))\n",
    "\n",
    "\n",
    "#* ARD SE kernel\n",
    "kernel_ard = gpflow.kernels.SquaredExponential(lengthscales=np.ones(len(x_train[0])))\n",
    "#* SE kernel\n",
    "kernel = gpflow.kernels.SquaredExponential()\n",
    "\n",
    "\n",
    "#* Initialise the model\n",
    "m = gpflow.models.SGPR(\n",
    "    data=(x_train, y_train),\n",
    "    inducing_variable=Z_SGPR,\n",
    "    kernel=kernel,\n",
    "    )\n",
    "    \n",
    "\n",
    "#* Pick value for jitter\n",
    "jitter = 1e-3\n",
    "gpflow.config.set_default_jitter(jitter)\n",
    "\n",
    "\n",
    "#* Initialise hyperparams\n",
    "var_y = 1\n",
    "var_f = var_y\n",
    "kappa = 1\n",
    "var_n = var_f / kappa\n",
    "\n",
    "m.likelihood.variance.assign(var_n)\n",
    "m.kernel.variance.assign(var_y)\n",
    "m.kernel.lengthscales.assign(10)\n",
    "\n",
    "m"
   ]
  },
  {
   "cell_type": "code",
   "execution_count": 197,
   "metadata": {},
   "outputs": [
    {
     "data": {
      "image/png": "[encoded data removed]",
      "text/plain": [
       "<Figure size 432x288 with 1 Axes>"
      ]
     },
     "metadata": {
      "needs_background": "light"
     },
     "output_type": "display_data"
    }
   ],
   "source": [
    "# #-- Optimisation\n",
    "\n",
    "#* Optimiser object\n",
    "opt = gpflow.optimizers.Scipy()\n",
    "\n",
    "def log_opt(x):\n",
    "    \"\"\"\n",
    "    Utility function to log the elbo score for each iteration during optimisaiton.\n",
    "\n",
    "    Args:\n",
    "        x\n",
    "    \"\"\"\n",
    "    logs.append(float(m.elbo()))\n",
    "    # logs.append(float(m.log_marginal_likelihood()))\n",
    "\n",
    "#* List for ELBO values during \n",
    "logs = []\n",
    "\n",
    "# #-- Optimising kernel variance first (optimising lengthscale first didn't work well)\n",
    "\n",
    "#* Set trainable parameters\n",
    "gpflow.set_trainable(m.inducing_variable, False)\n",
    "gpflow.set_trainable(m.likelihood.variance, False)\n",
    "gpflow.set_trainable(m.kernel.lengthscales, False)\n",
    "gpflow.set_trainable(m.kernel.variance, True)\n",
    "\n",
    "#* Optimise\n",
    "log = opt.minimize(\n",
    "    m.training_loss,\n",
    "    m.trainable_variables,\n",
    "    options=dict(maxiter=30),\n",
    "    callback=log_opt,\n",
    "    )\n",
    "\n",
    "\n",
    "\n",
    "# #-- Optimisation 2\n",
    "\n",
    "opt_iter_2 = len(logs)\n",
    "\n",
    "#* Set trainable parameters\n",
    "gpflow.set_trainable(m.inducing_variable, False)\n",
    "gpflow.set_trainable(m.likelihood.variance, False)\n",
    "gpflow.set_trainable(m.kernel.lengthscales, True)\n",
    "gpflow.set_trainable(m.kernel.variance, False)\n",
    "\n",
    "#* Optimise\n",
    "log = opt.minimize(\n",
    "    m.training_loss,\n",
    "    m.trainable_variables,\n",
    "    options=dict(maxiter=30),\n",
    "    callback=log_opt,\n",
    "    )\n",
    "\n",
    "\n",
    "# #-- Optimisation 3\n",
    "\n",
    "opt_iter_3 = len(logs)\n",
    "\n",
    "#* Set trainable parameters\n",
    "gpflow.set_trainable(m.inducing_variable, False)\n",
    "gpflow.set_trainable(m.likelihood.variance, True)\n",
    "gpflow.set_trainable(m.kernel.lengthscales, False)\n",
    "gpflow.set_trainable(m.kernel.variance, False)\n",
    "\n",
    "#* Optimise\n",
    "log = opt.minimize(\n",
    "    m.training_loss,\n",
    "    m.trainable_variables,\n",
    "    options=dict(maxiter=30),\n",
    "    callback=log_opt,\n",
    "    )\n",
    "\n",
    "# print(logs)\n",
    "plt.plot(logs)\n",
    "#plt.vlines([opt_iter_2, opt_iter_3], np.min(logs), np.max(logs), alpha=0.3)\n",
    "plt.show()\n",
    "\n"
   ]
  },
  {
   "cell_type": "code",
   "execution_count": 190,
   "metadata": {},
   "outputs": [
    {
     "data": {
      "text/html": [
       "&lt;gpflow.models.sgpr.SGPR object at 0x7f84ac711ac0&gt;\n",
       "<table>\n",
       "<thead>\n",
       "<tr><th>name                    </th><th>class    </th><th>transform       </th><th>prior  </th><th>trainable  </th><th>shape     </th><th>dtype  </th><th>value               </th></tr>\n",
       "</thead>\n",
       "<tbody>\n",
       "<tr><td>SGPR.kernel.variance    </td><td>Parameter</td><td>Softplus        </td><td>       </td><td>False      </td><td>()        </td><td>float64</td><td>0.0449782462986858  </td></tr>\n",
       "<tr><td>SGPR.kernel.lengthscales</td><td>Parameter</td><td>Softplus        </td><td>       </td><td>False      </td><td>()        </td><td>float64</td><td>9.462215892347995   </td></tr>\n",
       "<tr><td>SGPR.likelihood.variance</td><td>Parameter</td><td>Softplus + Shift</td><td>       </td><td>True       </td><td>()        </td><td>float64</td><td>0.025803899670010406</td></tr>\n",
       "<tr><td>SGPR.inducing_variable.Z</td><td>Parameter</td><td>Identity        </td><td>       </td><td>False      </td><td>(500, 784)</td><td>float64</td><td>[[0., 0., 0....     </td></tr>\n",
       "</tbody>\n",
       "</table>"
      ],
      "text/plain": [
       "<gpflow.models.sgpr.SGPR object at 0x7f84ac711ac0>\n",
       "╒══════════════════════════╤═══════════╤══════════════════╤═════════╤═════════════╤════════════╤═════════╤══════════════════════╕\n",
       "│ name                     │ class     │ transform        │ prior   │ trainable   │ shape      │ dtype   │ value                │\n",
       "╞══════════════════════════╪═══════════╪══════════════════╪═════════╪═════════════╪════════════╪═════════╪══════════════════════╡\n",
       "│ SGPR.kernel.variance     │ Parameter │ Softplus         │         │ False       │ ()         │ float64 │ 0.0449782462986858   │\n",
       "├──────────────────────────┼───────────┼──────────────────┼─────────┼─────────────┼────────────┼─────────┼──────────────────────┤\n",
       "│ SGPR.kernel.lengthscales │ Parameter │ Softplus         │         │ False       │ ()         │ float64 │ 9.462215892347995    │\n",
       "├──────────────────────────┼───────────┼──────────────────┼─────────┼─────────────┼────────────┼─────────┼──────────────────────┤\n",
       "│ SGPR.likelihood.variance │ Parameter │ Softplus + Shift │         │ True        │ ()         │ float64 │ 0.025803899670010406 │\n",
       "├──────────────────────────┼───────────┼──────────────────┼─────────┼─────────────┼────────────┼─────────┼──────────────────────┤\n",
       "│ SGPR.inducing_variable.Z │ Parameter │ Identity         │         │ False       │ (500, 784) │ float64 │ [[0., 0., 0....      │\n",
       "╘══════════════════════════╧═══════════╧══════════════════╧═════════╧═════════════╧════════════╧═════════╧══════════════════════╛"
      ]
     },
     "execution_count": 190,
     "metadata": {},
     "output_type": "execute_result"
    }
   ],
   "source": [
    "m"
   ]
  },
  {
   "cell_type": "code",
   "execution_count": 191,
   "metadata": {},
   "outputs": [
    {
     "name": "stdout",
     "output_type": "stream",
     "text": [
      "0.9381\n"
     ]
    }
   ],
   "source": [
    "y_pred, var = m.predict_y(x_test)\n",
    "y_pred_labels = np.argmax(y_pred, axis=1).reshape(-1, 1)\n",
    "print(accuracy_score(y_test, y_pred_labels))"
   ]
  },
  {
   "cell_type": "markdown",
   "metadata": {},
   "source": [
    "##### SGPR - Hyperparameter search"
   ]
  },
  {
   "cell_type": "code",
   "execution_count": 25,
   "metadata": {},
   "outputs": [
    {
     "data": {
      "text/html": [
       "&lt;gpflow.models.sgpr.SGPR object at 0x7f85ab35f0a0&gt;\n",
       "<table>\n",
       "<thead>\n",
       "<tr><th>name                    </th><th>class    </th><th>transform       </th><th>prior  </th><th>trainable  </th><th>shape    </th><th>dtype  </th><th>value              </th></tr>\n",
       "</thead>\n",
       "<tbody>\n",
       "<tr><td>SGPR.kernel.variance    </td><td>Parameter</td><td>Softplus        </td><td>       </td><td>True       </td><td>()       </td><td>float64</td><td>0.10000000000000002</td></tr>\n",
       "<tr><td>SGPR.kernel.lengthscales</td><td>Parameter</td><td>Softplus        </td><td>       </td><td>True       </td><td>()       </td><td>float64</td><td>10.0               </td></tr>\n",
       "<tr><td>SGPR.likelihood.variance</td><td>Parameter</td><td>Softplus + Shift</td><td>       </td><td>True       </td><td>()       </td><td>float64</td><td>1.0                </td></tr>\n",
       "<tr><td>SGPR.inducing_variable.Z</td><td>Parameter</td><td>Identity        </td><td>       </td><td>True       </td><td>(50, 784)</td><td>float64</td><td>[[0., 0., 0....    </td></tr>\n",
       "</tbody>\n",
       "</table>"
      ],
      "text/plain": [
       "<gpflow.models.sgpr.SGPR object at 0x7f85ab35f0a0>\n",
       "╒══════════════════════════╤═══════════╤══════════════════╤═════════╤═════════════╤═══════════╤═════════╤═════════════════════╕\n",
       "│ name                     │ class     │ transform        │ prior   │ trainable   │ shape     │ dtype   │ value               │\n",
       "╞══════════════════════════╪═══════════╪══════════════════╪═════════╪═════════════╪═══════════╪═════════╪═════════════════════╡\n",
       "│ SGPR.kernel.variance     │ Parameter │ Softplus         │         │ True        │ ()        │ float64 │ 0.10000000000000002 │\n",
       "├──────────────────────────┼───────────┼──────────────────┼─────────┼─────────────┼───────────┼─────────┼─────────────────────┤\n",
       "│ SGPR.kernel.lengthscales │ Parameter │ Softplus         │         │ True        │ ()        │ float64 │ 10.0                │\n",
       "├──────────────────────────┼───────────┼──────────────────┼─────────┼─────────────┼───────────┼─────────┼─────────────────────┤\n",
       "│ SGPR.likelihood.variance │ Parameter │ Softplus + Shift │         │ True        │ ()        │ float64 │ 1.0                 │\n",
       "├──────────────────────────┼───────────┼──────────────────┼─────────┼─────────────┼───────────┼─────────┼─────────────────────┤\n",
       "│ SGPR.inducing_variable.Z │ Parameter │ Identity         │         │ True        │ (50, 784) │ float64 │ [[0., 0., 0....     │\n",
       "╘══════════════════════════╧═══════════╧══════════════════╧═════════╧═════════════╧═══════════╧═════════╧═════════════════════╛"
      ]
     },
     "execution_count": 25,
     "metadata": {},
     "output_type": "execute_result"
    }
   ],
   "source": [
    "\n",
    "#* Initialise the model\n",
    "m_search = gpflow.models.SGPR(\n",
    "    data=(x_train, y_train),\n",
    "    inducing_variable=Z_SGPR,\n",
    "    kernel=kernel,\n",
    "    )\n",
    "\n",
    "m_search"
   ]
  },
  {
   "cell_type": "code",
   "execution_count": 175,
   "metadata": {},
   "outputs": [
    {
     "data": {
      "image/png": "[encoded data removed]",
      "text/plain": [
       "<Figure size 432x288 with 1 Axes>"
      ]
     },
     "metadata": {
      "needs_background": "light"
     },
     "output_type": "display_data"
    },
    {
     "data": {
      "image/png": "[encoded data removed]",
      "text/plain": [
       "<Figure size 432x288 with 1 Axes>"
      ]
     },
     "metadata": {
      "needs_background": "light"
     },
     "output_type": "display_data"
    }
   ],
   "source": [
    "\n",
    "var_range = [1e-2, 1e-3];\n",
    "\n",
    "noise_range = np.geomspace(0.005, 0.16, 21)\n",
    "\n",
    "len_range = np.linspace(1, 10, 20)\n",
    "\n",
    "elbos = []\n",
    "for var_y in var_range:\n",
    "\n",
    "    elbo_y = []\n",
    "    m_search.kernel.variance.assign(var_y)\n",
    "    \n",
    "    for var_n in noise_range:\n",
    "        m_search.likelihood.variance.assign(var_n)\n",
    "        elbo_n = []\n",
    "        for lengthscale in len_range:\n",
    "            m_search.kernel.lengthscales.assign(lengthscale)\n",
    "            elbo_l = m_search.elbo()\n",
    "            elbo_n.append(elbo_l)\n",
    "        elbo_y.append(elbo_n)\n",
    "    elbos.append(elbo_y)\n",
    "    plt.imshow(np.cbrt(elbo_y))\n",
    "    plt.xlabel(\"kernel lengthscale\")\n",
    "    plt.title(\"Variance {}\".format(var_y))\n",
    "    plt.ylabel(\"noise variance\")\n",
    "    plt.show()"
   ]
  },
  {
   "cell_type": "markdown",
   "metadata": {},
   "source": [
    "##### SVGP"
   ]
  },
  {
   "cell_type": "code",
   "execution_count": null,
   "metadata": {},
   "outputs": [
    {
     "data": {
      "image/png": "[encoded data removed]",
      "text/plain": [
       "<Figure size 432x288 with 1 Axes>"
      ]
     },
     "metadata": {
      "needs_background": "light"
     },
     "output_type": "display_data"
    },
    {
     "name": "stdout",
     "output_type": "stream",
     "text": [
      "(60000, 1)\n",
      "(60000, 784)\n",
      "<class 'numpy.float64'>\n"
     ]
    }
   ],
   "source": [
    "x_train, x_test, y_train, y_test = load_dataset(dataset=\"mnist\", y_hot_encoding=False)\n",
    "\n",
    "plt.imshow(x_train[1].reshape(28, 28), cmap='gray')\n",
    "plt.show()\n",
    "\n",
    "print(np.shape(y_train))\n",
    "print(np.shape(x_train))\n",
    "print(type(x_train[1,1]))\n",
    "\n",
    "data=(x_train, y_train)\n",
    "\n"
   ]
  },
  {
   "cell_type": "code",
   "execution_count": 9,
   "metadata": {},
   "outputs": [
    {
     "name": "stdout",
     "output_type": "stream",
     "text": [
      "(60000, 784)\n",
      "(60000, 1)\n"
     ]
    },
    {
     "data": {
      "text/html": [
       "&lt;gpflow.models.svgp.SVGP object at 0x7fd34f301580&gt;\n",
       "<table>\n",
       "<thead>\n",
       "<tr><th>name                    </th><th>class    </th><th>transform       </th><th>prior  </th><th>trainable  </th><th>shape         </th><th>dtype  </th><th>value           </th></tr>\n",
       "</thead>\n",
       "<tbody>\n",
       "<tr><td>SVGP.kernel.variance    </td><td>Parameter</td><td>Softplus        </td><td>       </td><td>False      </td><td>()            </td><td>float64</td><td>1.0             </td></tr>\n",
       "<tr><td>SVGP.kernel.lengthscales</td><td>Parameter</td><td>Softplus        </td><td>       </td><td>False      </td><td>()            </td><td>float64</td><td>10.0            </td></tr>\n",
       "<tr><td>SVGP.likelihood.variance</td><td>Parameter</td><td>Softplus + Shift</td><td>       </td><td>False      </td><td>()            </td><td>float64</td><td>1.0             </td></tr>\n",
       "<tr><td>SVGP.inducing_variable.Z</td><td>Parameter</td><td>Identity        </td><td>       </td><td>False      </td><td>(100, 784)    </td><td>float64</td><td>[[0., 0., 0.... </td></tr>\n",
       "<tr><td>SVGP.q_mu               </td><td>Parameter</td><td>Identity        </td><td>       </td><td>True       </td><td>(100, 10)     </td><td>float64</td><td>[[0., 0., 0.... </td></tr>\n",
       "<tr><td>SVGP.q_sqrt             </td><td>Parameter</td><td>FillTriangular  </td><td>       </td><td>True       </td><td>(10, 100, 100)</td><td>float64</td><td>[[[1., 0., 0....</td></tr>\n",
       "</tbody>\n",
       "</table>"
      ],
      "text/plain": [
       "<gpflow.models.svgp.SVGP object at 0x7fd34f301580>\n",
       "╒══════════════════════════╤═══════════╤══════════════════╤═════════╤═════════════╤════════════════╤═════════╤══════════════════╕\n",
       "│ name                     │ class     │ transform        │ prior   │ trainable   │ shape          │ dtype   │ value            │\n",
       "╞══════════════════════════╪═══════════╪══════════════════╪═════════╪═════════════╪════════════════╪═════════╪══════════════════╡\n",
       "│ SVGP.kernel.variance     │ Parameter │ Softplus         │         │ False       │ ()             │ float64 │ 1.0              │\n",
       "├──────────────────────────┼───────────┼──────────────────┼─────────┼─────────────┼────────────────┼─────────┼──────────────────┤\n",
       "│ SVGP.kernel.lengthscales │ Parameter │ Softplus         │         │ False       │ ()             │ float64 │ 10.0             │\n",
       "├──────────────────────────┼───────────┼──────────────────┼─────────┼─────────────┼────────────────┼─────────┼──────────────────┤\n",
       "│ SVGP.likelihood.variance │ Parameter │ Softplus + Shift │         │ False       │ ()             │ float64 │ 1.0              │\n",
       "├──────────────────────────┼───────────┼──────────────────┼─────────┼─────────────┼────────────────┼─────────┼──────────────────┤\n",
       "│ SVGP.inducing_variable.Z │ Parameter │ Identity         │         │ False       │ (100, 784)     │ float64 │ [[0., 0., 0....  │\n",
       "├──────────────────────────┼───────────┼──────────────────┼─────────┼─────────────┼────────────────┼─────────┼──────────────────┤\n",
       "│ SVGP.q_mu                │ Parameter │ Identity         │         │ True        │ (100, 10)      │ float64 │ [[0., 0., 0....  │\n",
       "├──────────────────────────┼───────────┼──────────────────┼─────────┼─────────────┼────────────────┼─────────┼──────────────────┤\n",
       "│ SVGP.q_sqrt              │ Parameter │ FillTriangular   │         │ True        │ (10, 100, 100) │ float64 │ [[[1., 0., 0.... │\n",
       "╘══════════════════════════╧═══════════╧══════════════════╧═════════╧═════════════╧════════════════╧═════════╧══════════════════╛"
      ]
     },
     "execution_count": 9,
     "metadata": {},
     "output_type": "execute_result"
    }
   ],
   "source": [
    "\n",
    "#* Number of inducing points\n",
    "M = 100\n",
    "\n",
    "#* Random initialisation of inducing points\n",
    "Z_SVGP = x_train[:M, :].copy()\n",
    "\n",
    "#* Number of classes for a classification dataset\n",
    "C = len(unique_labels(y_train))\n",
    "\n",
    "# Robustmax Multiclass Likelihood\n",
    "invlink = gpflow.likelihoods.RobustMax(C)  # Robustmax inverse link function\n",
    "likelihood = gpflow.likelihoods.MultiClass(C, invlink=invlink)  # Multiclass likelihood\n",
    "gaussian_like = gpflow.likelihoods.Gaussian() # Gaussian likelihood\n",
    "\n",
    "kernel = gpflow.kernels.SquaredExponential()\n",
    "\n",
    "#* Initialise the model\n",
    "m_SVGP = gpflow.models.SVGP(\n",
    "    #data=(x_train, y_train),\n",
    "    inducing_variable=Z_SVGP,\n",
    "    kernel=kernel,\n",
    "    num_latent_gps=C,\n",
    "    likelihood=gaussian_like,\n",
    "    )\n",
    "\n",
    "\n",
    "#* Set trainable parameters\n",
    "gpflow.set_trainable(m_SVGP.inducing_variable, False)\n",
    "gpflow.set_trainable(m_SVGP.kernel, False)\n",
    "gpflow.set_trainable(m_SVGP.likelihood, False)\n",
    "\n",
    "#* Initialise hyperparams\n",
    "var_y = 1\n",
    "var_f = var_y\n",
    "kappa = 1\n",
    "var_n = var_f / kappa\n",
    "\n",
    "# m_SVGP.likelihood.variance.assign(var_n)\n",
    "m_SVGP.kernel.variance.assign(var_y)\n",
    "m_SVGP.kernel.lengthscales.assign(10)\n",
    "\n",
    "print(np.shape(x_train))\n",
    "print(np.shape(y_train))\n",
    "\n",
    "m_SVGP"
   ]
  },
  {
   "cell_type": "code",
   "execution_count": 22,
   "metadata": {},
   "outputs": [
    {
     "ename": "KeyboardInterrupt",
     "evalue": "",
     "output_type": "error",
     "traceback": [
      "\u001b[0;31m---------------------------------------------------------------------------\u001b[0m",
      "\u001b[0;31mKeyboardInterrupt\u001b[0m                         Traceback (most recent call last)",
      "\u001b[0;32m/var/folders/hf/nwz23j_d1dx_8v_yxrw0v_vh0000gn/T/ipykernel_68597/2201708476.py\u001b[0m in \u001b[0;36m<module>\u001b[0;34m\u001b[0m\n\u001b[1;32m     25\u001b[0m \u001b[0;34m\u001b[0m\u001b[0m\n\u001b[1;32m     26\u001b[0m \u001b[0;31m#* Optimise\u001b[0m\u001b[0;34m\u001b[0m\u001b[0;34m\u001b[0m\u001b[0;34m\u001b[0m\u001b[0m\n\u001b[0;32m---> 27\u001b[0;31m log_SVGP = opt.minimize(\n\u001b[0m\u001b[1;32m     28\u001b[0m     \u001b[0mm_SVGP\u001b[0m\u001b[0;34m.\u001b[0m\u001b[0mtraining_loss_closure\u001b[0m\u001b[0;34m(\u001b[0m\u001b[0mdata\u001b[0m\u001b[0;34m)\u001b[0m\u001b[0;34m,\u001b[0m\u001b[0;34m\u001b[0m\u001b[0;34m\u001b[0m\u001b[0m\n\u001b[1;32m     29\u001b[0m     \u001b[0mm_SVGP\u001b[0m\u001b[0;34m.\u001b[0m\u001b[0mtrainable_variables\u001b[0m\u001b[0;34m,\u001b[0m\u001b[0;34m\u001b[0m\u001b[0;34m\u001b[0m\u001b[0m\n",
      "\u001b[0;32m~/Programming/GPflow/gpflow/optimizers/scipy.py\u001b[0m in \u001b[0;36mminimize\u001b[0;34m(self, closure, variables, method, step_callback, compile, allow_unused_variables, **scipy_kwargs)\u001b[0m\n\u001b[1;32m     93\u001b[0m             \u001b[0mscipy_kwargs\u001b[0m\u001b[0;34m.\u001b[0m\u001b[0mupdate\u001b[0m\u001b[0;34m(\u001b[0m\u001b[0mdict\u001b[0m\u001b[0;34m(\u001b[0m\u001b[0mcallback\u001b[0m\u001b[0;34m=\u001b[0m\u001b[0mcallback\u001b[0m\u001b[0;34m)\u001b[0m\u001b[0;34m)\u001b[0m\u001b[0;34m\u001b[0m\u001b[0;34m\u001b[0m\u001b[0m\n\u001b[1;32m     94\u001b[0m \u001b[0;34m\u001b[0m\u001b[0m\n\u001b[0;32m---> 95\u001b[0;31m         return scipy.optimize.minimize(\n\u001b[0m\u001b[1;32m     96\u001b[0m             \u001b[0mfunc\u001b[0m\u001b[0;34m,\u001b[0m \u001b[0minitial_params\u001b[0m\u001b[0;34m,\u001b[0m \u001b[0mjac\u001b[0m\u001b[0;34m=\u001b[0m\u001b[0;32mTrue\u001b[0m\u001b[0;34m,\u001b[0m \u001b[0mmethod\u001b[0m\u001b[0;34m=\u001b[0m\u001b[0mmethod\u001b[0m\u001b[0;34m,\u001b[0m \u001b[0;34m**\u001b[0m\u001b[0mscipy_kwargs\u001b[0m\u001b[0;34m\u001b[0m\u001b[0;34m\u001b[0m\u001b[0m\n\u001b[1;32m     97\u001b[0m         )\n",
      "\u001b[0;32m~/opt/anaconda3/lib/python3.8/site-packages/scipy/optimize/_minimize.py\u001b[0m in \u001b[0;36mminimize\u001b[0;34m(fun, x0, args, method, jac, hess, hessp, bounds, constraints, tol, callback, options)\u001b[0m\n\u001b[1;32m    615\u001b[0m                                   **options)\n\u001b[1;32m    616\u001b[0m     \u001b[0;32melif\u001b[0m \u001b[0mmeth\u001b[0m \u001b[0;34m==\u001b[0m \u001b[0;34m'l-bfgs-b'\u001b[0m\u001b[0;34m:\u001b[0m\u001b[0;34m\u001b[0m\u001b[0;34m\u001b[0m\u001b[0m\n\u001b[0;32m--> 617\u001b[0;31m         return _minimize_lbfgsb(fun, x0, args, jac, bounds,\n\u001b[0m\u001b[1;32m    618\u001b[0m                                 callback=callback, **options)\n\u001b[1;32m    619\u001b[0m     \u001b[0;32melif\u001b[0m \u001b[0mmeth\u001b[0m \u001b[0;34m==\u001b[0m \u001b[0;34m'tnc'\u001b[0m\u001b[0;34m:\u001b[0m\u001b[0;34m\u001b[0m\u001b[0;34m\u001b[0m\u001b[0m\n",
      "\u001b[0;32m~/opt/anaconda3/lib/python3.8/site-packages/scipy/optimize/lbfgsb.py\u001b[0m in \u001b[0;36m_minimize_lbfgsb\u001b[0;34m(fun, x0, args, jac, bounds, disp, maxcor, ftol, gtol, eps, maxfun, maxiter, iprint, callback, maxls, finite_diff_rel_step, **unknown_options)\u001b[0m\n\u001b[1;32m    363\u001b[0m             \u001b[0mn_iterations\u001b[0m \u001b[0;34m+=\u001b[0m \u001b[0;36m1\u001b[0m\u001b[0;34m\u001b[0m\u001b[0;34m\u001b[0m\u001b[0m\n\u001b[1;32m    364\u001b[0m             \u001b[0;32mif\u001b[0m \u001b[0mcallback\u001b[0m \u001b[0;32mis\u001b[0m \u001b[0;32mnot\u001b[0m \u001b[0;32mNone\u001b[0m\u001b[0;34m:\u001b[0m\u001b[0;34m\u001b[0m\u001b[0;34m\u001b[0m\u001b[0m\n\u001b[0;32m--> 365\u001b[0;31m                 \u001b[0mcallback\u001b[0m\u001b[0;34m(\u001b[0m\u001b[0mnp\u001b[0m\u001b[0;34m.\u001b[0m\u001b[0mcopy\u001b[0m\u001b[0;34m(\u001b[0m\u001b[0mx\u001b[0m\u001b[0;34m)\u001b[0m\u001b[0;34m)\u001b[0m\u001b[0;34m\u001b[0m\u001b[0;34m\u001b[0m\u001b[0m\n\u001b[0m\u001b[1;32m    366\u001b[0m \u001b[0;34m\u001b[0m\u001b[0m\n\u001b[1;32m    367\u001b[0m             \u001b[0;32mif\u001b[0m \u001b[0mn_iterations\u001b[0m \u001b[0;34m>=\u001b[0m \u001b[0mmaxiter\u001b[0m\u001b[0;34m:\u001b[0m\u001b[0;34m\u001b[0m\u001b[0;34m\u001b[0m\u001b[0m\n",
      "\u001b[0;32m/var/folders/hf/nwz23j_d1dx_8v_yxrw0v_vh0000gn/T/ipykernel_68597/2201708476.py\u001b[0m in \u001b[0;36mlog_opt_SVGP\u001b[0;34m(x)\u001b[0m\n\u001b[1;32m     19\u001b[0m         \u001b[0mx\u001b[0m\u001b[0;34m\u001b[0m\u001b[0;34m\u001b[0m\u001b[0m\n\u001b[1;32m     20\u001b[0m     \"\"\"\n\u001b[0;32m---> 21\u001b[0;31m     \u001b[0mlogs_SVGP\u001b[0m\u001b[0;34m.\u001b[0m\u001b[0mappend\u001b[0m\u001b[0;34m(\u001b[0m\u001b[0mfloat\u001b[0m\u001b[0;34m(\u001b[0m\u001b[0mm_SVGP\u001b[0m\u001b[0;34m.\u001b[0m\u001b[0melbo\u001b[0m\u001b[0;34m(\u001b[0m\u001b[0mdata\u001b[0m\u001b[0;34m)\u001b[0m\u001b[0;34m)\u001b[0m\u001b[0;34m)\u001b[0m\u001b[0;34m\u001b[0m\u001b[0;34m\u001b[0m\u001b[0m\n\u001b[0m\u001b[1;32m     22\u001b[0m     \u001b[0;31m# logs.append(float(m.log_marginal_likelihood()))\u001b[0m\u001b[0;34m\u001b[0m\u001b[0;34m\u001b[0m\u001b[0;34m\u001b[0m\u001b[0m\n\u001b[1;32m     23\u001b[0m \u001b[0;34m\u001b[0m\u001b[0m\n",
      "\u001b[0;32m~/Programming/GPflow/gpflow/models/svgp.py\u001b[0m in \u001b[0;36melbo\u001b[0;34m(self, data)\u001b[0m\n\u001b[1;32m    146\u001b[0m         \u001b[0mX\u001b[0m\u001b[0;34m,\u001b[0m \u001b[0mY\u001b[0m \u001b[0;34m=\u001b[0m \u001b[0mdata\u001b[0m\u001b[0;34m\u001b[0m\u001b[0;34m\u001b[0m\u001b[0m\n\u001b[1;32m    147\u001b[0m         \u001b[0mkl\u001b[0m \u001b[0;34m=\u001b[0m \u001b[0mself\u001b[0m\u001b[0;34m.\u001b[0m\u001b[0mprior_kl\u001b[0m\u001b[0;34m(\u001b[0m\u001b[0;34m)\u001b[0m\u001b[0;34m\u001b[0m\u001b[0;34m\u001b[0m\u001b[0m\n\u001b[0;32m--> 148\u001b[0;31m         \u001b[0mf_mean\u001b[0m\u001b[0;34m,\u001b[0m \u001b[0mf_var\u001b[0m \u001b[0;34m=\u001b[0m \u001b[0mself\u001b[0m\u001b[0;34m.\u001b[0m\u001b[0mpredict_f\u001b[0m\u001b[0;34m(\u001b[0m\u001b[0mX\u001b[0m\u001b[0;34m,\u001b[0m \u001b[0mfull_cov\u001b[0m\u001b[0;34m=\u001b[0m\u001b[0;32mFalse\u001b[0m\u001b[0;34m,\u001b[0m \u001b[0mfull_output_cov\u001b[0m\u001b[0;34m=\u001b[0m\u001b[0;32mFalse\u001b[0m\u001b[0;34m)\u001b[0m\u001b[0;34m\u001b[0m\u001b[0;34m\u001b[0m\u001b[0m\n\u001b[0m\u001b[1;32m    149\u001b[0m         \u001b[0mvar_exp\u001b[0m \u001b[0;34m=\u001b[0m \u001b[0mself\u001b[0m\u001b[0;34m.\u001b[0m\u001b[0mlikelihood\u001b[0m\u001b[0;34m.\u001b[0m\u001b[0mvariational_expectations\u001b[0m\u001b[0;34m(\u001b[0m\u001b[0mf_mean\u001b[0m\u001b[0;34m,\u001b[0m \u001b[0mf_var\u001b[0m\u001b[0;34m,\u001b[0m \u001b[0mY\u001b[0m\u001b[0;34m)\u001b[0m\u001b[0;34m\u001b[0m\u001b[0;34m\u001b[0m\u001b[0m\n\u001b[1;32m    150\u001b[0m         \u001b[0;32mif\u001b[0m \u001b[0mself\u001b[0m\u001b[0;34m.\u001b[0m\u001b[0mnum_data\u001b[0m \u001b[0;32mis\u001b[0m \u001b[0;32mnot\u001b[0m \u001b[0;32mNone\u001b[0m\u001b[0;34m:\u001b[0m\u001b[0;34m\u001b[0m\u001b[0;34m\u001b[0m\u001b[0m\n",
      "\u001b[0;32m~/Programming/GPflow/gpflow/models/svgp.py\u001b[0m in \u001b[0;36mpredict_f\u001b[0;34m(self, Xnew, full_cov, full_output_cov)\u001b[0m\n\u001b[1;32m    226\u001b[0m             \u001b[0mmodel\u001b[0m\u001b[0;34m.\u001b[0m\u001b[0mposterior\u001b[0m\u001b[0;34m(\u001b[0m\u001b[0;34m)\u001b[0m\u001b[0;34m.\u001b[0m\u001b[0mpredict_f\u001b[0m\u001b[0;34m(\u001b[0m\u001b[0mXnew\u001b[0m\u001b[0;34m,\u001b[0m \u001b[0;34m...\u001b[0m\u001b[0;34m)\u001b[0m\u001b[0;34m\u001b[0m\u001b[0;34m\u001b[0m\u001b[0m\n\u001b[1;32m    227\u001b[0m         \"\"\"\n\u001b[0;32m--> 228\u001b[0;31m         return self.posterior(posteriors.PrecomputeCacheType.NOCACHE).fused_predict_f(\n\u001b[0m\u001b[1;32m    229\u001b[0m             \u001b[0mXnew\u001b[0m\u001b[0;34m,\u001b[0m \u001b[0mfull_cov\u001b[0m\u001b[0;34m=\u001b[0m\u001b[0mfull_cov\u001b[0m\u001b[0;34m,\u001b[0m \u001b[0mfull_output_cov\u001b[0m\u001b[0;34m=\u001b[0m\u001b[0mfull_output_cov\u001b[0m\u001b[0;34m\u001b[0m\u001b[0;34m\u001b[0m\u001b[0m\n\u001b[1;32m    230\u001b[0m         )\n",
      "\u001b[0;32m~/Programming/GPflow/gpflow/posteriors.py\u001b[0m in \u001b[0;36mfused_predict_f\u001b[0;34m(self, Xnew, full_cov, full_output_cov)\u001b[0m\n\u001b[1;32m    143\u001b[0m         \u001b[0mDoes\u001b[0m \u001b[0;32mnot\u001b[0m \u001b[0mmake\u001b[0m \u001b[0muse\u001b[0m \u001b[0mof\u001b[0m \u001b[0mcaching\u001b[0m\u001b[0;34m\u001b[0m\u001b[0;34m\u001b[0m\u001b[0m\n\u001b[1;32m    144\u001b[0m         \"\"\"\n\u001b[0;32m--> 145\u001b[0;31m         mean, cov = self._conditional_fused(\n\u001b[0m\u001b[1;32m    146\u001b[0m             \u001b[0mXnew\u001b[0m\u001b[0;34m,\u001b[0m \u001b[0mfull_cov\u001b[0m\u001b[0;34m=\u001b[0m\u001b[0mfull_cov\u001b[0m\u001b[0;34m,\u001b[0m \u001b[0mfull_output_cov\u001b[0m\u001b[0;34m=\u001b[0m\u001b[0mfull_output_cov\u001b[0m\u001b[0;34m\u001b[0m\u001b[0;34m\u001b[0m\u001b[0m\n\u001b[1;32m    147\u001b[0m         )\n",
      "\u001b[0;32m~/Programming/GPflow/gpflow/posteriors.py\u001b[0m in \u001b[0;36m_conditional_fused\u001b[0;34m(self, Xnew, full_cov, full_output_cov)\u001b[0m\n\u001b[1;32m    602\u001b[0m \u001b[0;34m\u001b[0m\u001b[0m\n\u001b[1;32m    603\u001b[0m         \u001b[0mKmm\u001b[0m \u001b[0;34m=\u001b[0m \u001b[0mcovariances\u001b[0m\u001b[0;34m.\u001b[0m\u001b[0mKuu\u001b[0m\u001b[0;34m(\u001b[0m\u001b[0mself\u001b[0m\u001b[0;34m.\u001b[0m\u001b[0mX_data\u001b[0m\u001b[0;34m,\u001b[0m \u001b[0mself\u001b[0m\u001b[0;34m.\u001b[0m\u001b[0mkernel\u001b[0m\u001b[0;34m,\u001b[0m \u001b[0mjitter\u001b[0m\u001b[0;34m=\u001b[0m\u001b[0mdefault_jitter\u001b[0m\u001b[0;34m(\u001b[0m\u001b[0;34m)\u001b[0m\u001b[0;34m)\u001b[0m  \u001b[0;31m# [M, M]\u001b[0m\u001b[0;34m\u001b[0m\u001b[0;34m\u001b[0m\u001b[0m\n\u001b[0;32m--> 604\u001b[0;31m         \u001b[0mKmn\u001b[0m \u001b[0;34m=\u001b[0m \u001b[0mcovariances\u001b[0m\u001b[0;34m.\u001b[0m\u001b[0mKuf\u001b[0m\u001b[0;34m(\u001b[0m\u001b[0mself\u001b[0m\u001b[0;34m.\u001b[0m\u001b[0mX_data\u001b[0m\u001b[0;34m,\u001b[0m \u001b[0mself\u001b[0m\u001b[0;34m.\u001b[0m\u001b[0mkernel\u001b[0m\u001b[0;34m,\u001b[0m \u001b[0mXnew\u001b[0m\u001b[0;34m)\u001b[0m  \u001b[0;31m# [M, N]\u001b[0m\u001b[0;34m\u001b[0m\u001b[0;34m\u001b[0m\u001b[0m\n\u001b[0m\u001b[1;32m    605\u001b[0m \u001b[0;34m\u001b[0m\u001b[0m\n\u001b[1;32m    606\u001b[0m         fmean, fvar = base_conditional(\n",
      "\u001b[0;32m~/opt/anaconda3/lib/python3.8/site-packages/multipledispatch/dispatcher.py\u001b[0m in \u001b[0;36m__call__\u001b[0;34m(self, *args, **kwargs)\u001b[0m\n\u001b[1;32m    276\u001b[0m             \u001b[0mself\u001b[0m\u001b[0;34m.\u001b[0m\u001b[0m_cache\u001b[0m\u001b[0;34m[\u001b[0m\u001b[0mtypes\u001b[0m\u001b[0;34m]\u001b[0m \u001b[0;34m=\u001b[0m \u001b[0mfunc\u001b[0m\u001b[0;34m\u001b[0m\u001b[0;34m\u001b[0m\u001b[0m\n\u001b[1;32m    277\u001b[0m         \u001b[0;32mtry\u001b[0m\u001b[0;34m:\u001b[0m\u001b[0;34m\u001b[0m\u001b[0;34m\u001b[0m\u001b[0m\n\u001b[0;32m--> 278\u001b[0;31m             \u001b[0;32mreturn\u001b[0m \u001b[0mfunc\u001b[0m\u001b[0;34m(\u001b[0m\u001b[0;34m*\u001b[0m\u001b[0margs\u001b[0m\u001b[0;34m,\u001b[0m \u001b[0;34m**\u001b[0m\u001b[0mkwargs\u001b[0m\u001b[0;34m)\u001b[0m\u001b[0;34m\u001b[0m\u001b[0;34m\u001b[0m\u001b[0m\n\u001b[0m\u001b[1;32m    279\u001b[0m \u001b[0;34m\u001b[0m\u001b[0m\n\u001b[1;32m    280\u001b[0m         \u001b[0;32mexcept\u001b[0m \u001b[0mMDNotImplementedError\u001b[0m\u001b[0;34m:\u001b[0m\u001b[0;34m\u001b[0m\u001b[0;34m\u001b[0m\u001b[0m\n",
      "\u001b[0;32m~/Programming/GPflow/gpflow/covariances/kufs.py\u001b[0m in \u001b[0;36mKuf_kernel_inducingpoints\u001b[0;34m(inducing_variable, kernel, Xnew)\u001b[0m\n\u001b[1;32m     23\u001b[0m \u001b[0;34m@\u001b[0m\u001b[0mKuf\u001b[0m\u001b[0;34m.\u001b[0m\u001b[0mregister\u001b[0m\u001b[0;34m(\u001b[0m\u001b[0mInducingPoints\u001b[0m\u001b[0;34m,\u001b[0m \u001b[0mKernel\u001b[0m\u001b[0;34m,\u001b[0m \u001b[0mTensorLike\u001b[0m\u001b[0;34m)\u001b[0m\u001b[0;34m\u001b[0m\u001b[0;34m\u001b[0m\u001b[0m\n\u001b[1;32m     24\u001b[0m \u001b[0;32mdef\u001b[0m \u001b[0mKuf_kernel_inducingpoints\u001b[0m\u001b[0;34m(\u001b[0m\u001b[0minducing_variable\u001b[0m\u001b[0;34m:\u001b[0m \u001b[0mInducingPoints\u001b[0m\u001b[0;34m,\u001b[0m \u001b[0mkernel\u001b[0m\u001b[0;34m:\u001b[0m \u001b[0mKernel\u001b[0m\u001b[0;34m,\u001b[0m \u001b[0mXnew\u001b[0m\u001b[0;34m)\u001b[0m\u001b[0;34m:\u001b[0m\u001b[0;34m\u001b[0m\u001b[0;34m\u001b[0m\u001b[0m\n\u001b[0;32m---> 25\u001b[0;31m     \u001b[0;32mreturn\u001b[0m \u001b[0mkernel\u001b[0m\u001b[0;34m(\u001b[0m\u001b[0minducing_variable\u001b[0m\u001b[0;34m.\u001b[0m\u001b[0mZ\u001b[0m\u001b[0;34m,\u001b[0m \u001b[0mXnew\u001b[0m\u001b[0;34m)\u001b[0m\u001b[0;34m\u001b[0m\u001b[0;34m\u001b[0m\u001b[0m\n\u001b[0m\u001b[1;32m     26\u001b[0m \u001b[0;34m\u001b[0m\u001b[0m\n\u001b[1;32m     27\u001b[0m \u001b[0;34m\u001b[0m\u001b[0m\n",
      "\u001b[0;32m~/Programming/GPflow/gpflow/kernels/base.py\u001b[0m in \u001b[0;36m__call__\u001b[0;34m(self, X, X2, full_cov, presliced)\u001b[0m\n\u001b[1;32m    171\u001b[0m \u001b[0;34m\u001b[0m\u001b[0m\n\u001b[1;32m    172\u001b[0m         \u001b[0;32melse\u001b[0m\u001b[0;34m:\u001b[0m\u001b[0;34m\u001b[0m\u001b[0;34m\u001b[0m\u001b[0m\n\u001b[0;32m--> 173\u001b[0;31m             \u001b[0;32mreturn\u001b[0m \u001b[0mself\u001b[0m\u001b[0;34m.\u001b[0m\u001b[0mK\u001b[0m\u001b[0;34m(\u001b[0m\u001b[0mX\u001b[0m\u001b[0;34m,\u001b[0m \u001b[0mX2\u001b[0m\u001b[0;34m)\u001b[0m\u001b[0;34m\u001b[0m\u001b[0;34m\u001b[0m\u001b[0m\n\u001b[0m\u001b[1;32m    174\u001b[0m \u001b[0;34m\u001b[0m\u001b[0m\n\u001b[1;32m    175\u001b[0m     \u001b[0;32mdef\u001b[0m \u001b[0m__add__\u001b[0m\u001b[0;34m(\u001b[0m\u001b[0mself\u001b[0m\u001b[0;34m,\u001b[0m \u001b[0mother\u001b[0m\u001b[0;34m)\u001b[0m\u001b[0;34m:\u001b[0m\u001b[0;34m\u001b[0m\u001b[0;34m\u001b[0m\u001b[0m\n",
      "\u001b[0;32m~/Programming/GPflow/gpflow/kernels/stationaries.py\u001b[0m in \u001b[0;36mK\u001b[0;34m(self, X, X2)\u001b[0m\n\u001b[1;32m     86\u001b[0m \u001b[0;34m\u001b[0m\u001b[0m\n\u001b[1;32m     87\u001b[0m     \u001b[0;32mdef\u001b[0m \u001b[0mK\u001b[0m\u001b[0;34m(\u001b[0m\u001b[0mself\u001b[0m\u001b[0;34m,\u001b[0m \u001b[0mX\u001b[0m\u001b[0;34m,\u001b[0m \u001b[0mX2\u001b[0m\u001b[0;34m=\u001b[0m\u001b[0;32mNone\u001b[0m\u001b[0;34m)\u001b[0m\u001b[0;34m:\u001b[0m\u001b[0;34m\u001b[0m\u001b[0;34m\u001b[0m\u001b[0m\n\u001b[0;32m---> 88\u001b[0;31m         \u001b[0mr2\u001b[0m \u001b[0;34m=\u001b[0m \u001b[0mself\u001b[0m\u001b[0;34m.\u001b[0m\u001b[0mscaled_squared_euclid_dist\u001b[0m\u001b[0;34m(\u001b[0m\u001b[0mX\u001b[0m\u001b[0;34m,\u001b[0m \u001b[0mX2\u001b[0m\u001b[0;34m)\u001b[0m\u001b[0;34m\u001b[0m\u001b[0;34m\u001b[0m\u001b[0m\n\u001b[0m\u001b[1;32m     89\u001b[0m         \u001b[0;32mreturn\u001b[0m \u001b[0mself\u001b[0m\u001b[0;34m.\u001b[0m\u001b[0mK_r2\u001b[0m\u001b[0;34m(\u001b[0m\u001b[0mr2\u001b[0m\u001b[0;34m)\u001b[0m\u001b[0;34m\u001b[0m\u001b[0;34m\u001b[0m\u001b[0m\n\u001b[1;32m     90\u001b[0m \u001b[0;34m\u001b[0m\u001b[0m\n",
      "\u001b[0;32m~/Programming/GPflow/gpflow/kernels/stationaries.py\u001b[0m in \u001b[0;36mscaled_squared_euclid_dist\u001b[0;34m(self, X, X2)\u001b[0m\n\u001b[1;32m    100\u001b[0m         \u001b[0mReturns\u001b[0m\u001b[0;31m \u001b[0m\u001b[0;31m‖\u001b[0m\u001b[0;34m(\u001b[0m\u001b[0mX\u001b[0m \u001b[0;34m-\u001b[0m \u001b[0mX2ᵀ\u001b[0m\u001b[0;34m)\u001b[0m \u001b[0;34m/\u001b[0m \u001b[0mℓ\u001b[0m\u001b[0;31m‖\u001b[0m\u001b[0;34m²\u001b[0m\u001b[0;34m,\u001b[0m \u001b[0mi\u001b[0m\u001b[0;34m.\u001b[0m\u001b[0me\u001b[0m\u001b[0;34m.\u001b[0m \u001b[0mthe\u001b[0m \u001b[0msquared\u001b[0m \u001b[0mL₂\u001b[0m\u001b[0;34m-\u001b[0m\u001b[0mnorm\u001b[0m\u001b[0;34m.\u001b[0m\u001b[0;34m\u001b[0m\u001b[0;34m\u001b[0m\u001b[0m\n\u001b[1;32m    101\u001b[0m         \"\"\"\n\u001b[0;32m--> 102\u001b[0;31m         \u001b[0;32mreturn\u001b[0m \u001b[0msquare_distance\u001b[0m\u001b[0;34m(\u001b[0m\u001b[0mself\u001b[0m\u001b[0;34m.\u001b[0m\u001b[0mscale\u001b[0m\u001b[0;34m(\u001b[0m\u001b[0mX\u001b[0m\u001b[0;34m)\u001b[0m\u001b[0;34m,\u001b[0m \u001b[0mself\u001b[0m\u001b[0;34m.\u001b[0m\u001b[0mscale\u001b[0m\u001b[0;34m(\u001b[0m\u001b[0mX2\u001b[0m\u001b[0;34m)\u001b[0m\u001b[0;34m)\u001b[0m\u001b[0;34m\u001b[0m\u001b[0;34m\u001b[0m\u001b[0m\n\u001b[0m\u001b[1;32m    103\u001b[0m \u001b[0;34m\u001b[0m\u001b[0m\n\u001b[1;32m    104\u001b[0m \u001b[0;34m\u001b[0m\u001b[0m\n",
      "\u001b[0;32m~/Programming/GPflow/gpflow/utilities/ops.py\u001b[0m in \u001b[0;36msquare_distance\u001b[0;34m(X, X2)\u001b[0m\n\u001b[1;32m    112\u001b[0m     \u001b[0mXs\u001b[0m \u001b[0;34m=\u001b[0m \u001b[0mtf\u001b[0m\u001b[0;34m.\u001b[0m\u001b[0mreduce_sum\u001b[0m\u001b[0;34m(\u001b[0m\u001b[0mtf\u001b[0m\u001b[0;34m.\u001b[0m\u001b[0msquare\u001b[0m\u001b[0;34m(\u001b[0m\u001b[0mX\u001b[0m\u001b[0;34m)\u001b[0m\u001b[0;34m,\u001b[0m \u001b[0maxis\u001b[0m\u001b[0;34m=\u001b[0m\u001b[0;34m-\u001b[0m\u001b[0;36m1\u001b[0m\u001b[0;34m)\u001b[0m\u001b[0;34m\u001b[0m\u001b[0;34m\u001b[0m\u001b[0m\n\u001b[1;32m    113\u001b[0m     \u001b[0mX2s\u001b[0m \u001b[0;34m=\u001b[0m \u001b[0mtf\u001b[0m\u001b[0;34m.\u001b[0m\u001b[0mreduce_sum\u001b[0m\u001b[0;34m(\u001b[0m\u001b[0mtf\u001b[0m\u001b[0;34m.\u001b[0m\u001b[0msquare\u001b[0m\u001b[0;34m(\u001b[0m\u001b[0mX2\u001b[0m\u001b[0;34m)\u001b[0m\u001b[0;34m,\u001b[0m \u001b[0maxis\u001b[0m\u001b[0;34m=\u001b[0m\u001b[0;34m-\u001b[0m\u001b[0;36m1\u001b[0m\u001b[0;34m)\u001b[0m\u001b[0;34m\u001b[0m\u001b[0;34m\u001b[0m\u001b[0m\n\u001b[0;32m--> 114\u001b[0;31m     \u001b[0mdist\u001b[0m \u001b[0;34m=\u001b[0m \u001b[0;34m-\u001b[0m\u001b[0;36m2\u001b[0m \u001b[0;34m*\u001b[0m \u001b[0mtf\u001b[0m\u001b[0;34m.\u001b[0m\u001b[0mtensordot\u001b[0m\u001b[0;34m(\u001b[0m\u001b[0mX\u001b[0m\u001b[0;34m,\u001b[0m \u001b[0mX2\u001b[0m\u001b[0;34m,\u001b[0m \u001b[0;34m[\u001b[0m\u001b[0;34m[\u001b[0m\u001b[0;34m-\u001b[0m\u001b[0;36m1\u001b[0m\u001b[0;34m]\u001b[0m\u001b[0;34m,\u001b[0m \u001b[0;34m[\u001b[0m\u001b[0;34m-\u001b[0m\u001b[0;36m1\u001b[0m\u001b[0;34m]\u001b[0m\u001b[0;34m]\u001b[0m\u001b[0;34m)\u001b[0m\u001b[0;34m\u001b[0m\u001b[0;34m\u001b[0m\u001b[0m\n\u001b[0m\u001b[1;32m    115\u001b[0m     \u001b[0mdist\u001b[0m \u001b[0;34m+=\u001b[0m \u001b[0mbroadcasting_elementwise\u001b[0m\u001b[0;34m(\u001b[0m\u001b[0mtf\u001b[0m\u001b[0;34m.\u001b[0m\u001b[0madd\u001b[0m\u001b[0;34m,\u001b[0m \u001b[0mXs\u001b[0m\u001b[0;34m,\u001b[0m \u001b[0mX2s\u001b[0m\u001b[0;34m)\u001b[0m\u001b[0;34m\u001b[0m\u001b[0;34m\u001b[0m\u001b[0m\n\u001b[1;32m    116\u001b[0m     \u001b[0;32mreturn\u001b[0m \u001b[0mdist\u001b[0m\u001b[0;34m\u001b[0m\u001b[0;34m\u001b[0m\u001b[0m\n",
      "\u001b[0;32m~/opt/anaconda3/lib/python3.8/site-packages/tensorflow/python/ops/math_ops.py\u001b[0m in \u001b[0;36mr_binary_op_wrapper\u001b[0;34m(y, x)\u001b[0m\n\u001b[1;32m   1398\u001b[0m       \u001b[0;31m#   r_binary_op_wrapper use different force_same_dtype values.\u001b[0m\u001b[0;34m\u001b[0m\u001b[0;34m\u001b[0m\u001b[0;34m\u001b[0m\u001b[0m\n\u001b[1;32m   1399\u001b[0m       \u001b[0my\u001b[0m\u001b[0;34m,\u001b[0m \u001b[0mx\u001b[0m \u001b[0;34m=\u001b[0m \u001b[0mmaybe_promote_tensors\u001b[0m\u001b[0;34m(\u001b[0m\u001b[0my\u001b[0m\u001b[0;34m,\u001b[0m \u001b[0mx\u001b[0m\u001b[0;34m)\u001b[0m\u001b[0;34m\u001b[0m\u001b[0;34m\u001b[0m\u001b[0m\n\u001b[0;32m-> 1400\u001b[0;31m       \u001b[0;32mreturn\u001b[0m \u001b[0mfunc\u001b[0m\u001b[0;34m(\u001b[0m\u001b[0mx\u001b[0m\u001b[0;34m,\u001b[0m \u001b[0my\u001b[0m\u001b[0;34m,\u001b[0m \u001b[0mname\u001b[0m\u001b[0;34m=\u001b[0m\u001b[0mname\u001b[0m\u001b[0;34m)\u001b[0m\u001b[0;34m\u001b[0m\u001b[0;34m\u001b[0m\u001b[0m\n\u001b[0m\u001b[1;32m   1401\u001b[0m \u001b[0;34m\u001b[0m\u001b[0m\n\u001b[1;32m   1402\u001b[0m   \u001b[0;31m# Propagate func.__doc__ to the wrappers\u001b[0m\u001b[0;34m\u001b[0m\u001b[0;34m\u001b[0m\u001b[0;34m\u001b[0m\u001b[0m\n",
      "\u001b[0;32m~/opt/anaconda3/lib/python3.8/site-packages/tensorflow/python/ops/math_ops.py\u001b[0m in \u001b[0;36m_mul_dispatch\u001b[0;34m(x, y, name)\u001b[0m\n\u001b[1;32m   1708\u001b[0m     \u001b[0;32mreturn\u001b[0m \u001b[0msparse_tensor\u001b[0m\u001b[0;34m.\u001b[0m\u001b[0mSparseTensor\u001b[0m\u001b[0;34m(\u001b[0m\u001b[0my\u001b[0m\u001b[0;34m.\u001b[0m\u001b[0mindices\u001b[0m\u001b[0;34m,\u001b[0m \u001b[0mnew_vals\u001b[0m\u001b[0;34m,\u001b[0m \u001b[0my\u001b[0m\u001b[0;34m.\u001b[0m\u001b[0mdense_shape\u001b[0m\u001b[0;34m)\u001b[0m\u001b[0;34m\u001b[0m\u001b[0;34m\u001b[0m\u001b[0m\n\u001b[1;32m   1709\u001b[0m   \u001b[0;32melse\u001b[0m\u001b[0;34m:\u001b[0m\u001b[0;34m\u001b[0m\u001b[0;34m\u001b[0m\u001b[0m\n\u001b[0;32m-> 1710\u001b[0;31m     \u001b[0;32mreturn\u001b[0m \u001b[0mmultiply\u001b[0m\u001b[0;34m(\u001b[0m\u001b[0mx\u001b[0m\u001b[0;34m,\u001b[0m \u001b[0my\u001b[0m\u001b[0;34m,\u001b[0m \u001b[0mname\u001b[0m\u001b[0;34m=\u001b[0m\u001b[0mname\u001b[0m\u001b[0;34m)\u001b[0m\u001b[0;34m\u001b[0m\u001b[0;34m\u001b[0m\u001b[0m\n\u001b[0m\u001b[1;32m   1711\u001b[0m \u001b[0;34m\u001b[0m\u001b[0m\n\u001b[1;32m   1712\u001b[0m \u001b[0;34m\u001b[0m\u001b[0m\n",
      "\u001b[0;32m~/opt/anaconda3/lib/python3.8/site-packages/tensorflow/python/util/dispatch.py\u001b[0m in \u001b[0;36mwrapper\u001b[0;34m(*args, **kwargs)\u001b[0m\n\u001b[1;32m    204\u001b[0m     \u001b[0;34m\"\"\"Call target, and fall back on dispatchers if there is a TypeError.\"\"\"\u001b[0m\u001b[0;34m\u001b[0m\u001b[0;34m\u001b[0m\u001b[0m\n\u001b[1;32m    205\u001b[0m     \u001b[0;32mtry\u001b[0m\u001b[0;34m:\u001b[0m\u001b[0;34m\u001b[0m\u001b[0;34m\u001b[0m\u001b[0m\n\u001b[0;32m--> 206\u001b[0;31m       \u001b[0;32mreturn\u001b[0m \u001b[0mtarget\u001b[0m\u001b[0;34m(\u001b[0m\u001b[0;34m*\u001b[0m\u001b[0margs\u001b[0m\u001b[0;34m,\u001b[0m \u001b[0;34m**\u001b[0m\u001b[0mkwargs\u001b[0m\u001b[0;34m)\u001b[0m\u001b[0;34m\u001b[0m\u001b[0;34m\u001b[0m\u001b[0m\n\u001b[0m\u001b[1;32m    207\u001b[0m     \u001b[0;32mexcept\u001b[0m \u001b[0;34m(\u001b[0m\u001b[0mTypeError\u001b[0m\u001b[0;34m,\u001b[0m \u001b[0mValueError\u001b[0m\u001b[0;34m)\u001b[0m\u001b[0;34m:\u001b[0m\u001b[0;34m\u001b[0m\u001b[0;34m\u001b[0m\u001b[0m\n\u001b[1;32m    208\u001b[0m       \u001b[0;31m# Note: convert_to_eager_tensor currently raises a ValueError, not a\u001b[0m\u001b[0;34m\u001b[0m\u001b[0;34m\u001b[0m\u001b[0;34m\u001b[0m\u001b[0m\n",
      "\u001b[0;32m~/opt/anaconda3/lib/python3.8/site-packages/tensorflow/python/ops/math_ops.py\u001b[0m in \u001b[0;36mmultiply\u001b[0;34m(x, y, name)\u001b[0m\n\u001b[1;32m    528\u001b[0m   \"\"\"\n\u001b[1;32m    529\u001b[0m \u001b[0;34m\u001b[0m\u001b[0m\n\u001b[0;32m--> 530\u001b[0;31m   \u001b[0;32mreturn\u001b[0m \u001b[0mgen_math_ops\u001b[0m\u001b[0;34m.\u001b[0m\u001b[0mmul\u001b[0m\u001b[0;34m(\u001b[0m\u001b[0mx\u001b[0m\u001b[0;34m,\u001b[0m \u001b[0my\u001b[0m\u001b[0;34m,\u001b[0m \u001b[0mname\u001b[0m\u001b[0;34m)\u001b[0m\u001b[0;34m\u001b[0m\u001b[0;34m\u001b[0m\u001b[0m\n\u001b[0m\u001b[1;32m    531\u001b[0m \u001b[0;34m\u001b[0m\u001b[0m\n\u001b[1;32m    532\u001b[0m \u001b[0;34m\u001b[0m\u001b[0m\n",
      "\u001b[0;32m~/opt/anaconda3/lib/python3.8/site-packages/tensorflow/python/ops/gen_math_ops.py\u001b[0m in \u001b[0;36mmul\u001b[0;34m(x, y, name)\u001b[0m\n\u001b[1;32m   6230\u001b[0m   \u001b[0;32mif\u001b[0m \u001b[0mtld\u001b[0m\u001b[0;34m.\u001b[0m\u001b[0mis_eager\u001b[0m\u001b[0;34m:\u001b[0m\u001b[0;34m\u001b[0m\u001b[0;34m\u001b[0m\u001b[0m\n\u001b[1;32m   6231\u001b[0m     \u001b[0;32mtry\u001b[0m\u001b[0;34m:\u001b[0m\u001b[0;34m\u001b[0m\u001b[0;34m\u001b[0m\u001b[0m\n\u001b[0;32m-> 6232\u001b[0;31m       _result = pywrap_tfe.TFE_Py_FastPathExecute(\n\u001b[0m\u001b[1;32m   6233\u001b[0m         _ctx, \"Mul\", name, x, y)\n\u001b[1;32m   6234\u001b[0m       \u001b[0;32mreturn\u001b[0m \u001b[0m_result\u001b[0m\u001b[0;34m\u001b[0m\u001b[0;34m\u001b[0m\u001b[0m\n",
      "\u001b[0;31mKeyboardInterrupt\u001b[0m: "
     ]
    }
   ],
   "source": [
    "# #-- Optimisation\n",
    "\n",
    "\n",
    "\n",
    "#* Optimiser object\n",
    "opt = gpflow.optimizers.Scipy()\n",
    "\n",
    "#* List for ELBO values during \n",
    "logs_SVGP = []\n",
    "\n",
    "watch = Stopwatch()\n",
    "watch.reset()\n",
    "\n",
    "def log_opt_SVGP(x):\n",
    "    \"\"\"\n",
    "    Utility function to log the elbo score for each iteration during optimisaiton.\n",
    "\n",
    "    Args:\n",
    "        x\n",
    "    \"\"\"\n",
    "    logs_SVGP.append(float(m_SVGP.elbo(data)))\n",
    "    # logs.append(float(m.log_marginal_likelihood()))\n",
    "\n",
    "\n",
    "\n",
    "#* Optimise\n",
    "log_SVGP = opt.minimize(\n",
    "    m_SVGP.training_loss_closure(data),\n",
    "    m_SVGP.trainable_variables,\n",
    "    options=dict(maxiter=1000),\n",
    "    callback=log_opt_SVGP,\n",
    "    )\n",
    "\n",
    "# print(logs)\n",
    "plt.plot(logs_SVGP)\n",
    "plt.show()"
   ]
  },
  {
   "cell_type": "code",
   "execution_count": 244,
   "metadata": {},
   "outputs": [
    {
     "data": {
      "image/png": "[encoded data removed]",
      "text/plain": [
       "<Figure size 432x288 with 1 Axes>"
      ]
     },
     "metadata": {
      "needs_background": "light"
     },
     "output_type": "display_data"
    }
   ],
   "source": [
    "plt.plot(logs_SVGP)\n",
    "plt.ylim(-71750,-71700)\n",
    "plt.show()"
   ]
  },
  {
   "cell_type": "code",
   "execution_count": 26,
   "metadata": {},
   "outputs": [
    {
     "name": "stdout",
     "output_type": "stream",
     "text": [
      "tf.Tensor(-491664.8871761263, shape=(), dtype=float64)\n",
      "0.098\n",
      "[[0 0 0 0 0 0 0 0 0 0 0 0 0 0 0 0 0 0 0 0]]\n",
      "[[7 2 1 0 4 1 4 9 5 9 0 6 9 0 1 5 9 7 3 4]]\n"
     ]
    }
   ],
   "source": [
    "print(m_SVGP.elbo(data))\n",
    "\n",
    "y_pred, var = m_SVGP.predict_y(x_test)\n",
    "y_pred_labels = np.argmax(y_pred, axis=1).reshape(-1, 1)\n",
    "print(accuracy_score(y_test, y_pred_labels))\n",
    "\n",
    "print(y_pred_labels[:20].reshape(1, -1))\n",
    "print(y_test[:20].reshape(1, -1))\n",
    "\n"
   ]
  },
  {
   "cell_type": "markdown",
   "metadata": {},
   "source": [
    "#### Comparing Models"
   ]
  },
  {
   "cell_type": "code",
   "execution_count": 12,
   "metadata": {},
   "outputs": [],
   "source": [
    "def train_mnist(\n",
    "    model,\n",
    "    num_ind_points,\n",
    "    num_iterations,\n",
    "    train_ind_points=True,\n",
    "    learning_rate_adam=0.1,\n",
    "    minibatch_size=None,\n",
    "    ):\n",
    "    \"\"\"Trains sparse GP models on MNIST dataset.\n",
    "\n",
    "    Args:\n",
    "        model (str): model with which to train on MNIST dataset\n",
    "        num_ind_points (int): Number of inducing points to be used in the model.\n",
    "        num_iterations (int): Number of iterations during optimisation.\n",
    "        train_ind_points (bool, optional): Set inducing points to be a trainable parameter. Defaults to True.\n",
    "        learning_rate_adam (float, optional): Learning rate to use in Adam optimiser. Defaults to 0.01.\n",
    "        minibatch_size (int, optional): Size of minibatch to use during optimisation. Defaults to None (full batch training).\n",
    "\n",
    "    Returns:\n",
    "        model (GPflow model object)\n",
    "        times (array)\n",
    "        elbo_logs (array)\n",
    "        accuracy_logs (array)\n",
    "    \"\"\"\n",
    "\n",
    "    if not model == \"SGPR\" and not model == \"SVGP\":\n",
    "        raise ValueError(\"Model must be either SGPR or SVGP.\")\n",
    "    if not type(num_ind_points) is int:\n",
    "        raise ValueError(\"Number of inducing points must be an integer.\")\n",
    "    if not type(train_ind_points) is bool:\n",
    "        raise ValueError(\"train_ind_points must be boolean.\")\n",
    "    if not type(num_iterations) is int:\n",
    "        raise ValueError(\"Iterations must be an integer.\")\n",
    "    if minibatch_size is not None and not type(minibatch_size) is int:\n",
    "            raise ValueError(\"Minibatch size must be an integer.\")\n",
    "\n",
    "    y_hot_encoding = model==\"SGPR\"\n",
    "\n",
    "    x_train, x_test, y_train, y_test = load_dataset(dataset=\"mnist\", y_hot_encoding=y_hot_encoding)\n",
    "\n",
    "    data=(x_train, y_train)\n",
    "\n",
    "    N = len(y_train)\n",
    "\n",
    "    #* Number of inducing points\n",
    "    M = num_ind_points\n",
    "\n",
    "    #* Random initialisation of inducing points\n",
    "    Z = x_train[:M, :].copy()\n",
    "\n",
    "    #* Number of classes for a classification dataset\n",
    "    C = len(unique_labels(y_train))\n",
    "\n",
    "    #* Robustmax Multiclass Likelihood\n",
    "    invlink = gpflow.likelihoods.RobustMax(C)  # Robustmax inverse link function\n",
    "    likelihood = gpflow.likelihoods.MultiClass(C, invlink=invlink)  # Multiclass likelihood\n",
    "    gaussian_like = gpflow.likelihoods.Gaussian()\n",
    "\n",
    "    #* Kernel\n",
    "    kernel = gpflow.kernels.SquaredExponential()\n",
    "\n",
    "    #* Initialise the model\n",
    "    if model==\"SVGP\":\n",
    "        m = gpflow.models.SVGP(\n",
    "            inducing_variable=Z,\n",
    "            kernel=kernel,\n",
    "            num_latent_gps=C,\n",
    "            likelihood=likelihood,\n",
    "            )\n",
    "    if model==\"SGPR\":\n",
    "        m = gpflow.models.SGPR(\n",
    "            data=data,\n",
    "            inducing_variable=Z,\n",
    "            kernel=kernel,\n",
    "            )\n",
    "\n",
    "    #* Pick value for jitter\n",
    "    jitter = 1e-3\n",
    "    gpflow.config.set_default_jitter(jitter)\n",
    "\n",
    "    #* Set trainable parameters\n",
    "    gpflow.set_trainable(m.inducing_variable, train_ind_points)\n",
    "\n",
    "    #* Initialise hyperparams\n",
    "    var_y = 1\n",
    "    var_f = var_y\n",
    "    kappa = 1\n",
    "    var_n = var_f / kappa\n",
    "\n",
    "    # m_SVGP.likelihood.variance.assign(var_n)\n",
    "    m.kernel.variance.assign(var_y)\n",
    "    m.kernel.lengthscales.assign(10)\n",
    "\n",
    "    #* Optimiser object\n",
    "    opt = tf.optimizers.Adam(learning_rate=learning_rate_adam)\n",
    "\n",
    "    #* List for ELBO values during \n",
    "    elbo_logs = []\n",
    "    accuracy_logs = []\n",
    "    times = []\n",
    "\n",
    "    watch = Stopwatch()\n",
    "    watch.reset()\n",
    "\n",
    "    n_logs = 200\n",
    "\n",
    "    def log_opt():\n",
    "        \"\"\"\n",
    "        Utility function to log the elbo score for each iteration during optimisaiton.\n",
    "\n",
    "        Args:\n",
    "            x\n",
    "        \"\"\"\n",
    "        watch.stop()\n",
    "        if model == \"SGPR\":\n",
    "            ELBO =  m.elbo()\n",
    "        elif model==\"SVGP\":\n",
    "            ELBO =  m.elbo(data)\n",
    "        elbo_logs.append(float(ELBO))\n",
    "        times.append(watch.read_time())\n",
    "        y_pred, var = m.predict_y(x_test)\n",
    "        y_pred_labels = np.argmax(y_pred, axis=1).reshape(-1, 1)\n",
    "        accuracy_logs.append(accuracy_score(y_test, y_pred_labels))\n",
    "        watch.start()\n",
    "        \n",
    "        # logs.append(float(m.log_marginal_likelihood()))\n",
    "\n",
    "\n",
    "    if model==\"SGPR\":\n",
    "        training_loss=m.training_loss\n",
    "\n",
    "    if model==\"SVGP\" and minibatch_size is None:\n",
    "        training_loss= m.training_loss_closure(data)\n",
    "    if model==\"SVGP\" and minibatch_size is not None:\n",
    "        train_dataset = tf.data.Dataset.from_tensor_slices((data)).repeat().shuffle(N)\n",
    "        train_iter = iter(train_dataset.batch(minibatch_size))\n",
    "        training_loss = m.training_loss_closure(train_iter, compile=True)\n",
    "\n",
    "    def run_adam(iterations):\n",
    "        for i in range(iterations):\n",
    "            opt.minimize(\n",
    "                training_loss,\n",
    "                m.trainable_variables,\n",
    "                )\n",
    "            freq = iterations//n_logs \n",
    "            if i % freq == 0:  #-- only log every freq iterations\n",
    "                log_opt()\n",
    "\n",
    "    watch.start()  # --Start the watch\n",
    "\n",
    "\n",
    "    #* Optimise\n",
    "    run_adam(num_iterations)\n",
    "\n",
    "\n",
    "    watch.stop() # --Stop the watch for the final time\n",
    "    print(\"Model: {}\".format(model))\n",
    "    print(\"Number of inducing points: {}\".format(num_ind_points))\n",
    "    print(\"Total time for optimisation: {} seconds\".format(watch.read_time()))\n",
    "    gpflow.utilities.print_summary(m, fmt=\"notebook\")\n",
    "\n",
    "    return m, times, elbo_logs, accuracy_logs\n"
   ]
  },
  {
   "cell_type": "code",
   "execution_count": 94,
   "metadata": {},
   "outputs": [
    {
     "name": "stdout",
     "output_type": "stream",
     "text": [
      "Model: SGPR\n",
      "Number of inducing points: 500\n",
      "Total time for optimisation: 1524.0462017059326 seconds\n"
     ]
    },
    {
     "data": {
      "text/html": [
       "<table>\n",
       "<thead>\n",
       "<tr><th>name                    </th><th>class    </th><th>transform       </th><th>prior  </th><th>trainable  </th><th>shape     </th><th>dtype  </th><th>value               </th></tr>\n",
       "</thead>\n",
       "<tbody>\n",
       "<tr><td>SGPR.kernel.variance    </td><td>Parameter</td><td>Softplus        </td><td>       </td><td>True       </td><td>()        </td><td>float64</td><td>0.007805522379905838</td></tr>\n",
       "<tr><td>SGPR.kernel.lengthscales</td><td>Parameter</td><td>Softplus        </td><td>       </td><td>True       </td><td>()        </td><td>float64</td><td>5.448216970962651   </td></tr>\n",
       "<tr><td>SGPR.likelihood.variance</td><td>Parameter</td><td>Softplus + Shift</td><td>       </td><td>True       </td><td>()        </td><td>float64</td><td>0.012400270533327137</td></tr>\n",
       "<tr><td>SGPR.inducing_variable.Z</td><td>Parameter</td><td>Identity        </td><td>       </td><td>True       </td><td>(500, 784)</td><td>float64</td><td>[[0., 0., 0....     </td></tr>\n",
       "</tbody>\n",
       "</table>"
      ],
      "text/plain": [
       "<IPython.core.display.HTML object>"
      ]
     },
     "metadata": {},
     "output_type": "display_data"
    },
    {
     "name": "stdout",
     "output_type": "stream",
     "text": [
      "Model: SGPR\n",
      "Number of inducing points: 500\n",
      "Total time for optimisation: 1555.1997833251953 seconds\n"
     ]
    },
    {
     "data": {
      "text/html": [
       "<table>\n",
       "<thead>\n",
       "<tr><th>name                    </th><th>class    </th><th>transform       </th><th>prior  </th><th>trainable  </th><th>shape     </th><th>dtype  </th><th>value               </th></tr>\n",
       "</thead>\n",
       "<tbody>\n",
       "<tr><td>SGPR.kernel.variance    </td><td>Parameter</td><td>Softplus        </td><td>       </td><td>True       </td><td>()        </td><td>float64</td><td>0.007963949103896204</td></tr>\n",
       "<tr><td>SGPR.kernel.lengthscales</td><td>Parameter</td><td>Softplus        </td><td>       </td><td>True       </td><td>()        </td><td>float64</td><td>6.052048572911095   </td></tr>\n",
       "<tr><td>SGPR.likelihood.variance</td><td>Parameter</td><td>Softplus + Shift</td><td>       </td><td>True       </td><td>()        </td><td>float64</td><td>0.022614544986596218</td></tr>\n",
       "<tr><td>SGPR.inducing_variable.Z</td><td>Parameter</td><td>Identity        </td><td>       </td><td>False      </td><td>(500, 784)</td><td>float64</td><td>[[0., 0., 0....     </td></tr>\n",
       "</tbody>\n",
       "</table>"
      ],
      "text/plain": [
       "<IPython.core.display.HTML object>"
      ]
     },
     "metadata": {},
     "output_type": "display_data"
    }
   ],
   "source": [
    "m_SGPR_Z, times_Z, elbos_Z, accuracies_Z = train_mnist(model=\"SGPR\", num_ind_points=500, train_ind_points=True, num_iterations=200 )\n",
    "m_SGPR, times, elbos, accuracies = train_mnist(model=\"SGPR\", num_ind_points=500, train_ind_points=False, num_iterations=200 )"
   ]
  },
  {
   "cell_type": "code",
   "execution_count": 13,
   "metadata": {},
   "outputs": [
    {
     "name": "stderr",
     "output_type": "stream",
     "text": [
      "2022-05-04 17:06:42.411063: I tensorflow/compiler/mlir/mlir_graph_optimization_pass.cc:185] None of the MLIR Optimization Passes are enabled (registered 2)\n"
     ]
    },
    {
     "ename": "KeyboardInterrupt",
     "evalue": "",
     "output_type": "error",
     "traceback": [
      "\u001b[0;31m---------------------------------------------------------------------------\u001b[0m",
      "\u001b[0;31mKeyboardInterrupt\u001b[0m                         Traceback (most recent call last)",
      "\u001b[0;32m/var/folders/hf/nwz23j_d1dx_8v_yxrw0v_vh0000gn/T/ipykernel_79686/2170303749.py\u001b[0m in \u001b[0;36m<module>\u001b[0;34m\u001b[0m\n\u001b[0;32m----> 1\u001b[0;31m \u001b[0mm_SVGP\u001b[0m\u001b[0;34m,\u001b[0m \u001b[0mtimes_SVGP\u001b[0m\u001b[0;34m,\u001b[0m \u001b[0melbos_SVGP\u001b[0m\u001b[0;34m,\u001b[0m \u001b[0maccuracies_SVGP\u001b[0m \u001b[0;34m=\u001b[0m \u001b[0mtrain_mnist\u001b[0m\u001b[0;34m(\u001b[0m\u001b[0mmodel\u001b[0m\u001b[0;34m=\u001b[0m\u001b[0;34m\"SVGP\"\u001b[0m\u001b[0;34m,\u001b[0m \u001b[0mnum_ind_points\u001b[0m\u001b[0;34m=\u001b[0m\u001b[0;36m500\u001b[0m\u001b[0;34m,\u001b[0m \u001b[0mtrain_ind_points\u001b[0m\u001b[0;34m=\u001b[0m\u001b[0;32mFalse\u001b[0m\u001b[0;34m,\u001b[0m \u001b[0mnum_iterations\u001b[0m\u001b[0;34m=\u001b[0m\u001b[0;36m200\u001b[0m\u001b[0;34m,\u001b[0m \u001b[0mminibatch_size\u001b[0m\u001b[0;34m=\u001b[0m\u001b[0;36m500\u001b[0m\u001b[0;34m)\u001b[0m\u001b[0;34m\u001b[0m\u001b[0;34m\u001b[0m\u001b[0m\n\u001b[0m\u001b[1;32m      2\u001b[0m \u001b[0;34m\u001b[0m\u001b[0m\n\u001b[1;32m      3\u001b[0m \u001b[0;31m#m_SVGP_Z, times_SVGP_Z, elbos_SVGP_Z, accuracies_SVGP_Z = train_mnist(model=\"SVGP\", num_ind_points=500, train_ind_points=True, num_iterations=10000, minibatch_size=500)\u001b[0m\u001b[0;34m\u001b[0m\u001b[0;34m\u001b[0m\u001b[0;34m\u001b[0m\u001b[0m\n",
      "\u001b[0;32m/var/folders/hf/nwz23j_d1dx_8v_yxrw0v_vh0000gn/T/ipykernel_79686/3786952930.py\u001b[0m in \u001b[0;36mtrain_mnist\u001b[0;34m(model, num_ind_points, num_iterations, train_ind_points, learning_rate_adam, minibatch_size)\u001b[0m\n\u001b[1;32m    151\u001b[0m \u001b[0;34m\u001b[0m\u001b[0m\n\u001b[1;32m    152\u001b[0m     \u001b[0;31m#* Optimise\u001b[0m\u001b[0;34m\u001b[0m\u001b[0;34m\u001b[0m\u001b[0;34m\u001b[0m\u001b[0m\n\u001b[0;32m--> 153\u001b[0;31m     \u001b[0mrun_adam\u001b[0m\u001b[0;34m(\u001b[0m\u001b[0mnum_iterations\u001b[0m\u001b[0;34m)\u001b[0m\u001b[0;34m\u001b[0m\u001b[0;34m\u001b[0m\u001b[0m\n\u001b[0m\u001b[1;32m    154\u001b[0m \u001b[0;34m\u001b[0m\u001b[0m\n\u001b[1;32m    155\u001b[0m \u001b[0;34m\u001b[0m\u001b[0m\n",
      "\u001b[0;32m/var/folders/hf/nwz23j_d1dx_8v_yxrw0v_vh0000gn/T/ipykernel_79686/3786952930.py\u001b[0m in \u001b[0;36mrun_adam\u001b[0;34m(iterations)\u001b[0m\n\u001b[1;32m    145\u001b[0m             \u001b[0mfreq\u001b[0m \u001b[0;34m=\u001b[0m \u001b[0miterations\u001b[0m\u001b[0;34m//\u001b[0m\u001b[0mn_logs\u001b[0m\u001b[0;34m\u001b[0m\u001b[0;34m\u001b[0m\u001b[0m\n\u001b[1;32m    146\u001b[0m             \u001b[0;32mif\u001b[0m \u001b[0mi\u001b[0m \u001b[0;34m%\u001b[0m \u001b[0mfreq\u001b[0m \u001b[0;34m==\u001b[0m \u001b[0;36m0\u001b[0m\u001b[0;34m:\u001b[0m  \u001b[0;31m#-- only log every freq iterations\u001b[0m\u001b[0;34m\u001b[0m\u001b[0;34m\u001b[0m\u001b[0m\n\u001b[0;32m--> 147\u001b[0;31m                 \u001b[0mlog_opt\u001b[0m\u001b[0;34m(\u001b[0m\u001b[0;34m)\u001b[0m\u001b[0;34m\u001b[0m\u001b[0;34m\u001b[0m\u001b[0m\n\u001b[0m\u001b[1;32m    148\u001b[0m \u001b[0;34m\u001b[0m\u001b[0m\n\u001b[1;32m    149\u001b[0m     \u001b[0mwatch\u001b[0m\u001b[0;34m.\u001b[0m\u001b[0mstart\u001b[0m\u001b[0;34m(\u001b[0m\u001b[0;34m)\u001b[0m  \u001b[0;31m# --Start the watch\u001b[0m\u001b[0;34m\u001b[0m\u001b[0;34m\u001b[0m\u001b[0m\n",
      "\u001b[0;32m/var/folders/hf/nwz23j_d1dx_8v_yxrw0v_vh0000gn/T/ipykernel_79686/3786952930.py\u001b[0m in \u001b[0;36mlog_opt\u001b[0;34m()\u001b[0m\n\u001b[1;32m    116\u001b[0m             \u001b[0mELBO\u001b[0m \u001b[0;34m=\u001b[0m  \u001b[0mm\u001b[0m\u001b[0;34m.\u001b[0m\u001b[0melbo\u001b[0m\u001b[0;34m(\u001b[0m\u001b[0;34m)\u001b[0m\u001b[0;34m\u001b[0m\u001b[0;34m\u001b[0m\u001b[0m\n\u001b[1;32m    117\u001b[0m         \u001b[0;32melif\u001b[0m \u001b[0mmodel\u001b[0m\u001b[0;34m==\u001b[0m\u001b[0;34m\"SVGP\"\u001b[0m\u001b[0;34m:\u001b[0m\u001b[0;34m\u001b[0m\u001b[0;34m\u001b[0m\u001b[0m\n\u001b[0;32m--> 118\u001b[0;31m             \u001b[0mELBO\u001b[0m \u001b[0;34m=\u001b[0m  \u001b[0mm\u001b[0m\u001b[0;34m.\u001b[0m\u001b[0melbo\u001b[0m\u001b[0;34m(\u001b[0m\u001b[0mdata\u001b[0m\u001b[0;34m)\u001b[0m\u001b[0;34m\u001b[0m\u001b[0;34m\u001b[0m\u001b[0m\n\u001b[0m\u001b[1;32m    119\u001b[0m         \u001b[0melbo_logs\u001b[0m\u001b[0;34m.\u001b[0m\u001b[0mappend\u001b[0m\u001b[0;34m(\u001b[0m\u001b[0mfloat\u001b[0m\u001b[0;34m(\u001b[0m\u001b[0mELBO\u001b[0m\u001b[0;34m)\u001b[0m\u001b[0;34m)\u001b[0m\u001b[0;34m\u001b[0m\u001b[0;34m\u001b[0m\u001b[0m\n\u001b[1;32m    120\u001b[0m         \u001b[0mtimes\u001b[0m\u001b[0;34m.\u001b[0m\u001b[0mappend\u001b[0m\u001b[0;34m(\u001b[0m\u001b[0mwatch\u001b[0m\u001b[0;34m.\u001b[0m\u001b[0mread_time\u001b[0m\u001b[0;34m(\u001b[0m\u001b[0;34m)\u001b[0m\u001b[0;34m)\u001b[0m\u001b[0;34m\u001b[0m\u001b[0;34m\u001b[0m\u001b[0m\n",
      "\u001b[0;32m~/Programming/GPflow/gpflow/models/svgp.py\u001b[0m in \u001b[0;36melbo\u001b[0;34m(self, data)\u001b[0m\n\u001b[1;32m    146\u001b[0m         \u001b[0mX\u001b[0m\u001b[0;34m,\u001b[0m \u001b[0mY\u001b[0m \u001b[0;34m=\u001b[0m \u001b[0mdata\u001b[0m\u001b[0;34m\u001b[0m\u001b[0;34m\u001b[0m\u001b[0m\n\u001b[1;32m    147\u001b[0m         \u001b[0mkl\u001b[0m \u001b[0;34m=\u001b[0m \u001b[0mself\u001b[0m\u001b[0;34m.\u001b[0m\u001b[0mprior_kl\u001b[0m\u001b[0;34m(\u001b[0m\u001b[0;34m)\u001b[0m\u001b[0;34m\u001b[0m\u001b[0;34m\u001b[0m\u001b[0m\n\u001b[0;32m--> 148\u001b[0;31m         \u001b[0mf_mean\u001b[0m\u001b[0;34m,\u001b[0m \u001b[0mf_var\u001b[0m \u001b[0;34m=\u001b[0m \u001b[0mself\u001b[0m\u001b[0;34m.\u001b[0m\u001b[0mpredict_f\u001b[0m\u001b[0;34m(\u001b[0m\u001b[0mX\u001b[0m\u001b[0;34m,\u001b[0m \u001b[0mfull_cov\u001b[0m\u001b[0;34m=\u001b[0m\u001b[0;32mFalse\u001b[0m\u001b[0;34m,\u001b[0m \u001b[0mfull_output_cov\u001b[0m\u001b[0;34m=\u001b[0m\u001b[0;32mFalse\u001b[0m\u001b[0;34m)\u001b[0m\u001b[0;34m\u001b[0m\u001b[0;34m\u001b[0m\u001b[0m\n\u001b[0m\u001b[1;32m    149\u001b[0m         \u001b[0mvar_exp\u001b[0m \u001b[0;34m=\u001b[0m \u001b[0mself\u001b[0m\u001b[0;34m.\u001b[0m\u001b[0mlikelihood\u001b[0m\u001b[0;34m.\u001b[0m\u001b[0mvariational_expectations\u001b[0m\u001b[0;34m(\u001b[0m\u001b[0mf_mean\u001b[0m\u001b[0;34m,\u001b[0m \u001b[0mf_var\u001b[0m\u001b[0;34m,\u001b[0m \u001b[0mY\u001b[0m\u001b[0;34m)\u001b[0m\u001b[0;34m\u001b[0m\u001b[0;34m\u001b[0m\u001b[0m\n\u001b[1;32m    150\u001b[0m         \u001b[0;32mif\u001b[0m \u001b[0mself\u001b[0m\u001b[0;34m.\u001b[0m\u001b[0mnum_data\u001b[0m \u001b[0;32mis\u001b[0m \u001b[0;32mnot\u001b[0m \u001b[0;32mNone\u001b[0m\u001b[0;34m:\u001b[0m\u001b[0;34m\u001b[0m\u001b[0;34m\u001b[0m\u001b[0m\n",
      "\u001b[0;32m~/Programming/GPflow/gpflow/models/svgp.py\u001b[0m in \u001b[0;36mpredict_f\u001b[0;34m(self, Xnew, full_cov, full_output_cov)\u001b[0m\n\u001b[1;32m    226\u001b[0m             \u001b[0mmodel\u001b[0m\u001b[0;34m.\u001b[0m\u001b[0mposterior\u001b[0m\u001b[0;34m(\u001b[0m\u001b[0;34m)\u001b[0m\u001b[0;34m.\u001b[0m\u001b[0mpredict_f\u001b[0m\u001b[0;34m(\u001b[0m\u001b[0mXnew\u001b[0m\u001b[0;34m,\u001b[0m \u001b[0;34m...\u001b[0m\u001b[0;34m)\u001b[0m\u001b[0;34m\u001b[0m\u001b[0;34m\u001b[0m\u001b[0m\n\u001b[1;32m    227\u001b[0m         \"\"\"\n\u001b[0;32m--> 228\u001b[0;31m         return self.posterior(posteriors.PrecomputeCacheType.NOCACHE).fused_predict_f(\n\u001b[0m\u001b[1;32m    229\u001b[0m             \u001b[0mXnew\u001b[0m\u001b[0;34m,\u001b[0m \u001b[0mfull_cov\u001b[0m\u001b[0;34m=\u001b[0m\u001b[0mfull_cov\u001b[0m\u001b[0;34m,\u001b[0m \u001b[0mfull_output_cov\u001b[0m\u001b[0;34m=\u001b[0m\u001b[0mfull_output_cov\u001b[0m\u001b[0;34m\u001b[0m\u001b[0;34m\u001b[0m\u001b[0m\n\u001b[1;32m    230\u001b[0m         )\n",
      "\u001b[0;32m~/Programming/GPflow/gpflow/posteriors.py\u001b[0m in \u001b[0;36mfused_predict_f\u001b[0;34m(self, Xnew, full_cov, full_output_cov)\u001b[0m\n\u001b[1;32m    143\u001b[0m         \u001b[0mDoes\u001b[0m \u001b[0;32mnot\u001b[0m \u001b[0mmake\u001b[0m \u001b[0muse\u001b[0m \u001b[0mof\u001b[0m \u001b[0mcaching\u001b[0m\u001b[0;34m\u001b[0m\u001b[0;34m\u001b[0m\u001b[0m\n\u001b[1;32m    144\u001b[0m         \"\"\"\n\u001b[0;32m--> 145\u001b[0;31m         mean, cov = self._conditional_fused(\n\u001b[0m\u001b[1;32m    146\u001b[0m             \u001b[0mXnew\u001b[0m\u001b[0;34m,\u001b[0m \u001b[0mfull_cov\u001b[0m\u001b[0;34m=\u001b[0m\u001b[0mfull_cov\u001b[0m\u001b[0;34m,\u001b[0m \u001b[0mfull_output_cov\u001b[0m\u001b[0;34m=\u001b[0m\u001b[0mfull_output_cov\u001b[0m\u001b[0;34m\u001b[0m\u001b[0;34m\u001b[0m\u001b[0m\n\u001b[1;32m    147\u001b[0m         )\n",
      "\u001b[0;32m~/Programming/GPflow/gpflow/posteriors.py\u001b[0m in \u001b[0;36m_conditional_fused\u001b[0;34m(self, Xnew, full_cov, full_output_cov)\u001b[0m\n\u001b[1;32m    604\u001b[0m         \u001b[0mKmn\u001b[0m \u001b[0;34m=\u001b[0m \u001b[0mcovariances\u001b[0m\u001b[0;34m.\u001b[0m\u001b[0mKuf\u001b[0m\u001b[0;34m(\u001b[0m\u001b[0mself\u001b[0m\u001b[0;34m.\u001b[0m\u001b[0mX_data\u001b[0m\u001b[0;34m,\u001b[0m \u001b[0mself\u001b[0m\u001b[0;34m.\u001b[0m\u001b[0mkernel\u001b[0m\u001b[0;34m,\u001b[0m \u001b[0mXnew\u001b[0m\u001b[0;34m)\u001b[0m  \u001b[0;31m# [M, N]\u001b[0m\u001b[0;34m\u001b[0m\u001b[0;34m\u001b[0m\u001b[0m\n\u001b[1;32m    605\u001b[0m \u001b[0;34m\u001b[0m\u001b[0m\n\u001b[0;32m--> 606\u001b[0;31m         fmean, fvar = base_conditional(\n\u001b[0m\u001b[1;32m    607\u001b[0m             \u001b[0mKmn\u001b[0m\u001b[0;34m,\u001b[0m \u001b[0mKmm\u001b[0m\u001b[0;34m,\u001b[0m \u001b[0mKnn\u001b[0m\u001b[0;34m,\u001b[0m \u001b[0mself\u001b[0m\u001b[0;34m.\u001b[0m\u001b[0mq_mu\u001b[0m\u001b[0;34m,\u001b[0m \u001b[0mfull_cov\u001b[0m\u001b[0;34m=\u001b[0m\u001b[0mfull_cov\u001b[0m\u001b[0;34m,\u001b[0m \u001b[0mq_sqrt\u001b[0m\u001b[0;34m=\u001b[0m\u001b[0mself\u001b[0m\u001b[0;34m.\u001b[0m\u001b[0mq_sqrt\u001b[0m\u001b[0;34m,\u001b[0m \u001b[0mwhite\u001b[0m\u001b[0;34m=\u001b[0m\u001b[0mself\u001b[0m\u001b[0;34m.\u001b[0m\u001b[0mwhiten\u001b[0m\u001b[0;34m\u001b[0m\u001b[0;34m\u001b[0m\u001b[0m\n\u001b[1;32m    608\u001b[0m         )  # [N, P],  [P, N, N] or [N, P]\n",
      "\u001b[0;32m~/Programming/GPflow/gpflow/conditionals/util.py\u001b[0m in \u001b[0;36mbase_conditional\u001b[0;34m(Kmn, Kmm, Knn, f, full_cov, q_sqrt, white)\u001b[0m\n\u001b[1;32m     55\u001b[0m     \"\"\"\n\u001b[1;32m     56\u001b[0m     \u001b[0mLm\u001b[0m \u001b[0;34m=\u001b[0m \u001b[0mtf\u001b[0m\u001b[0;34m.\u001b[0m\u001b[0mlinalg\u001b[0m\u001b[0;34m.\u001b[0m\u001b[0mcholesky\u001b[0m\u001b[0;34m(\u001b[0m\u001b[0mKmm\u001b[0m\u001b[0;34m)\u001b[0m\u001b[0;34m\u001b[0m\u001b[0;34m\u001b[0m\u001b[0m\n\u001b[0;32m---> 57\u001b[0;31m     return base_conditional_with_lm(\n\u001b[0m\u001b[1;32m     58\u001b[0m         \u001b[0mKmn\u001b[0m\u001b[0;34m=\u001b[0m\u001b[0mKmn\u001b[0m\u001b[0;34m,\u001b[0m \u001b[0mLm\u001b[0m\u001b[0;34m=\u001b[0m\u001b[0mLm\u001b[0m\u001b[0;34m,\u001b[0m \u001b[0mKnn\u001b[0m\u001b[0;34m=\u001b[0m\u001b[0mKnn\u001b[0m\u001b[0;34m,\u001b[0m \u001b[0mf\u001b[0m\u001b[0;34m=\u001b[0m\u001b[0mf\u001b[0m\u001b[0;34m,\u001b[0m \u001b[0mfull_cov\u001b[0m\u001b[0;34m=\u001b[0m\u001b[0mfull_cov\u001b[0m\u001b[0;34m,\u001b[0m \u001b[0mq_sqrt\u001b[0m\u001b[0;34m=\u001b[0m\u001b[0mq_sqrt\u001b[0m\u001b[0;34m,\u001b[0m \u001b[0mwhite\u001b[0m\u001b[0;34m=\u001b[0m\u001b[0mwhite\u001b[0m\u001b[0;34m\u001b[0m\u001b[0;34m\u001b[0m\u001b[0m\n\u001b[1;32m     59\u001b[0m     )\n",
      "\u001b[0;32m~/Programming/GPflow/gpflow/conditionals/util.py\u001b[0m in \u001b[0;36mbase_conditional_with_lm\u001b[0;34m(Kmn, Lm, Knn, f, full_cov, q_sqrt, white)\u001b[0m\n\u001b[1;32m    116\u001b[0m     \u001b[0;31m# Compute the projection matrix A\u001b[0m\u001b[0;34m\u001b[0m\u001b[0;34m\u001b[0m\u001b[0;34m\u001b[0m\u001b[0m\n\u001b[1;32m    117\u001b[0m     \u001b[0mLm\u001b[0m \u001b[0;34m=\u001b[0m \u001b[0mtf\u001b[0m\u001b[0;34m.\u001b[0m\u001b[0mbroadcast_to\u001b[0m\u001b[0;34m(\u001b[0m\u001b[0mLm\u001b[0m\u001b[0;34m,\u001b[0m \u001b[0mtf\u001b[0m\u001b[0;34m.\u001b[0m\u001b[0mconcat\u001b[0m\u001b[0;34m(\u001b[0m\u001b[0;34m[\u001b[0m\u001b[0mleading_dims\u001b[0m\u001b[0;34m,\u001b[0m \u001b[0mtf\u001b[0m\u001b[0;34m.\u001b[0m\u001b[0mshape\u001b[0m\u001b[0;34m(\u001b[0m\u001b[0mLm\u001b[0m\u001b[0;34m)\u001b[0m\u001b[0;34m]\u001b[0m\u001b[0;34m,\u001b[0m \u001b[0;36m0\u001b[0m\u001b[0;34m)\u001b[0m\u001b[0;34m)\u001b[0m  \u001b[0;31m# [..., M, M]\u001b[0m\u001b[0;34m\u001b[0m\u001b[0;34m\u001b[0m\u001b[0m\n\u001b[0;32m--> 118\u001b[0;31m     \u001b[0mA\u001b[0m \u001b[0;34m=\u001b[0m \u001b[0mtf\u001b[0m\u001b[0;34m.\u001b[0m\u001b[0mlinalg\u001b[0m\u001b[0;34m.\u001b[0m\u001b[0mtriangular_solve\u001b[0m\u001b[0;34m(\u001b[0m\u001b[0mLm\u001b[0m\u001b[0;34m,\u001b[0m \u001b[0mKmn\u001b[0m\u001b[0;34m,\u001b[0m \u001b[0mlower\u001b[0m\u001b[0;34m=\u001b[0m\u001b[0;32mTrue\u001b[0m\u001b[0;34m)\u001b[0m  \u001b[0;31m# [..., M, N]\u001b[0m\u001b[0;34m\u001b[0m\u001b[0;34m\u001b[0m\u001b[0m\n\u001b[0m\u001b[1;32m    119\u001b[0m \u001b[0;34m\u001b[0m\u001b[0m\n\u001b[1;32m    120\u001b[0m     \u001b[0;31m# compute the covariance due to the conditioning\u001b[0m\u001b[0;34m\u001b[0m\u001b[0;34m\u001b[0m\u001b[0;34m\u001b[0m\u001b[0m\n",
      "\u001b[0;32m~/opt/anaconda3/lib/python3.8/site-packages/tensorflow/python/util/dispatch.py\u001b[0m in \u001b[0;36mwrapper\u001b[0;34m(*args, **kwargs)\u001b[0m\n\u001b[1;32m    204\u001b[0m     \u001b[0;34m\"\"\"Call target, and fall back on dispatchers if there is a TypeError.\"\"\"\u001b[0m\u001b[0;34m\u001b[0m\u001b[0;34m\u001b[0m\u001b[0m\n\u001b[1;32m    205\u001b[0m     \u001b[0;32mtry\u001b[0m\u001b[0;34m:\u001b[0m\u001b[0;34m\u001b[0m\u001b[0;34m\u001b[0m\u001b[0m\n\u001b[0;32m--> 206\u001b[0;31m       \u001b[0;32mreturn\u001b[0m \u001b[0mtarget\u001b[0m\u001b[0;34m(\u001b[0m\u001b[0;34m*\u001b[0m\u001b[0margs\u001b[0m\u001b[0;34m,\u001b[0m \u001b[0;34m**\u001b[0m\u001b[0mkwargs\u001b[0m\u001b[0;34m)\u001b[0m\u001b[0;34m\u001b[0m\u001b[0;34m\u001b[0m\u001b[0m\n\u001b[0m\u001b[1;32m    207\u001b[0m     \u001b[0;32mexcept\u001b[0m \u001b[0;34m(\u001b[0m\u001b[0mTypeError\u001b[0m\u001b[0;34m,\u001b[0m \u001b[0mValueError\u001b[0m\u001b[0;34m)\u001b[0m\u001b[0;34m:\u001b[0m\u001b[0;34m\u001b[0m\u001b[0;34m\u001b[0m\u001b[0m\n\u001b[1;32m    208\u001b[0m       \u001b[0;31m# Note: convert_to_eager_tensor currently raises a ValueError, not a\u001b[0m\u001b[0;34m\u001b[0m\u001b[0;34m\u001b[0m\u001b[0;34m\u001b[0m\u001b[0m\n",
      "\u001b[0;32m~/opt/anaconda3/lib/python3.8/site-packages/tensorflow/python/ops/linalg_ops.py\u001b[0m in \u001b[0;36mmatrix_triangular_solve\u001b[0;34m(matrix, rhs, lower, adjoint, name)\u001b[0m\n\u001b[1;32m    141\u001b[0m   \"\"\"\n\u001b[1;32m    142\u001b[0m   \u001b[0;32mwith\u001b[0m \u001b[0mops\u001b[0m\u001b[0;34m.\u001b[0m\u001b[0mname_scope\u001b[0m\u001b[0;34m(\u001b[0m\u001b[0mname\u001b[0m\u001b[0;34m,\u001b[0m \u001b[0;34m'triangular_solve'\u001b[0m\u001b[0;34m,\u001b[0m \u001b[0;34m[\u001b[0m\u001b[0mmatrix\u001b[0m\u001b[0;34m,\u001b[0m \u001b[0mrhs\u001b[0m\u001b[0;34m]\u001b[0m\u001b[0;34m)\u001b[0m\u001b[0;34m:\u001b[0m\u001b[0;34m\u001b[0m\u001b[0;34m\u001b[0m\u001b[0m\n\u001b[0;32m--> 143\u001b[0;31m     return gen_linalg_ops.matrix_triangular_solve(\n\u001b[0m\u001b[1;32m    144\u001b[0m         matrix, rhs, lower=lower, adjoint=adjoint)\n\u001b[1;32m    145\u001b[0m \u001b[0;34m\u001b[0m\u001b[0m\n",
      "\u001b[0;32m~/opt/anaconda3/lib/python3.8/site-packages/tensorflow/python/ops/gen_linalg_ops.py\u001b[0m in \u001b[0;36mmatrix_triangular_solve\u001b[0;34m(matrix, rhs, lower, adjoint, name)\u001b[0m\n\u001b[1;32m   1965\u001b[0m   \u001b[0;32mif\u001b[0m \u001b[0mtld\u001b[0m\u001b[0;34m.\u001b[0m\u001b[0mis_eager\u001b[0m\u001b[0;34m:\u001b[0m\u001b[0;34m\u001b[0m\u001b[0;34m\u001b[0m\u001b[0m\n\u001b[1;32m   1966\u001b[0m     \u001b[0;32mtry\u001b[0m\u001b[0;34m:\u001b[0m\u001b[0;34m\u001b[0m\u001b[0;34m\u001b[0m\u001b[0m\n\u001b[0;32m-> 1967\u001b[0;31m       _result = pywrap_tfe.TFE_Py_FastPathExecute(\n\u001b[0m\u001b[1;32m   1968\u001b[0m         \u001b[0m_ctx\u001b[0m\u001b[0;34m,\u001b[0m \u001b[0;34m\"MatrixTriangularSolve\"\u001b[0m\u001b[0;34m,\u001b[0m \u001b[0mname\u001b[0m\u001b[0;34m,\u001b[0m \u001b[0mmatrix\u001b[0m\u001b[0;34m,\u001b[0m \u001b[0mrhs\u001b[0m\u001b[0;34m,\u001b[0m \u001b[0;34m\"lower\"\u001b[0m\u001b[0;34m,\u001b[0m \u001b[0mlower\u001b[0m\u001b[0;34m,\u001b[0m\u001b[0;34m\u001b[0m\u001b[0;34m\u001b[0m\u001b[0m\n\u001b[1;32m   1969\u001b[0m         \"adjoint\", adjoint)\n",
      "\u001b[0;31mKeyboardInterrupt\u001b[0m: "
     ]
    }
   ],
   "source": [
    "m_SVGP, times_SVGP, elbos_SVGP, accuracies_SVGP = train_mnist(model=\"SVGP\", num_ind_points=500, train_ind_points=False, num_iterations=200, minibatch_size=500)\n",
    "\n",
    "#m_SVGP_Z, times_SVGP_Z, elbos_SVGP_Z, accuracies_SVGP_Z = train_mnist(model=\"SVGP\", num_ind_points=500, train_ind_points=True, num_iterations=10000, minibatch_size=500)"
   ]
  },
  {
   "cell_type": "code",
   "execution_count": 14,
   "metadata": {},
   "outputs": [
    {
     "name": "stdout",
     "output_type": "stream",
     "text": [
      "0.9079\n"
     ]
    }
   ],
   "source": [
    "y_pred, var = m_SVGP.predict_y(x_test)\n",
    "y_pred_labels = np.argmax(y_pred, axis=1).reshape(-1, 1)\n",
    "print(accuracy_score(y_test, y_pred_labels))"
   ]
  },
  {
   "cell_type": "code",
   "execution_count": 17,
   "metadata": {},
   "outputs": [
    {
     "name": "stdout",
     "output_type": "stream",
     "text": [
      "[[7 2 1 0 4 1 4 9 6 9 0 6 9 0 1 5 9 7 3 4]]\n"
     ]
    }
   ],
   "source": [
    "print(y_pred_labels[:20].reshape(1,-1))"
   ]
  },
  {
   "cell_type": "code",
   "execution_count": 11,
   "metadata": {},
   "outputs": [
    {
     "ename": "NameError",
     "evalue": "name 'times' is not defined",
     "output_type": "error",
     "traceback": [
      "\u001b[0;31m---------------------------------------------------------------------------\u001b[0m",
      "\u001b[0;31mNameError\u001b[0m                                 Traceback (most recent call last)",
      "\u001b[0;32m/var/folders/hf/nwz23j_d1dx_8v_yxrw0v_vh0000gn/T/ipykernel_68597/3100128674.py\u001b[0m in \u001b[0;36m<module>\u001b[0;34m\u001b[0m\n\u001b[1;32m      2\u001b[0m \u001b[0mplt\u001b[0m\u001b[0;34m.\u001b[0m\u001b[0mfigure\u001b[0m\u001b[0;34m(\u001b[0m\u001b[0;34m)\u001b[0m\u001b[0;34m\u001b[0m\u001b[0;34m\u001b[0m\u001b[0m\n\u001b[1;32m      3\u001b[0m \u001b[0mplt\u001b[0m\u001b[0;34m.\u001b[0m\u001b[0mtitle\u001b[0m\u001b[0;34m(\u001b[0m\u001b[0;34m\"Sparse GP models with 500 inducing points\"\u001b[0m\u001b[0;34m)\u001b[0m\u001b[0;34m\u001b[0m\u001b[0;34m\u001b[0m\u001b[0m\n\u001b[0;32m----> 4\u001b[0;31m \u001b[0mplt\u001b[0m\u001b[0;34m.\u001b[0m\u001b[0mplot\u001b[0m\u001b[0;34m(\u001b[0m\u001b[0mtimes\u001b[0m\u001b[0;34m,\u001b[0m \u001b[0melbos\u001b[0m\u001b[0;34m,\u001b[0m \u001b[0mlabel\u001b[0m\u001b[0;34m=\u001b[0m\u001b[0;34m\"SGPR without inducing point training\"\u001b[0m\u001b[0;34m)\u001b[0m\u001b[0;34m\u001b[0m\u001b[0;34m\u001b[0m\u001b[0m\n\u001b[0m\u001b[1;32m      5\u001b[0m \u001b[0mplt\u001b[0m\u001b[0;34m.\u001b[0m\u001b[0mplot\u001b[0m\u001b[0;34m(\u001b[0m\u001b[0mtimes\u001b[0m\u001b[0;34m,\u001b[0m \u001b[0melbos_Z\u001b[0m\u001b[0;34m,\u001b[0m \u001b[0mlabel\u001b[0m\u001b[0;34m=\u001b[0m\u001b[0;34m\"SGPR with inducing point training\"\u001b[0m\u001b[0;34m)\u001b[0m\u001b[0;34m\u001b[0m\u001b[0;34m\u001b[0m\u001b[0m\n\u001b[1;32m      6\u001b[0m \u001b[0mplt\u001b[0m\u001b[0;34m.\u001b[0m\u001b[0mplot\u001b[0m\u001b[0;34m(\u001b[0m\u001b[0mtimes_SVGP\u001b[0m\u001b[0;34m,\u001b[0m \u001b[0melbos_SVGP\u001b[0m\u001b[0;34m,\u001b[0m \u001b[0mlabel\u001b[0m\u001b[0;34m=\u001b[0m\u001b[0;34m\"SVGP without inducing point training (mb size=500)\"\u001b[0m\u001b[0;34m)\u001b[0m\u001b[0;34m\u001b[0m\u001b[0;34m\u001b[0m\u001b[0m\n",
      "\u001b[0;31mNameError\u001b[0m: name 'times' is not defined"
     ]
    },
    {
     "data": {
      "image/png": "[encoded data removed]",
      "text/plain": [
       "<Figure size 432x288 with 1 Axes>"
      ]
     },
     "metadata": {
      "needs_background": "light"
     },
     "output_type": "display_data"
    }
   ],
   "source": [
    "# print(logs)\n",
    "plt.figure()\n",
    "plt.title(\"Sparse GP models with 500 inducing points\")\n",
    "plt.plot(times, elbos, label=\"SGPR without inducing point training\")\n",
    "plt.plot(times, elbos_Z, label=\"SGPR with inducing point training\")\n",
    "plt.plot(times_SVGP, elbos_SVGP, label=\"SVGP without inducing point training (mb size=500)\")\n",
    "#plt.plot(times_SVGP_Z, elbos_SVGP_Z, label=\"SVGP with inducing point training\")\n",
    "plt.xlabel(\"Time /s\")\n",
    "plt.ylabel(\"ELBO\")\n",
    "plt.legend()\n",
    "plt.grid(True, alpha=0.2)\n",
    "plt.show()\n",
    "\n",
    "plt.figure()\n",
    "plt.title(\"Sparse GP models with 500 inducing points\")\n",
    "plt.plot(times, accuracies, label=\"Without inducing point training\")\n",
    "plt.plot(times, accuracies_Z, label=\"With inducing point training\")\n",
    "plt.plot(times_SVGP, accuracies_SVGP, label=\"SVGP without inducing point training (mb size=500)\")\n",
    "#plt.plot(times_SVGP_Z, accuracies_SVGP_Z, label=\"SVGP with inducing point training\")\n",
    "plt.xlabel(\"Time /s\")\n",
    "plt.ylabel(\"Accuracy Score\")\n",
    "plt.legend()\n",
    "plt.grid(True, \"both\", alpha=0.2)\n",
    "plt.show()"
   ]
  },
  {
   "cell_type": "code",
   "execution_count": 150,
   "metadata": {},
   "outputs": [
    {
     "data": {
      "text/html": [
       "<div>\n",
       "<style scoped>\n",
       "    .dataframe tbody tr th:only-of-type {\n",
       "        vertical-align: middle;\n",
       "    }\n",
       "\n",
       "    .dataframe tbody tr th {\n",
       "        vertical-align: top;\n",
       "    }\n",
       "\n",
       "    .dataframe thead th {\n",
       "        text-align: right;\n",
       "    }\n",
       "</style>\n",
       "<table border=\"1\" class=\"dataframe\">\n",
       "  <thead>\n",
       "    <tr style=\"text-align: right;\">\n",
       "      <th></th>\n",
       "      <th>Model</th>\n",
       "      <th>M</th>\n",
       "      <th>Train Z</th>\n",
       "      <th>Adam learning rate</th>\n",
       "      <th>minibatch size</th>\n",
       "      <th>iterations</th>\n",
       "      <th>time logs</th>\n",
       "      <th>ELBo logs</th>\n",
       "      <th>accuracy logs</th>\n",
       "      <th>final hyperparams</th>\n",
       "    </tr>\n",
       "  </thead>\n",
       "  <tbody>\n",
       "  </tbody>\n",
       "</table>\n",
       "</div>"
      ],
      "text/plain": [
       "Empty DataFrame\n",
       "Columns: [Model, M, Train Z, Adam learning rate, minibatch size, iterations, time logs, ELBo logs, accuracy logs, final hyperparams]\n",
       "Index: []"
      ]
     },
     "execution_count": 150,
     "metadata": {},
     "output_type": "execute_result"
    }
   ],
   "source": [
    "col_names =  [\n",
    "    \"Model\",\n",
    "    \"M\",\n",
    "    \"Train Z\",\n",
    "    \"Adam learning rate\",\n",
    "    \"minibatch size\",\n",
    "    \"iterations\",\n",
    "    \"time logs\",\n",
    "    \"ELBo logs\",\n",
    "    \"accuracy logs\",\n",
    "    \"final hyperparams\"\n",
    "    ]\n",
    "  \n",
    "# create an empty dataframe\n",
    "# with columns\n",
    "my_df  = pd.DataFrame(columns = col_names)\n",
    "  \n",
    "# show the dataframe\n",
    "my_df"
   ]
  },
  {
   "cell_type": "code",
   "execution_count": 28,
   "metadata": {},
   "outputs": [
    {
     "ename": "NameError",
     "evalue": "name 'times_Z' is not defined",
     "output_type": "error",
     "traceback": [
      "\u001b[0;31m---------------------------------------------------------------------------\u001b[0m",
      "\u001b[0;31mNameError\u001b[0m                                 Traceback (most recent call last)",
      "\u001b[0;32m/var/folders/hf/nwz23j_d1dx_8v_yxrw0v_vh0000gn/T/ipykernel_68597/1511816795.py\u001b[0m in \u001b[0;36m<module>\u001b[0;34m\u001b[0m\n\u001b[0;32m----> 1\u001b[0;31m \u001b[0mmy_df\u001b[0m\u001b[0;34m.\u001b[0m\u001b[0mloc\u001b[0m\u001b[0;34m[\u001b[0m\u001b[0mlen\u001b[0m\u001b[0;34m(\u001b[0m\u001b[0mmy_df\u001b[0m\u001b[0;34m.\u001b[0m\u001b[0mindex\u001b[0m\u001b[0;34m)\u001b[0m\u001b[0;34m]\u001b[0m \u001b[0;34m=\u001b[0m \u001b[0;34m(\u001b[0m\u001b[0;34m\"SGPR\"\u001b[0m\u001b[0;34m,\u001b[0m \u001b[0;36m500\u001b[0m\u001b[0;34m,\u001b[0m \u001b[0;32mTrue\u001b[0m\u001b[0;34m,\u001b[0m \u001b[0;36m0.1\u001b[0m\u001b[0;34m,\u001b[0m \u001b[0;32mNone\u001b[0m\u001b[0;34m,\u001b[0m \u001b[0;36m200\u001b[0m\u001b[0;34m,\u001b[0m \u001b[0mtimes_Z\u001b[0m\u001b[0;34m,\u001b[0m \u001b[0melbos_Z\u001b[0m\u001b[0;34m,\u001b[0m \u001b[0maccuracies_Z\u001b[0m\u001b[0;34m,\u001b[0m \u001b[0;34m{\u001b[0m\u001b[0;34m\"kernel variance\"\u001b[0m\u001b[0;34m:\u001b[0m \u001b[0mm_SGPR_Z\u001b[0m\u001b[0;34m.\u001b[0m\u001b[0mkernel\u001b[0m\u001b[0;34m.\u001b[0m\u001b[0mvariance\u001b[0m\u001b[0;34m.\u001b[0m\u001b[0mnumpy\u001b[0m\u001b[0;34m(\u001b[0m\u001b[0;34m)\u001b[0m\u001b[0;34m,\u001b[0m \u001b[0;34m\"kernel lengthscale\"\u001b[0m\u001b[0;34m:\u001b[0m \u001b[0mm_SGPR_Z\u001b[0m\u001b[0;34m.\u001b[0m\u001b[0mkernel\u001b[0m\u001b[0;34m.\u001b[0m\u001b[0mlengthscales\u001b[0m\u001b[0;34m.\u001b[0m\u001b[0mnumpy\u001b[0m\u001b[0;34m(\u001b[0m\u001b[0;34m)\u001b[0m\u001b[0;34m,\u001b[0m \u001b[0;34m\"likelihood variance\"\u001b[0m\u001b[0;34m:\u001b[0m \u001b[0mm_SGPR_Z\u001b[0m\u001b[0;34m.\u001b[0m\u001b[0mlikelihood\u001b[0m\u001b[0;34m.\u001b[0m\u001b[0mvariance\u001b[0m\u001b[0;34m.\u001b[0m\u001b[0mnumpy\u001b[0m\u001b[0;34m(\u001b[0m\u001b[0;34m)\u001b[0m\u001b[0;34m}\u001b[0m\u001b[0;34m)\u001b[0m\u001b[0;34m\u001b[0m\u001b[0;34m\u001b[0m\u001b[0m\n\u001b[0m\u001b[1;32m      2\u001b[0m \u001b[0;34m\u001b[0m\u001b[0m\n\u001b[1;32m      3\u001b[0m \u001b[0mmy_df\u001b[0m\u001b[0;34m.\u001b[0m\u001b[0mloc\u001b[0m\u001b[0;34m[\u001b[0m\u001b[0mlen\u001b[0m\u001b[0;34m(\u001b[0m\u001b[0mmy_df\u001b[0m\u001b[0;34m.\u001b[0m\u001b[0mindex\u001b[0m\u001b[0;34m)\u001b[0m\u001b[0;34m]\u001b[0m \u001b[0;34m=\u001b[0m \u001b[0;34m(\u001b[0m\u001b[0;34m\"SGPR\"\u001b[0m\u001b[0;34m,\u001b[0m \u001b[0;36m500\u001b[0m\u001b[0;34m,\u001b[0m \u001b[0;32mFalse\u001b[0m\u001b[0;34m,\u001b[0m \u001b[0;36m0.1\u001b[0m\u001b[0;34m,\u001b[0m \u001b[0;32mNone\u001b[0m\u001b[0;34m,\u001b[0m \u001b[0;36m200\u001b[0m\u001b[0;34m,\u001b[0m \u001b[0mtimes\u001b[0m\u001b[0;34m,\u001b[0m \u001b[0melbos\u001b[0m\u001b[0;34m,\u001b[0m \u001b[0maccuracies\u001b[0m\u001b[0;34m,\u001b[0m \u001b[0;34m{\u001b[0m\u001b[0;34m\"kernel variance\"\u001b[0m\u001b[0;34m:\u001b[0m \u001b[0mm_SGPR\u001b[0m\u001b[0;34m.\u001b[0m\u001b[0mkernel\u001b[0m\u001b[0;34m.\u001b[0m\u001b[0mvariance\u001b[0m\u001b[0;34m.\u001b[0m\u001b[0mnumpy\u001b[0m\u001b[0;34m(\u001b[0m\u001b[0;34m)\u001b[0m\u001b[0;34m,\u001b[0m \u001b[0;34m\"kernel lengthscale\"\u001b[0m\u001b[0;34m:\u001b[0m \u001b[0mm_SGPR\u001b[0m\u001b[0;34m.\u001b[0m\u001b[0mkernel\u001b[0m\u001b[0;34m.\u001b[0m\u001b[0mlengthscales\u001b[0m\u001b[0;34m.\u001b[0m\u001b[0mnumpy\u001b[0m\u001b[0;34m(\u001b[0m\u001b[0;34m)\u001b[0m\u001b[0;34m,\u001b[0m \u001b[0;34m\"likelihood variance\"\u001b[0m\u001b[0;34m:\u001b[0m \u001b[0mm_SGPR\u001b[0m\u001b[0;34m.\u001b[0m\u001b[0mlikelihood\u001b[0m\u001b[0;34m.\u001b[0m\u001b[0mvariance\u001b[0m\u001b[0;34m.\u001b[0m\u001b[0mnumpy\u001b[0m\u001b[0;34m(\u001b[0m\u001b[0;34m)\u001b[0m\u001b[0;34m}\u001b[0m\u001b[0;34m)\u001b[0m\u001b[0;34m\u001b[0m\u001b[0;34m\u001b[0m\u001b[0m\n\u001b[1;32m      4\u001b[0m \u001b[0;34m\u001b[0m\u001b[0m\n\u001b[1;32m      5\u001b[0m \u001b[0mmy_df\u001b[0m\u001b[0;34m.\u001b[0m\u001b[0mloc\u001b[0m\u001b[0;34m[\u001b[0m\u001b[0mlen\u001b[0m\u001b[0;34m(\u001b[0m\u001b[0mmy_df\u001b[0m\u001b[0;34m.\u001b[0m\u001b[0mindex\u001b[0m\u001b[0;34m)\u001b[0m\u001b[0;34m]\u001b[0m \u001b[0;34m=\u001b[0m \u001b[0;34m(\u001b[0m\u001b[0;34m\"SVGP\"\u001b[0m\u001b[0;34m,\u001b[0m \u001b[0;36m500\u001b[0m\u001b[0;34m,\u001b[0m \u001b[0;32mFalse\u001b[0m\u001b[0;34m,\u001b[0m \u001b[0;36m0.1\u001b[0m\u001b[0;34m,\u001b[0m \u001b[0;36m500\u001b[0m\u001b[0;34m,\u001b[0m \u001b[0;36m10000\u001b[0m\u001b[0;34m,\u001b[0m \u001b[0mtimes_SVGP\u001b[0m\u001b[0;34m,\u001b[0m \u001b[0melbos_SVGP\u001b[0m\u001b[0;34m,\u001b[0m \u001b[0maccuracies_SVGP\u001b[0m\u001b[0;34m,\u001b[0m \u001b[0;34m{\u001b[0m\u001b[0;34m\"kernel variance\"\u001b[0m\u001b[0;34m:\u001b[0m \u001b[0mm_SVGP\u001b[0m\u001b[0;34m.\u001b[0m\u001b[0mkernel\u001b[0m\u001b[0;34m.\u001b[0m\u001b[0mvariance\u001b[0m\u001b[0;34m.\u001b[0m\u001b[0mnumpy\u001b[0m\u001b[0;34m(\u001b[0m\u001b[0;34m)\u001b[0m\u001b[0;34m,\u001b[0m \u001b[0;34m\"kernel lengthscale\"\u001b[0m\u001b[0;34m:\u001b[0m \u001b[0mm_SVGP\u001b[0m\u001b[0;34m.\u001b[0m\u001b[0mkernel\u001b[0m\u001b[0;34m.\u001b[0m\u001b[0mlengthscales\u001b[0m\u001b[0;34m.\u001b[0m\u001b[0mnumpy\u001b[0m\u001b[0;34m(\u001b[0m\u001b[0;34m)\u001b[0m\u001b[0;34m,\u001b[0m \u001b[0;34m\"likelihood variance\"\u001b[0m\u001b[0;34m:\u001b[0m \u001b[0mm_SVGP\u001b[0m\u001b[0;34m.\u001b[0m\u001b[0mlikelihood\u001b[0m\u001b[0;34m.\u001b[0m\u001b[0minvlink\u001b[0m\u001b[0;34m.\u001b[0m\u001b[0mepsilon\u001b[0m\u001b[0;34m.\u001b[0m\u001b[0mnumpy\u001b[0m\u001b[0;34m(\u001b[0m\u001b[0;34m)\u001b[0m\u001b[0;34m}\u001b[0m\u001b[0;34m)\u001b[0m\u001b[0;34m\u001b[0m\u001b[0;34m\u001b[0m\u001b[0m\n",
      "\u001b[0;31mNameError\u001b[0m: name 'times_Z' is not defined"
     ]
    }
   ],
   "source": [
    "my_df.loc[len(my_df.index)] = (\"SGPR\", 500, True, 0.1, None, 200, times_Z, elbos_Z, accuracies_Z, {\"kernel variance\": m_SGPR_Z.kernel.variance.numpy(), \"kernel lengthscale\": m_SGPR_Z.kernel.lengthscales.numpy(), \"likelihood variance\": m_SGPR_Z.likelihood.variance.numpy()})\n",
    "\n",
    "my_df.loc[len(my_df.index)] = (\"SGPR\", 500, False, 0.1, None, 200, times, elbos, accuracies, {\"kernel variance\": m_SGPR.kernel.variance.numpy(), \"kernel lengthscale\": m_SGPR.kernel.lengthscales.numpy(), \"likelihood variance\": m_SGPR.likelihood.variance.numpy()})\n",
    "\n",
    "my_df.loc[len(my_df.index)] = (\"SVGP\", 500, False, 0.1, 500, 10000, times_SVGP, elbos_SVGP, accuracies_SVGP, {\"kernel variance\": m_SVGP.kernel.variance.numpy(), \"kernel lengthscale\": m_SVGP.kernel.lengthscales.numpy(), \"likelihood variance\": m_SVGP.likelihood.invlink.epsilon.numpy()})\n",
    "\n",
    "\n",
    "my_df"
   ]
  },
  {
   "cell_type": "code",
   "execution_count": 8,
   "metadata": {},
   "outputs": [
    {
     "name": "stderr",
     "output_type": "stream",
     "text": [
      "2022-05-04 17:01:03.401936: I tensorflow/core/platform/cpu_feature_guard.cc:142] This TensorFlow binary is optimized with oneAPI Deep Neural Network Library (oneDNN) to use the following CPU instructions in performance-critical operations:  AVX2 FMA\n",
      "To enable them in other operations, rebuild TensorFlow with the appropriate compiler flags.\n",
      "2022-05-04 17:01:03.520203: W tensorflow/python/util/util.cc:348] Sets are not currently considered sequences, but this may change in the future, so consider avoiding using them.\n"
     ]
    },
    {
     "name": "stdout",
     "output_type": "stream",
     "text": [
      "<ShuffleDataset shapes: ((784,), (1,)), types: (tf.float64, tf.uint8)>\n"
     ]
    },
    {
     "ename": "ValueError",
     "evalue": "in user code:\n\n    /Users/jacob/Programming/GPflow/gpflow/models/training_mixins.py:99 training_loss  *\n        return self._training_loss(data)\n    /Users/jacob/Programming/GPflow/gpflow/models/model.py:56 _training_loss  *\n        return -(self.maximum_log_likelihood_objective(*args, **kwargs) + self.log_prior_density())\n    /Users/jacob/Programming/GPflow/gpflow/models/svgp.py:139 maximum_log_likelihood_objective  *\n        return self.elbo(data)\n    /Users/jacob/Programming/GPflow/gpflow/models/svgp.py:149 elbo  *\n        var_exp = self.likelihood.variational_expectations(f_mean, f_var, Y)\n    /Users/jacob/Programming/GPflow/gpflow/likelihoods/base.py:288 variational_expectations  *\n        self._check_last_dims_valid(Fmu, Y)\n    /Users/jacob/Programming/GPflow/gpflow/likelihoods/base.py:448 _check_last_dims_valid  *\n        tf.debugging.assert_shapes([(F, (..., \"num_latent\")), (Y, (..., \"num_latent\"))])\n    /Users/jacob/opt/anaconda3/lib/python3.8/site-packages/tensorflow/python/util/dispatch.py:206 wrapper  **\n        return target(*args, **kwargs)\n    /Users/jacob/opt/anaconda3/lib/python3.8/site-packages/tensorflow/python/ops/check_ops.py:1762 assert_shapes_v2\n        assert_shapes(\n    /Users/jacob/opt/anaconda3/lib/python3.8/site-packages/tensorflow/python/util/dispatch.py:206 wrapper\n        return target(*args, **kwargs)\n    /Users/jacob/opt/anaconda3/lib/python3.8/site-packages/tensorflow/python/ops/check_ops.py:1986 assert_shapes\n        raise ValueError(\n\n    ValueError: .  Specified by tensor add_8:0 dimension -1.  Tensor data_1:0 dimension -1 must have size 10.  Received size 1, shape (None, 1)\n",
     "output_type": "error",
     "traceback": [
      "\u001b[0;31m---------------------------------------------------------------------------\u001b[0m",
      "\u001b[0;31mValueError\u001b[0m                                Traceback (most recent call last)",
      "\u001b[0;32m/var/folders/hf/nwz23j_d1dx_8v_yxrw0v_vh0000gn/T/ipykernel_79686/765130650.py\u001b[0m in \u001b[0;36m<module>\u001b[0;34m\u001b[0m\n\u001b[1;32m     95\u001b[0m \u001b[0;34m\u001b[0m\u001b[0m\n\u001b[1;32m     96\u001b[0m \u001b[0;31m#* Optimise\u001b[0m\u001b[0;34m\u001b[0m\u001b[0;34m\u001b[0m\u001b[0;34m\u001b[0m\u001b[0m\n\u001b[0;32m---> 97\u001b[0;31m \u001b[0mrun_adam\u001b[0m\u001b[0;34m(\u001b[0m\u001b[0;36m5000\u001b[0m\u001b[0;34m)\u001b[0m\u001b[0;34m\u001b[0m\u001b[0;34m\u001b[0m\u001b[0m\n\u001b[0m\u001b[1;32m     98\u001b[0m \u001b[0;34m\u001b[0m\u001b[0m\n\u001b[1;32m     99\u001b[0m \u001b[0;34m\u001b[0m\u001b[0m\n",
      "\u001b[0;32m/var/folders/hf/nwz23j_d1dx_8v_yxrw0v_vh0000gn/T/ipykernel_79686/765130650.py\u001b[0m in \u001b[0;36mrun_adam\u001b[0;34m(iterations)\u001b[0m\n\u001b[1;32m     83\u001b[0m     \u001b[0;32mfor\u001b[0m \u001b[0mi\u001b[0m \u001b[0;32min\u001b[0m \u001b[0mrange\u001b[0m\u001b[0;34m(\u001b[0m\u001b[0miterations\u001b[0m\u001b[0;34m)\u001b[0m\u001b[0;34m:\u001b[0m\u001b[0;34m\u001b[0m\u001b[0;34m\u001b[0m\u001b[0m\n\u001b[1;32m     84\u001b[0m         \u001b[0mprint\u001b[0m\u001b[0;34m(\u001b[0m\u001b[0mtrain_dataset\u001b[0m\u001b[0;34m)\u001b[0m\u001b[0;34m\u001b[0m\u001b[0;34m\u001b[0m\u001b[0m\n\u001b[0;32m---> 85\u001b[0;31m         opt.minimize(\n\u001b[0m\u001b[1;32m     86\u001b[0m             \u001b[0mtraining_loss\u001b[0m\u001b[0;34m,\u001b[0m\u001b[0;34m\u001b[0m\u001b[0;34m\u001b[0m\u001b[0m\n\u001b[1;32m     87\u001b[0m             \u001b[0mm\u001b[0m\u001b[0;34m.\u001b[0m\u001b[0mtrainable_variables\u001b[0m\u001b[0;34m,\u001b[0m\u001b[0;34m\u001b[0m\u001b[0;34m\u001b[0m\u001b[0m\n",
      "\u001b[0;32m~/opt/anaconda3/lib/python3.8/site-packages/keras/optimizer_v2/optimizer_v2.py\u001b[0m in \u001b[0;36mminimize\u001b[0;34m(self, loss, var_list, grad_loss, name, tape)\u001b[0m\n\u001b[1;32m    518\u001b[0m \u001b[0;34m\u001b[0m\u001b[0m\n\u001b[1;32m    519\u001b[0m     \"\"\"\n\u001b[0;32m--> 520\u001b[0;31m     grads_and_vars = self._compute_gradients(\n\u001b[0m\u001b[1;32m    521\u001b[0m         loss, var_list=var_list, grad_loss=grad_loss, tape=tape)\n\u001b[1;32m    522\u001b[0m     \u001b[0;32mreturn\u001b[0m \u001b[0mself\u001b[0m\u001b[0;34m.\u001b[0m\u001b[0mapply_gradients\u001b[0m\u001b[0;34m(\u001b[0m\u001b[0mgrads_and_vars\u001b[0m\u001b[0;34m,\u001b[0m \u001b[0mname\u001b[0m\u001b[0;34m=\u001b[0m\u001b[0mname\u001b[0m\u001b[0;34m)\u001b[0m\u001b[0;34m\u001b[0m\u001b[0;34m\u001b[0m\u001b[0m\n",
      "\u001b[0;32m~/opt/anaconda3/lib/python3.8/site-packages/keras/optimizer_v2/optimizer_v2.py\u001b[0m in \u001b[0;36m_compute_gradients\u001b[0;34m(self, loss, var_list, grad_loss, tape)\u001b[0m\n\u001b[1;32m    561\u001b[0m         \u001b[0;32mif\u001b[0m \u001b[0;32mnot\u001b[0m \u001b[0mcallable\u001b[0m\u001b[0;34m(\u001b[0m\u001b[0mvar_list\u001b[0m\u001b[0;34m)\u001b[0m\u001b[0;34m:\u001b[0m\u001b[0;34m\u001b[0m\u001b[0;34m\u001b[0m\u001b[0m\n\u001b[1;32m    562\u001b[0m           \u001b[0mtape\u001b[0m\u001b[0;34m.\u001b[0m\u001b[0mwatch\u001b[0m\u001b[0;34m(\u001b[0m\u001b[0mvar_list\u001b[0m\u001b[0;34m)\u001b[0m\u001b[0;34m\u001b[0m\u001b[0;34m\u001b[0m\u001b[0m\n\u001b[0;32m--> 563\u001b[0;31m         \u001b[0mloss\u001b[0m \u001b[0;34m=\u001b[0m \u001b[0mloss\u001b[0m\u001b[0;34m(\u001b[0m\u001b[0;34m)\u001b[0m\u001b[0;34m\u001b[0m\u001b[0;34m\u001b[0m\u001b[0m\n\u001b[0m\u001b[1;32m    564\u001b[0m         \u001b[0;32mif\u001b[0m \u001b[0mcallable\u001b[0m\u001b[0;34m(\u001b[0m\u001b[0mvar_list\u001b[0m\u001b[0;34m)\u001b[0m\u001b[0;34m:\u001b[0m\u001b[0;34m\u001b[0m\u001b[0;34m\u001b[0m\u001b[0m\n\u001b[1;32m    565\u001b[0m           \u001b[0mvar_list\u001b[0m \u001b[0;34m=\u001b[0m \u001b[0mvar_list\u001b[0m\u001b[0;34m(\u001b[0m\u001b[0;34m)\u001b[0m\u001b[0;34m\u001b[0m\u001b[0;34m\u001b[0m\u001b[0m\n",
      "\u001b[0;32m~/Programming/GPflow/gpflow/models/training_mixins.py\u001b[0m in \u001b[0;36mclosure\u001b[0;34m()\u001b[0m\n\u001b[1;32m    124\u001b[0m             \u001b[0;32mdef\u001b[0m \u001b[0mclosure\u001b[0m\u001b[0;34m(\u001b[0m\u001b[0;34m)\u001b[0m\u001b[0;34m:\u001b[0m\u001b[0;34m\u001b[0m\u001b[0;34m\u001b[0m\u001b[0m\n\u001b[1;32m    125\u001b[0m                 \u001b[0mbatch\u001b[0m \u001b[0;34m=\u001b[0m \u001b[0mnext\u001b[0m\u001b[0;34m(\u001b[0m\u001b[0mdata\u001b[0m\u001b[0;34m)\u001b[0m\u001b[0;34m\u001b[0m\u001b[0;34m\u001b[0m\u001b[0m\n\u001b[0;32m--> 126\u001b[0;31m                 \u001b[0;32mreturn\u001b[0m \u001b[0mtraining_loss\u001b[0m\u001b[0;34m(\u001b[0m\u001b[0mbatch\u001b[0m\u001b[0;34m)\u001b[0m\u001b[0;34m\u001b[0m\u001b[0;34m\u001b[0m\u001b[0m\n\u001b[0m\u001b[1;32m    127\u001b[0m \u001b[0;34m\u001b[0m\u001b[0m\n\u001b[1;32m    128\u001b[0m         \u001b[0;32melse\u001b[0m\u001b[0;34m:\u001b[0m\u001b[0;34m\u001b[0m\u001b[0;34m\u001b[0m\u001b[0m\n",
      "\u001b[0;32m~/opt/anaconda3/lib/python3.8/site-packages/tensorflow/python/eager/def_function.py\u001b[0m in \u001b[0;36m__call__\u001b[0;34m(self, *args, **kwds)\u001b[0m\n\u001b[1;32m    883\u001b[0m \u001b[0;34m\u001b[0m\u001b[0m\n\u001b[1;32m    884\u001b[0m       \u001b[0;32mwith\u001b[0m \u001b[0mOptionalXlaContext\u001b[0m\u001b[0;34m(\u001b[0m\u001b[0mself\u001b[0m\u001b[0;34m.\u001b[0m\u001b[0m_jit_compile\u001b[0m\u001b[0;34m)\u001b[0m\u001b[0;34m:\u001b[0m\u001b[0;34m\u001b[0m\u001b[0;34m\u001b[0m\u001b[0m\n\u001b[0;32m--> 885\u001b[0;31m         \u001b[0mresult\u001b[0m \u001b[0;34m=\u001b[0m \u001b[0mself\u001b[0m\u001b[0;34m.\u001b[0m\u001b[0m_call\u001b[0m\u001b[0;34m(\u001b[0m\u001b[0;34m*\u001b[0m\u001b[0margs\u001b[0m\u001b[0;34m,\u001b[0m \u001b[0;34m**\u001b[0m\u001b[0mkwds\u001b[0m\u001b[0;34m)\u001b[0m\u001b[0;34m\u001b[0m\u001b[0;34m\u001b[0m\u001b[0m\n\u001b[0m\u001b[1;32m    886\u001b[0m \u001b[0;34m\u001b[0m\u001b[0m\n\u001b[1;32m    887\u001b[0m       \u001b[0mnew_tracing_count\u001b[0m \u001b[0;34m=\u001b[0m \u001b[0mself\u001b[0m\u001b[0;34m.\u001b[0m\u001b[0mexperimental_get_tracing_count\u001b[0m\u001b[0;34m(\u001b[0m\u001b[0;34m)\u001b[0m\u001b[0;34m\u001b[0m\u001b[0;34m\u001b[0m\u001b[0m\n",
      "\u001b[0;32m~/opt/anaconda3/lib/python3.8/site-packages/tensorflow/python/eager/def_function.py\u001b[0m in \u001b[0;36m_call\u001b[0;34m(self, *args, **kwds)\u001b[0m\n\u001b[1;32m    931\u001b[0m       \u001b[0;31m# This is the first call of __call__, so we have to initialize.\u001b[0m\u001b[0;34m\u001b[0m\u001b[0;34m\u001b[0m\u001b[0;34m\u001b[0m\u001b[0m\n\u001b[1;32m    932\u001b[0m       \u001b[0minitializers\u001b[0m \u001b[0;34m=\u001b[0m \u001b[0;34m[\u001b[0m\u001b[0;34m]\u001b[0m\u001b[0;34m\u001b[0m\u001b[0;34m\u001b[0m\u001b[0m\n\u001b[0;32m--> 933\u001b[0;31m       \u001b[0mself\u001b[0m\u001b[0;34m.\u001b[0m\u001b[0m_initialize\u001b[0m\u001b[0;34m(\u001b[0m\u001b[0margs\u001b[0m\u001b[0;34m,\u001b[0m \u001b[0mkwds\u001b[0m\u001b[0;34m,\u001b[0m \u001b[0madd_initializers_to\u001b[0m\u001b[0;34m=\u001b[0m\u001b[0minitializers\u001b[0m\u001b[0;34m)\u001b[0m\u001b[0;34m\u001b[0m\u001b[0;34m\u001b[0m\u001b[0m\n\u001b[0m\u001b[1;32m    934\u001b[0m     \u001b[0;32mfinally\u001b[0m\u001b[0;34m:\u001b[0m\u001b[0;34m\u001b[0m\u001b[0;34m\u001b[0m\u001b[0m\n\u001b[1;32m    935\u001b[0m       \u001b[0;31m# At this point we know that the initialization is complete (or less\u001b[0m\u001b[0;34m\u001b[0m\u001b[0;34m\u001b[0m\u001b[0;34m\u001b[0m\u001b[0m\n",
      "\u001b[0;32m~/opt/anaconda3/lib/python3.8/site-packages/tensorflow/python/eager/def_function.py\u001b[0m in \u001b[0;36m_initialize\u001b[0;34m(self, args, kwds, add_initializers_to)\u001b[0m\n\u001b[1;32m    757\u001b[0m     \u001b[0mself\u001b[0m\u001b[0;34m.\u001b[0m\u001b[0m_graph_deleter\u001b[0m \u001b[0;34m=\u001b[0m \u001b[0mFunctionDeleter\u001b[0m\u001b[0;34m(\u001b[0m\u001b[0mself\u001b[0m\u001b[0;34m.\u001b[0m\u001b[0m_lifted_initializer_graph\u001b[0m\u001b[0;34m)\u001b[0m\u001b[0;34m\u001b[0m\u001b[0;34m\u001b[0m\u001b[0m\n\u001b[1;32m    758\u001b[0m     self._concrete_stateful_fn = (\n\u001b[0;32m--> 759\u001b[0;31m         self._stateful_fn._get_concrete_function_internal_garbage_collected(  # pylint: disable=protected-access\n\u001b[0m\u001b[1;32m    760\u001b[0m             *args, **kwds))\n\u001b[1;32m    761\u001b[0m \u001b[0;34m\u001b[0m\u001b[0m\n",
      "\u001b[0;32m~/opt/anaconda3/lib/python3.8/site-packages/tensorflow/python/eager/function.py\u001b[0m in \u001b[0;36m_get_concrete_function_internal_garbage_collected\u001b[0;34m(self, *args, **kwargs)\u001b[0m\n\u001b[1;32m   3064\u001b[0m       \u001b[0margs\u001b[0m\u001b[0;34m,\u001b[0m \u001b[0mkwargs\u001b[0m \u001b[0;34m=\u001b[0m \u001b[0;32mNone\u001b[0m\u001b[0;34m,\u001b[0m \u001b[0;32mNone\u001b[0m\u001b[0;34m\u001b[0m\u001b[0;34m\u001b[0m\u001b[0m\n\u001b[1;32m   3065\u001b[0m     \u001b[0;32mwith\u001b[0m \u001b[0mself\u001b[0m\u001b[0;34m.\u001b[0m\u001b[0m_lock\u001b[0m\u001b[0;34m:\u001b[0m\u001b[0;34m\u001b[0m\u001b[0;34m\u001b[0m\u001b[0m\n\u001b[0;32m-> 3066\u001b[0;31m       \u001b[0mgraph_function\u001b[0m\u001b[0;34m,\u001b[0m \u001b[0m_\u001b[0m \u001b[0;34m=\u001b[0m \u001b[0mself\u001b[0m\u001b[0;34m.\u001b[0m\u001b[0m_maybe_define_function\u001b[0m\u001b[0;34m(\u001b[0m\u001b[0margs\u001b[0m\u001b[0;34m,\u001b[0m \u001b[0mkwargs\u001b[0m\u001b[0;34m)\u001b[0m\u001b[0;34m\u001b[0m\u001b[0;34m\u001b[0m\u001b[0m\n\u001b[0m\u001b[1;32m   3067\u001b[0m     \u001b[0;32mreturn\u001b[0m \u001b[0mgraph_function\u001b[0m\u001b[0;34m\u001b[0m\u001b[0;34m\u001b[0m\u001b[0m\n\u001b[1;32m   3068\u001b[0m \u001b[0;34m\u001b[0m\u001b[0m\n",
      "\u001b[0;32m~/opt/anaconda3/lib/python3.8/site-packages/tensorflow/python/eager/function.py\u001b[0m in \u001b[0;36m_maybe_define_function\u001b[0;34m(self, args, kwargs)\u001b[0m\n\u001b[1;32m   3461\u001b[0m \u001b[0;34m\u001b[0m\u001b[0m\n\u001b[1;32m   3462\u001b[0m           \u001b[0mself\u001b[0m\u001b[0;34m.\u001b[0m\u001b[0m_function_cache\u001b[0m\u001b[0;34m.\u001b[0m\u001b[0mmissed\u001b[0m\u001b[0;34m.\u001b[0m\u001b[0madd\u001b[0m\u001b[0;34m(\u001b[0m\u001b[0mcall_context_key\u001b[0m\u001b[0;34m)\u001b[0m\u001b[0;34m\u001b[0m\u001b[0;34m\u001b[0m\u001b[0m\n\u001b[0;32m-> 3463\u001b[0;31m           \u001b[0mgraph_function\u001b[0m \u001b[0;34m=\u001b[0m \u001b[0mself\u001b[0m\u001b[0;34m.\u001b[0m\u001b[0m_create_graph_function\u001b[0m\u001b[0;34m(\u001b[0m\u001b[0margs\u001b[0m\u001b[0;34m,\u001b[0m \u001b[0mkwargs\u001b[0m\u001b[0;34m)\u001b[0m\u001b[0;34m\u001b[0m\u001b[0;34m\u001b[0m\u001b[0m\n\u001b[0m\u001b[1;32m   3464\u001b[0m           \u001b[0mself\u001b[0m\u001b[0;34m.\u001b[0m\u001b[0m_function_cache\u001b[0m\u001b[0;34m.\u001b[0m\u001b[0mprimary\u001b[0m\u001b[0;34m[\u001b[0m\u001b[0mcache_key\u001b[0m\u001b[0;34m]\u001b[0m \u001b[0;34m=\u001b[0m \u001b[0mgraph_function\u001b[0m\u001b[0;34m\u001b[0m\u001b[0;34m\u001b[0m\u001b[0m\n\u001b[1;32m   3465\u001b[0m \u001b[0;34m\u001b[0m\u001b[0m\n",
      "\u001b[0;32m~/opt/anaconda3/lib/python3.8/site-packages/tensorflow/python/eager/function.py\u001b[0m in \u001b[0;36m_create_graph_function\u001b[0;34m(self, args, kwargs, override_flat_arg_shapes)\u001b[0m\n\u001b[1;32m   3296\u001b[0m     \u001b[0marg_names\u001b[0m \u001b[0;34m=\u001b[0m \u001b[0mbase_arg_names\u001b[0m \u001b[0;34m+\u001b[0m \u001b[0mmissing_arg_names\u001b[0m\u001b[0;34m\u001b[0m\u001b[0;34m\u001b[0m\u001b[0m\n\u001b[1;32m   3297\u001b[0m     graph_function = ConcreteFunction(\n\u001b[0;32m-> 3298\u001b[0;31m         func_graph_module.func_graph_from_py_func(\n\u001b[0m\u001b[1;32m   3299\u001b[0m             \u001b[0mself\u001b[0m\u001b[0;34m.\u001b[0m\u001b[0m_name\u001b[0m\u001b[0;34m,\u001b[0m\u001b[0;34m\u001b[0m\u001b[0;34m\u001b[0m\u001b[0m\n\u001b[1;32m   3300\u001b[0m             \u001b[0mself\u001b[0m\u001b[0;34m.\u001b[0m\u001b[0m_python_function\u001b[0m\u001b[0;34m,\u001b[0m\u001b[0;34m\u001b[0m\u001b[0;34m\u001b[0m\u001b[0m\n",
      "\u001b[0;32m~/opt/anaconda3/lib/python3.8/site-packages/tensorflow/python/framework/func_graph.py\u001b[0m in \u001b[0;36mfunc_graph_from_py_func\u001b[0;34m(name, python_func, args, kwargs, signature, func_graph, autograph, autograph_options, add_control_dependencies, arg_names, op_return_value, collections, capture_by_value, override_flat_arg_shapes, acd_record_initial_resource_uses)\u001b[0m\n\u001b[1;32m   1005\u001b[0m         \u001b[0m_\u001b[0m\u001b[0;34m,\u001b[0m \u001b[0moriginal_func\u001b[0m \u001b[0;34m=\u001b[0m \u001b[0mtf_decorator\u001b[0m\u001b[0;34m.\u001b[0m\u001b[0munwrap\u001b[0m\u001b[0;34m(\u001b[0m\u001b[0mpython_func\u001b[0m\u001b[0;34m)\u001b[0m\u001b[0;34m\u001b[0m\u001b[0;34m\u001b[0m\u001b[0m\n\u001b[1;32m   1006\u001b[0m \u001b[0;34m\u001b[0m\u001b[0m\n\u001b[0;32m-> 1007\u001b[0;31m       \u001b[0mfunc_outputs\u001b[0m \u001b[0;34m=\u001b[0m \u001b[0mpython_func\u001b[0m\u001b[0;34m(\u001b[0m\u001b[0;34m*\u001b[0m\u001b[0mfunc_args\u001b[0m\u001b[0;34m,\u001b[0m \u001b[0;34m**\u001b[0m\u001b[0mfunc_kwargs\u001b[0m\u001b[0;34m)\u001b[0m\u001b[0;34m\u001b[0m\u001b[0;34m\u001b[0m\u001b[0m\n\u001b[0m\u001b[1;32m   1008\u001b[0m \u001b[0;34m\u001b[0m\u001b[0m\n\u001b[1;32m   1009\u001b[0m       \u001b[0;31m# invariant: `func_outputs` contains only Tensors, CompositeTensors,\u001b[0m\u001b[0;34m\u001b[0m\u001b[0;34m\u001b[0m\u001b[0;34m\u001b[0m\u001b[0m\n",
      "\u001b[0;32m~/opt/anaconda3/lib/python3.8/site-packages/tensorflow/python/eager/def_function.py\u001b[0m in \u001b[0;36mwrapped_fn\u001b[0;34m(*args, **kwds)\u001b[0m\n\u001b[1;32m    666\u001b[0m         \u001b[0;31m# the function a weak reference to itself to avoid a reference cycle.\u001b[0m\u001b[0;34m\u001b[0m\u001b[0;34m\u001b[0m\u001b[0;34m\u001b[0m\u001b[0m\n\u001b[1;32m    667\u001b[0m         \u001b[0;32mwith\u001b[0m \u001b[0mOptionalXlaContext\u001b[0m\u001b[0;34m(\u001b[0m\u001b[0mcompile_with_xla\u001b[0m\u001b[0;34m)\u001b[0m\u001b[0;34m:\u001b[0m\u001b[0;34m\u001b[0m\u001b[0;34m\u001b[0m\u001b[0m\n\u001b[0;32m--> 668\u001b[0;31m           \u001b[0mout\u001b[0m \u001b[0;34m=\u001b[0m \u001b[0mweak_wrapped_fn\u001b[0m\u001b[0;34m(\u001b[0m\u001b[0;34m)\u001b[0m\u001b[0;34m.\u001b[0m\u001b[0m__wrapped__\u001b[0m\u001b[0;34m(\u001b[0m\u001b[0;34m*\u001b[0m\u001b[0margs\u001b[0m\u001b[0;34m,\u001b[0m \u001b[0;34m**\u001b[0m\u001b[0mkwds\u001b[0m\u001b[0;34m)\u001b[0m\u001b[0;34m\u001b[0m\u001b[0;34m\u001b[0m\u001b[0m\n\u001b[0m\u001b[1;32m    669\u001b[0m         \u001b[0;32mreturn\u001b[0m \u001b[0mout\u001b[0m\u001b[0;34m\u001b[0m\u001b[0;34m\u001b[0m\u001b[0m\n\u001b[1;32m    670\u001b[0m \u001b[0;34m\u001b[0m\u001b[0m\n",
      "\u001b[0;32m~/opt/anaconda3/lib/python3.8/site-packages/tensorflow/python/framework/func_graph.py\u001b[0m in \u001b[0;36mwrapper\u001b[0;34m(*args, **kwargs)\u001b[0m\n\u001b[1;32m    992\u001b[0m           \u001b[0;32mexcept\u001b[0m \u001b[0mException\u001b[0m \u001b[0;32mas\u001b[0m \u001b[0me\u001b[0m\u001b[0;34m:\u001b[0m  \u001b[0;31m# pylint:disable=broad-except\u001b[0m\u001b[0;34m\u001b[0m\u001b[0;34m\u001b[0m\u001b[0m\n\u001b[1;32m    993\u001b[0m             \u001b[0;32mif\u001b[0m \u001b[0mhasattr\u001b[0m\u001b[0;34m(\u001b[0m\u001b[0me\u001b[0m\u001b[0;34m,\u001b[0m \u001b[0;34m\"ag_error_metadata\"\u001b[0m\u001b[0;34m)\u001b[0m\u001b[0;34m:\u001b[0m\u001b[0;34m\u001b[0m\u001b[0;34m\u001b[0m\u001b[0m\n\u001b[0;32m--> 994\u001b[0;31m               \u001b[0;32mraise\u001b[0m \u001b[0me\u001b[0m\u001b[0;34m.\u001b[0m\u001b[0mag_error_metadata\u001b[0m\u001b[0;34m.\u001b[0m\u001b[0mto_exception\u001b[0m\u001b[0;34m(\u001b[0m\u001b[0me\u001b[0m\u001b[0;34m)\u001b[0m\u001b[0;34m\u001b[0m\u001b[0;34m\u001b[0m\u001b[0m\n\u001b[0m\u001b[1;32m    995\u001b[0m             \u001b[0;32melse\u001b[0m\u001b[0;34m:\u001b[0m\u001b[0;34m\u001b[0m\u001b[0;34m\u001b[0m\u001b[0m\n\u001b[1;32m    996\u001b[0m               \u001b[0;32mraise\u001b[0m\u001b[0;34m\u001b[0m\u001b[0;34m\u001b[0m\u001b[0m\n",
      "\u001b[0;31mValueError\u001b[0m: in user code:\n\n    /Users/jacob/Programming/GPflow/gpflow/models/training_mixins.py:99 training_loss  *\n        return self._training_loss(data)\n    /Users/jacob/Programming/GPflow/gpflow/models/model.py:56 _training_loss  *\n        return -(self.maximum_log_likelihood_objective(*args, **kwargs) + self.log_prior_density())\n    /Users/jacob/Programming/GPflow/gpflow/models/svgp.py:139 maximum_log_likelihood_objective  *\n        return self.elbo(data)\n    /Users/jacob/Programming/GPflow/gpflow/models/svgp.py:149 elbo  *\n        var_exp = self.likelihood.variational_expectations(f_mean, f_var, Y)\n    /Users/jacob/Programming/GPflow/gpflow/likelihoods/base.py:288 variational_expectations  *\n        self._check_last_dims_valid(Fmu, Y)\n    /Users/jacob/Programming/GPflow/gpflow/likelihoods/base.py:448 _check_last_dims_valid  *\n        tf.debugging.assert_shapes([(F, (..., \"num_latent\")), (Y, (..., \"num_latent\"))])\n    /Users/jacob/opt/anaconda3/lib/python3.8/site-packages/tensorflow/python/util/dispatch.py:206 wrapper  **\n        return target(*args, **kwargs)\n    /Users/jacob/opt/anaconda3/lib/python3.8/site-packages/tensorflow/python/ops/check_ops.py:1762 assert_shapes_v2\n        assert_shapes(\n    /Users/jacob/opt/anaconda3/lib/python3.8/site-packages/tensorflow/python/util/dispatch.py:206 wrapper\n        return target(*args, **kwargs)\n    /Users/jacob/opt/anaconda3/lib/python3.8/site-packages/tensorflow/python/ops/check_ops.py:1986 assert_shapes\n        raise ValueError(\n\n    ValueError: .  Specified by tensor add_8:0 dimension -1.  Tensor data_1:0 dimension -1 must have size 10.  Received size 1, shape (None, 1)\n"
     ]
    }
   ],
   "source": [
    "x_train, x_test, y_train, y_test = load_dataset(\"mnist\", y_hot_encoding=False)\n",
    "\n",
    "data=(x_train, y_train)\n",
    "\n",
    "N = len(y_train)\n",
    "\n",
    "minibatch_size=500\n",
    "\n",
    "#* Number of inducing points\n",
    "M = 500\n",
    "Z = x_train[:M, :].copy()\n",
    "\n",
    "#* Number of classes for a classification dataset\n",
    "C = len(unique_labels(y_train))\n",
    "\n",
    "likelihood = gpflow.likelihoods.Gaussian()\n",
    "\n",
    "#* Kernel\n",
    "kernel = gpflow.kernels.SquaredExponential()\n",
    "\n",
    "#* Initialise the model\n",
    "m = gpflow.models.SVGP(\n",
    "        inducing_variable=Z,\n",
    "        kernel=kernel,\n",
    "        num_latent_gps=C,\n",
    "        likelihood=likelihood,\n",
    "        )\n",
    "\n",
    "#* Pick value for jitter\n",
    "jitter = 1e-3\n",
    "gpflow.config.set_default_jitter(jitter)\n",
    "\n",
    "#* Initialise hyperparams\n",
    "# m.likelihood.variance.assign(noi_SVGP)\n",
    "# # if likelihood==\"RobustMax\":\n",
    "# #     m.likelihood.invlink.epsilon.assign(initial_likelihood_hyperparameter)\n",
    "# m.kernel.variance.assign(var_SVGP)\n",
    "# m.kernel.lengthscales.assign(len_SVGP)\n",
    "\n",
    "#* Set trainable parameters\n",
    "gpflow.set_trainable(m.inducing_variable, False)\n",
    "gpflow.set_trainable(m.kernel, False)\n",
    "gpflow.set_trainable(m.likelihood, False)\n",
    "\n",
    "#* Optimiser object\n",
    "opt = tf.optimizers.Adam(0.1)\n",
    "\n",
    "#* List for ELBO values during \n",
    "elbo_logs = []\n",
    "accuracy_logs = []\n",
    "times = []\n",
    "\n",
    "#* Stopwatch instance\n",
    "watch = Stopwatch()\n",
    "watch.reset()\n",
    "\n",
    "#* Number of logs to make during optimisation\n",
    "n_logs = 200\n",
    "\n",
    "def log_opt():\n",
    "    \"\"\"\n",
    "    Utility function to log the elbo score for each iteration during optimisaiton.\n",
    "\n",
    "    Args:\n",
    "        x\n",
    "    \"\"\"\n",
    "    watch.stop()\n",
    "    ELBO =  m.elbo(data)\n",
    "    elbo_logs.append(float(ELBO))\n",
    "    times.append(watch.read_time())\n",
    "    y_pred, var = m.predict_y(x_test)\n",
    "    y_pred_labels = np.argmax(y_pred, axis=1).reshape(-1, 1)\n",
    "    accuracy_logs.append(accuracy_score(y_test, y_pred_labels))\n",
    "    watch.start()\n",
    "    \n",
    "    #// logs.append(float(m.log_marginal_likelihood()))\n",
    "\n",
    "train_dataset = tf.data.Dataset.from_tensor_slices((data)).repeat().shuffle(N)\n",
    "train_iter = iter(train_dataset.batch(minibatch_size))\n",
    "training_loss = m.training_loss_closure(train_iter, compile=True)\n",
    "\n",
    "def run_adam(iterations):\n",
    "    for i in range(iterations):\n",
    "        print(train_dataset)\n",
    "        opt.minimize(\n",
    "            training_loss,\n",
    "            m.trainable_variables,\n",
    "            )\n",
    "        freq = iterations//n_logs \n",
    "        if i % freq == 0:  #-- only log every freq iterations\n",
    "            log_opt()\n",
    "\n",
    "watch.start()  # --Start the watch\n",
    "\n",
    "\n",
    "#* Optimise\n",
    "run_adam(5000)\n",
    "\n",
    "\n",
    "watch.stop() # --Stop the watch for the final time\n",
    "print(\"Model: {}\".format(\"SVGP\"))\n",
    "print(\"Number of inducing points: {}\".format(500))\n",
    "print(\"Total time for optimisation: {} seconds\".format(watch.read_time()))\n",
    "gpflow.utilities.print_summary(m, fmt=\"notebook\")\n",
    "\n",
    "\n",
    "final_hyperparams = {\n",
    "    \"kernel variance\": m.kernel.variance.numpy(),\n",
    "    \"kernel lengthscale\": m.kernel.lengthscales.numpy(),\n",
    "    \"likelihood variance\": m.likelihood.variance.numpy(),\n",
    "    \"inducing locations\": m.inducing_variable.Z.numpy(),\n",
    "}"
   ]
  }
 ],
 "metadata": {
  "interpreter": {
   "hash": "e23cd63839a24d10844f2bf3826d14df851b4825174cb3cdb62e15bac83a1cc5"
  },
  "kernelspec": {
   "display_name": "Python 3.8.8 ('base')",
   "language": "python",
   "name": "python3"
  },
  "language_info": {
   "codemirror_mode": {
    "name": "ipython",
    "version": 3
   },
   "file_extension": ".py",
   "mimetype": "text/x-python",
   "name": "python",
   "nbconvert_exporter": "python",
   "pygments_lexer": "ipython3",
   "version": "3.8.8"
  },
  "orig_nbformat": 4
 },
 "nbformat": 4,
 "nbformat_minor": 2
}
